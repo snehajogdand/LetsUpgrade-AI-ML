{
 "cells": [
  {
   "cell_type": "raw",
   "metadata": {},
   "source": [
    "Twitter Developer Account is asking for very permission and other things so I will use all information that\n",
    "Dr.Darshan Ingale sir used"
   ]
  },
  {
   "cell_type": "code",
   "execution_count": 1,
   "metadata": {},
   "outputs": [
    {
     "name": "stdout",
     "output_type": "stream",
     "text": [
      "Collecting tweepy\n",
      "  Downloading tweepy-3.9.0-py2.py3-none-any.whl (30 kB)\n",
      "Requirement already satisfied: requests[socks]>=2.11.1 in d:\\anaconda\\lib\\site-packages (from tweepy) (2.22.0)\n",
      "Requirement already satisfied: six>=1.10.0 in d:\\anaconda\\lib\\site-packages (from tweepy) (1.14.0)\n",
      "Collecting requests-oauthlib>=0.7.0\n",
      "  Downloading requests_oauthlib-1.3.0-py2.py3-none-any.whl (23 kB)\n",
      "Requirement already satisfied: urllib3!=1.25.0,!=1.25.1,<1.26,>=1.21.1 in d:\\anaconda\\lib\\site-packages (from requests[socks]>=2.11.1->tweepy) (1.25.8)\n",
      "Requirement already satisfied: idna<2.9,>=2.5 in d:\\anaconda\\lib\\site-packages (from requests[socks]>=2.11.1->tweepy) (2.8)\n",
      "Requirement already satisfied: certifi>=2017.4.17 in d:\\anaconda\\lib\\site-packages (from requests[socks]>=2.11.1->tweepy) (2019.11.28)\n",
      "Requirement already satisfied: chardet<3.1.0,>=3.0.2 in d:\\anaconda\\lib\\site-packages (from requests[socks]>=2.11.1->tweepy) (3.0.4)\n",
      "Requirement already satisfied: PySocks!=1.5.7,>=1.5.6; extra == \"socks\" in d:\\anaconda\\lib\\site-packages (from requests[socks]>=2.11.1->tweepy) (1.7.1)\n",
      "Collecting oauthlib>=3.0.0\n",
      "  Downloading oauthlib-3.1.0-py2.py3-none-any.whl (147 kB)\n",
      "Installing collected packages: oauthlib, requests-oauthlib, tweepy\n",
      "Successfully installed oauthlib-3.1.0 requests-oauthlib-1.3.0 tweepy-3.9.0\n"
     ]
    }
   ],
   "source": [
    "!pip install tweepy"
   ]
  },
  {
   "cell_type": "code",
   "execution_count": 2,
   "metadata": {},
   "outputs": [
    {
     "name": "stdout",
     "output_type": "stream",
     "text": [
      "Requirement already satisfied: openpyxl in d:\\anaconda\\lib\\site-packages (3.0.3)\n",
      "Requirement already satisfied: jdcal in d:\\anaconda\\lib\\site-packages (from openpyxl) (1.4.1)\n",
      "Requirement already satisfied: et-xmlfile in d:\\anaconda\\lib\\site-packages (from openpyxl) (1.0.1)\n"
     ]
    }
   ],
   "source": [
    "!pip install openpyxl"
   ]
  },
  {
   "cell_type": "code",
   "execution_count": 5,
   "metadata": {},
   "outputs": [],
   "source": [
    "import numpy as np\n",
    "import pandas as pd\n",
    "import tweepy\n",
    "import json\n",
    "from tweepy import OAuthHandler"
   ]
  },
  {
   "cell_type": "code",
   "execution_count": 6,
   "metadata": {},
   "outputs": [],
   "source": [
    "consumer_key = \"LzsCOl12ZZ79FObx7BV9a1R3a\"\n",
    "consumer_secret = \"gODxZ1kHJHDGgYfyP12AUN37UTlDd6yn3OsSV9Tl0iwu0K0cRY\"\n",
    "access_token = \"296102538-kYIK8SULCmRK4vgvYD2DhKbwvSXrgTdTkWh0Nvsp\"\n",
    "access_token_secret = \"Ib9obwgcE5tZk4S6tY5rAqI5iXOeJc9FGFg28qHoa4YpP\""
   ]
  },
  {
   "cell_type": "code",
   "execution_count": 7,
   "metadata": {},
   "outputs": [],
   "source": [
    "auth = tweepy.OAuthHandler( consumer_key , consumer_secret )\n",
    "auth.set_access_token( access_token , access_token_secret )\n",
    "api = tweepy.API(auth)"
   ]
  },
  {
   "cell_type": "code",
   "execution_count": 8,
   "metadata": {},
   "outputs": [],
   "source": [
    "query = \"RCB winning IPL\""
   ]
  },
  {
   "cell_type": "code",
   "execution_count": 9,
   "metadata": {},
   "outputs": [
    {
     "name": "stdout",
     "output_type": "stream",
     "text": [
      "Status(_api=<tweepy.api.API object at 0x0000029C5BEE5CC8>, _json={'created_at': 'Wed Nov 04 13:44:50 +0000 2020', 'id': 1323984553577381888, 'id_str': '1323984553577381888', 'full_text': '@vishwajeet_rd Same, exactly same. Although feel MI is the most deserving team, just don’t want the hegemony of one franchise. RCB because still don’t see them worthy for cricket they played (even if they win). DC winning will be great as we’ll have a new champion &amp; SRH is kiwis to me of IPL. https://t.co/JO6eoepExE', 'truncated': False, 'display_text_range': [15, 297], 'entities': {'hashtags': [], 'symbols': [], 'user_mentions': [{'screen_name': 'vishwajeet_rd', 'name': 'Vishwajeet Singh', 'id': 832786063, 'id_str': '832786063', 'indices': [0, 14]}], 'urls': [], 'media': [{'id': 1323984543678783491, 'id_str': '1323984543678783491', 'indices': [298, 321], 'media_url': 'http://pbs.twimg.com/tweet_video_thumb/El-87X4U4AMBd-Z.jpg', 'media_url_https': 'https://pbs.twimg.com/tweet_video_thumb/El-87X4U4AMBd-Z.jpg', 'url': 'https://t.co/JO6eoepExE', 'display_url': 'pic.twitter.com/JO6eoepExE', 'expanded_url': 'https://twitter.com/cricketesque/status/1323984553577381888/photo/1', 'type': 'photo', 'sizes': {'thumb': {'w': 150, 'h': 150, 'resize': 'crop'}, 'medium': {'w': 330, 'h': 184, 'resize': 'fit'}, 'small': {'w': 330, 'h': 184, 'resize': 'fit'}, 'large': {'w': 330, 'h': 184, 'resize': 'fit'}}}]}, 'extended_entities': {'media': [{'id': 1323984543678783491, 'id_str': '1323984543678783491', 'indices': [298, 321], 'media_url': 'http://pbs.twimg.com/tweet_video_thumb/El-87X4U4AMBd-Z.jpg', 'media_url_https': 'https://pbs.twimg.com/tweet_video_thumb/El-87X4U4AMBd-Z.jpg', 'url': 'https://t.co/JO6eoepExE', 'display_url': 'pic.twitter.com/JO6eoepExE', 'expanded_url': 'https://twitter.com/cricketesque/status/1323984553577381888/photo/1', 'type': 'animated_gif', 'sizes': {'thumb': {'w': 150, 'h': 150, 'resize': 'crop'}, 'medium': {'w': 330, 'h': 184, 'resize': 'fit'}, 'small': {'w': 330, 'h': 184, 'resize': 'fit'}, 'large': {'w': 330, 'h': 184, 'resize': 'fit'}}, 'video_info': {'aspect_ratio': [165, 92], 'variants': [{'bitrate': 0, 'content_type': 'video/mp4', 'url': 'https://video.twimg.com/tweet_video/El-87X4U4AMBd-Z.mp4'}]}}]}, 'metadata': {'iso_language_code': 'en', 'result_type': 'recent'}, 'source': '<a href=\"http://twitter.com/#!/download/ipad\" rel=\"nofollow\">Twitter for iPad</a>', 'in_reply_to_status_id': 1323983110891954178, 'in_reply_to_status_id_str': '1323983110891954178', 'in_reply_to_user_id': 832786063, 'in_reply_to_user_id_str': '832786063', 'in_reply_to_screen_name': 'vishwajeet_rd', 'user': {'id': 352420111, 'id_str': '352420111', 'name': 'Abhishek Kumar Singh', 'screen_name': 'cricketesque', 'location': 'Privileges', 'description': 'was/were 🌚 Cricket IT Cell 🏏 गाय हमारी माता है, हमको कुछ नहीं आता है 👻 दुनिया जलती है तो जले, माचिस चाहिए तो मै देता हू 🙂 Can we cry together?', 'url': None, 'entities': {'description': {'urls': []}}, 'protected': False, 'followers_count': 234, 'friends_count': 536, 'listed_count': 5, 'created_at': 'Wed Aug 10 16:03:24 +0000 2011', 'favourites_count': 7424, 'utc_offset': None, 'time_zone': None, 'geo_enabled': True, 'verified': False, 'statuses_count': 3935, 'lang': None, 'contributors_enabled': False, 'is_translator': False, 'is_translation_enabled': False, 'profile_background_color': '0099B9', 'profile_background_image_url': 'http://abs.twimg.com/images/themes/theme4/bg.gif', 'profile_background_image_url_https': 'https://abs.twimg.com/images/themes/theme4/bg.gif', 'profile_background_tile': True, 'profile_image_url': 'http://pbs.twimg.com/profile_images/1265806761094787072/z2vGfmJW_normal.jpg', 'profile_image_url_https': 'https://pbs.twimg.com/profile_images/1265806761094787072/z2vGfmJW_normal.jpg', 'profile_banner_url': 'https://pbs.twimg.com/profile_banners/352420111/1563405638', 'profile_link_color': 'FF691F', 'profile_sidebar_border_color': '5ED4DC', 'profile_sidebar_fill_color': '95E8EC', 'profile_text_color': '3C3940', 'profile_use_background_image': True, 'has_extended_profile': True, 'default_profile': False, 'default_profile_image': False, 'following': False, 'follow_request_sent': False, 'notifications': False, 'translator_type': 'none'}, 'geo': None, 'coordinates': None, 'place': None, 'contributors': None, 'is_quote_status': False, 'retweet_count': 0, 'favorite_count': 2, 'favorited': False, 'retweeted': False, 'possibly_sensitive': False, 'lang': 'en'}, created_at=datetime.datetime(2020, 11, 4, 13, 44, 50), id=1323984553577381888, id_str='1323984553577381888', full_text='@vishwajeet_rd Same, exactly same. Although feel MI is the most deserving team, just don’t want the hegemony of one franchise. RCB because still don’t see them worthy for cricket they played (even if they win). DC winning will be great as we’ll have a new champion &amp; SRH is kiwis to me of IPL. https://t.co/JO6eoepExE', truncated=False, display_text_range=[15, 297], entities={'hashtags': [], 'symbols': [], 'user_mentions': [{'screen_name': 'vishwajeet_rd', 'name': 'Vishwajeet Singh', 'id': 832786063, 'id_str': '832786063', 'indices': [0, 14]}], 'urls': [], 'media': [{'id': 1323984543678783491, 'id_str': '1323984543678783491', 'indices': [298, 321], 'media_url': 'http://pbs.twimg.com/tweet_video_thumb/El-87X4U4AMBd-Z.jpg', 'media_url_https': 'https://pbs.twimg.com/tweet_video_thumb/El-87X4U4AMBd-Z.jpg', 'url': 'https://t.co/JO6eoepExE', 'display_url': 'pic.twitter.com/JO6eoepExE', 'expanded_url': 'https://twitter.com/cricketesque/status/1323984553577381888/photo/1', 'type': 'photo', 'sizes': {'thumb': {'w': 150, 'h': 150, 'resize': 'crop'}, 'medium': {'w': 330, 'h': 184, 'resize': 'fit'}, 'small': {'w': 330, 'h': 184, 'resize': 'fit'}, 'large': {'w': 330, 'h': 184, 'resize': 'fit'}}}]}, extended_entities={'media': [{'id': 1323984543678783491, 'id_str': '1323984543678783491', 'indices': [298, 321], 'media_url': 'http://pbs.twimg.com/tweet_video_thumb/El-87X4U4AMBd-Z.jpg', 'media_url_https': 'https://pbs.twimg.com/tweet_video_thumb/El-87X4U4AMBd-Z.jpg', 'url': 'https://t.co/JO6eoepExE', 'display_url': 'pic.twitter.com/JO6eoepExE', 'expanded_url': 'https://twitter.com/cricketesque/status/1323984553577381888/photo/1', 'type': 'animated_gif', 'sizes': {'thumb': {'w': 150, 'h': 150, 'resize': 'crop'}, 'medium': {'w': 330, 'h': 184, 'resize': 'fit'}, 'small': {'w': 330, 'h': 184, 'resize': 'fit'}, 'large': {'w': 330, 'h': 184, 'resize': 'fit'}}, 'video_info': {'aspect_ratio': [165, 92], 'variants': [{'bitrate': 0, 'content_type': 'video/mp4', 'url': 'https://video.twimg.com/tweet_video/El-87X4U4AMBd-Z.mp4'}]}}]}, metadata={'iso_language_code': 'en', 'result_type': 'recent'}, source='Twitter for iPad', source_url='http://twitter.com/#!/download/ipad', in_reply_to_status_id=1323983110891954178, in_reply_to_status_id_str='1323983110891954178', in_reply_to_user_id=832786063, in_reply_to_user_id_str='832786063', in_reply_to_screen_name='vishwajeet_rd', author=User(_api=<tweepy.api.API object at 0x0000029C5BEE5CC8>, _json={'id': 352420111, 'id_str': '352420111', 'name': 'Abhishek Kumar Singh', 'screen_name': 'cricketesque', 'location': 'Privileges', 'description': 'was/were 🌚 Cricket IT Cell 🏏 गाय हमारी माता है, हमको कुछ नहीं आता है 👻 दुनिया जलती है तो जले, माचिस चाहिए तो मै देता हू 🙂 Can we cry together?', 'url': None, 'entities': {'description': {'urls': []}}, 'protected': False, 'followers_count': 234, 'friends_count': 536, 'listed_count': 5, 'created_at': 'Wed Aug 10 16:03:24 +0000 2011', 'favourites_count': 7424, 'utc_offset': None, 'time_zone': None, 'geo_enabled': True, 'verified': False, 'statuses_count': 3935, 'lang': None, 'contributors_enabled': False, 'is_translator': False, 'is_translation_enabled': False, 'profile_background_color': '0099B9', 'profile_background_image_url': 'http://abs.twimg.com/images/themes/theme4/bg.gif', 'profile_background_image_url_https': 'https://abs.twimg.com/images/themes/theme4/bg.gif', 'profile_background_tile': True, 'profile_image_url': 'http://pbs.twimg.com/profile_images/1265806761094787072/z2vGfmJW_normal.jpg', 'profile_image_url_https': 'https://pbs.twimg.com/profile_images/1265806761094787072/z2vGfmJW_normal.jpg', 'profile_banner_url': 'https://pbs.twimg.com/profile_banners/352420111/1563405638', 'profile_link_color': 'FF691F', 'profile_sidebar_border_color': '5ED4DC', 'profile_sidebar_fill_color': '95E8EC', 'profile_text_color': '3C3940', 'profile_use_background_image': True, 'has_extended_profile': True, 'default_profile': False, 'default_profile_image': False, 'following': False, 'follow_request_sent': False, 'notifications': False, 'translator_type': 'none'}, id=352420111, id_str='352420111', name='Abhishek Kumar Singh', screen_name='cricketesque', location='Privileges', description='was/were 🌚 Cricket IT Cell 🏏 गाय हमारी माता है, हमको कुछ नहीं आता है 👻 दुनिया जलती है तो जले, माचिस चाहिए तो मै देता हू 🙂 Can we cry together?', url=None, entities={'description': {'urls': []}}, protected=False, followers_count=234, friends_count=536, listed_count=5, created_at=datetime.datetime(2011, 8, 10, 16, 3, 24), favourites_count=7424, utc_offset=None, time_zone=None, geo_enabled=True, verified=False, statuses_count=3935, lang=None, contributors_enabled=False, is_translator=False, is_translation_enabled=False, profile_background_color='0099B9', profile_background_image_url='http://abs.twimg.com/images/themes/theme4/bg.gif', profile_background_image_url_https='https://abs.twimg.com/images/themes/theme4/bg.gif', profile_background_tile=True, profile_image_url='http://pbs.twimg.com/profile_images/1265806761094787072/z2vGfmJW_normal.jpg', profile_image_url_https='https://pbs.twimg.com/profile_images/1265806761094787072/z2vGfmJW_normal.jpg', profile_banner_url='https://pbs.twimg.com/profile_banners/352420111/1563405638', profile_link_color='FF691F', profile_sidebar_border_color='5ED4DC', profile_sidebar_fill_color='95E8EC', profile_text_color='3C3940', profile_use_background_image=True, has_extended_profile=True, default_profile=False, default_profile_image=False, following=False, follow_request_sent=False, notifications=False, translator_type='none'), user=User(_api=<tweepy.api.API object at 0x0000029C5BEE5CC8>, _json={'id': 352420111, 'id_str': '352420111', 'name': 'Abhishek Kumar Singh', 'screen_name': 'cricketesque', 'location': 'Privileges', 'description': 'was/were 🌚 Cricket IT Cell 🏏 गाय हमारी माता है, हमको कुछ नहीं आता है 👻 दुनिया जलती है तो जले, माचिस चाहिए तो मै देता हू 🙂 Can we cry together?', 'url': None, 'entities': {'description': {'urls': []}}, 'protected': False, 'followers_count': 234, 'friends_count': 536, 'listed_count': 5, 'created_at': 'Wed Aug 10 16:03:24 +0000 2011', 'favourites_count': 7424, 'utc_offset': None, 'time_zone': None, 'geo_enabled': True, 'verified': False, 'statuses_count': 3935, 'lang': None, 'contributors_enabled': False, 'is_translator': False, 'is_translation_enabled': False, 'profile_background_color': '0099B9', 'profile_background_image_url': 'http://abs.twimg.com/images/themes/theme4/bg.gif', 'profile_background_image_url_https': 'https://abs.twimg.com/images/themes/theme4/bg.gif', 'profile_background_tile': True, 'profile_image_url': 'http://pbs.twimg.com/profile_images/1265806761094787072/z2vGfmJW_normal.jpg', 'profile_image_url_https': 'https://pbs.twimg.com/profile_images/1265806761094787072/z2vGfmJW_normal.jpg', 'profile_banner_url': 'https://pbs.twimg.com/profile_banners/352420111/1563405638', 'profile_link_color': 'FF691F', 'profile_sidebar_border_color': '5ED4DC', 'profile_sidebar_fill_color': '95E8EC', 'profile_text_color': '3C3940', 'profile_use_background_image': True, 'has_extended_profile': True, 'default_profile': False, 'default_profile_image': False, 'following': False, 'follow_request_sent': False, 'notifications': False, 'translator_type': 'none'}, id=352420111, id_str='352420111', name='Abhishek Kumar Singh', screen_name='cricketesque', location='Privileges', description='was/were 🌚 Cricket IT Cell 🏏 गाय हमारी माता है, हमको कुछ नहीं आता है 👻 दुनिया जलती है तो जले, माचिस चाहिए तो मै देता हू 🙂 Can we cry together?', url=None, entities={'description': {'urls': []}}, protected=False, followers_count=234, friends_count=536, listed_count=5, created_at=datetime.datetime(2011, 8, 10, 16, 3, 24), favourites_count=7424, utc_offset=None, time_zone=None, geo_enabled=True, verified=False, statuses_count=3935, lang=None, contributors_enabled=False, is_translator=False, is_translation_enabled=False, profile_background_color='0099B9', profile_background_image_url='http://abs.twimg.com/images/themes/theme4/bg.gif', profile_background_image_url_https='https://abs.twimg.com/images/themes/theme4/bg.gif', profile_background_tile=True, profile_image_url='http://pbs.twimg.com/profile_images/1265806761094787072/z2vGfmJW_normal.jpg', profile_image_url_https='https://pbs.twimg.com/profile_images/1265806761094787072/z2vGfmJW_normal.jpg', profile_banner_url='https://pbs.twimg.com/profile_banners/352420111/1563405638', profile_link_color='FF691F', profile_sidebar_border_color='5ED4DC', profile_sidebar_fill_color='95E8EC', profile_text_color='3C3940', profile_use_background_image=True, has_extended_profile=True, default_profile=False, default_profile_image=False, following=False, follow_request_sent=False, notifications=False, translator_type='none'), geo=None, coordinates=None, place=None, contributors=None, is_quote_status=False, retweet_count=0, favorite_count=2, favorited=False, retweeted=False, possibly_sensitive=False, lang='en') \n",
      "\n",
      ".....................................\n",
      "\n",
      "Status(_api=<tweepy.api.API object at 0x0000029C5BEE5CC8>, _json={'created_at': 'Wed Nov 04 13:03:46 +0000 2020', 'id': 1323974218351054853, 'id_str': '1323974218351054853', 'full_text': '@KP24 @IPL You’ve assessed it about right. Whoever wins tomorrow will win the final. I can see SRH winning both games but losing eventually. RCB can’t defend a total. I’d love to see DC get in. They’ve been the highlight of the tournament in the early stages', 'truncated': False, 'display_text_range': [11, 258], 'entities': {'hashtags': [], 'symbols': [], 'user_mentions': [{'screen_name': 'KP24', 'name': 'Kevin Pietersen🦏', 'id': 171117515, 'id_str': '171117515', 'indices': [0, 5]}, {'screen_name': 'IPL', 'name': 'IndianPremierLeague', 'id': 15639696, 'id_str': '15639696', 'indices': [6, 10]}], 'urls': []}, 'metadata': {'iso_language_code': 'en', 'result_type': 'recent'}, 'source': '<a href=\"http://twitter.com/download/iphone\" rel=\"nofollow\">Twitter for iPhone</a>', 'in_reply_to_status_id': 1323961040913244161, 'in_reply_to_status_id_str': '1323961040913244161', 'in_reply_to_user_id': 171117515, 'in_reply_to_user_id_str': '171117515', 'in_reply_to_screen_name': 'KP24', 'user': {'id': 20040615, 'id_str': '20040615', 'name': 'richard forsyth', 'screen_name': 'rpmforsyth', 'location': 'Bristol, England', 'description': 'Loves cricket and Scottish rugby. Mainly chasing balls', 'url': None, 'entities': {'description': {'urls': []}}, 'protected': False, 'followers_count': 30, 'friends_count': 137, 'listed_count': 0, 'created_at': 'Wed Feb 04 09:41:37 +0000 2009', 'favourites_count': 659, 'utc_offset': None, 'time_zone': None, 'geo_enabled': False, 'verified': False, 'statuses_count': 136, 'lang': None, 'contributors_enabled': False, 'is_translator': False, 'is_translation_enabled': False, 'profile_background_color': 'C0DEED', 'profile_background_image_url': 'http://abs.twimg.com/images/themes/theme1/bg.png', 'profile_background_image_url_https': 'https://abs.twimg.com/images/themes/theme1/bg.png', 'profile_background_tile': False, 'profile_image_url': 'http://pbs.twimg.com/profile_images/1245461861904142337/E1ztV-Ru_normal.jpg', 'profile_image_url_https': 'https://pbs.twimg.com/profile_images/1245461861904142337/E1ztV-Ru_normal.jpg', 'profile_banner_url': 'https://pbs.twimg.com/profile_banners/20040615/1585776282', 'profile_link_color': '1DA1F2', 'profile_sidebar_border_color': 'C0DEED', 'profile_sidebar_fill_color': 'DDEEF6', 'profile_text_color': '333333', 'profile_use_background_image': True, 'has_extended_profile': False, 'default_profile': True, 'default_profile_image': False, 'following': False, 'follow_request_sent': False, 'notifications': False, 'translator_type': 'none'}, 'geo': None, 'coordinates': None, 'place': None, 'contributors': None, 'is_quote_status': False, 'retweet_count': 0, 'favorite_count': 0, 'favorited': False, 'retweeted': False, 'lang': 'en'}, created_at=datetime.datetime(2020, 11, 4, 13, 3, 46), id=1323974218351054853, id_str='1323974218351054853', full_text='@KP24 @IPL You’ve assessed it about right. Whoever wins tomorrow will win the final. I can see SRH winning both games but losing eventually. RCB can’t defend a total. I’d love to see DC get in. They’ve been the highlight of the tournament in the early stages', truncated=False, display_text_range=[11, 258], entities={'hashtags': [], 'symbols': [], 'user_mentions': [{'screen_name': 'KP24', 'name': 'Kevin Pietersen🦏', 'id': 171117515, 'id_str': '171117515', 'indices': [0, 5]}, {'screen_name': 'IPL', 'name': 'IndianPremierLeague', 'id': 15639696, 'id_str': '15639696', 'indices': [6, 10]}], 'urls': []}, metadata={'iso_language_code': 'en', 'result_type': 'recent'}, source='Twitter for iPhone', source_url='http://twitter.com/download/iphone', in_reply_to_status_id=1323961040913244161, in_reply_to_status_id_str='1323961040913244161', in_reply_to_user_id=171117515, in_reply_to_user_id_str='171117515', in_reply_to_screen_name='KP24', author=User(_api=<tweepy.api.API object at 0x0000029C5BEE5CC8>, _json={'id': 20040615, 'id_str': '20040615', 'name': 'richard forsyth', 'screen_name': 'rpmforsyth', 'location': 'Bristol, England', 'description': 'Loves cricket and Scottish rugby. Mainly chasing balls', 'url': None, 'entities': {'description': {'urls': []}}, 'protected': False, 'followers_count': 30, 'friends_count': 137, 'listed_count': 0, 'created_at': 'Wed Feb 04 09:41:37 +0000 2009', 'favourites_count': 659, 'utc_offset': None, 'time_zone': None, 'geo_enabled': False, 'verified': False, 'statuses_count': 136, 'lang': None, 'contributors_enabled': False, 'is_translator': False, 'is_translation_enabled': False, 'profile_background_color': 'C0DEED', 'profile_background_image_url': 'http://abs.twimg.com/images/themes/theme1/bg.png', 'profile_background_image_url_https': 'https://abs.twimg.com/images/themes/theme1/bg.png', 'profile_background_tile': False, 'profile_image_url': 'http://pbs.twimg.com/profile_images/1245461861904142337/E1ztV-Ru_normal.jpg', 'profile_image_url_https': 'https://pbs.twimg.com/profile_images/1245461861904142337/E1ztV-Ru_normal.jpg', 'profile_banner_url': 'https://pbs.twimg.com/profile_banners/20040615/1585776282', 'profile_link_color': '1DA1F2', 'profile_sidebar_border_color': 'C0DEED', 'profile_sidebar_fill_color': 'DDEEF6', 'profile_text_color': '333333', 'profile_use_background_image': True, 'has_extended_profile': False, 'default_profile': True, 'default_profile_image': False, 'following': False, 'follow_request_sent': False, 'notifications': False, 'translator_type': 'none'}, id=20040615, id_str='20040615', name='richard forsyth', screen_name='rpmforsyth', location='Bristol, England', description='Loves cricket and Scottish rugby. Mainly chasing balls', url=None, entities={'description': {'urls': []}}, protected=False, followers_count=30, friends_count=137, listed_count=0, created_at=datetime.datetime(2009, 2, 4, 9, 41, 37), favourites_count=659, utc_offset=None, time_zone=None, geo_enabled=False, verified=False, statuses_count=136, lang=None, contributors_enabled=False, is_translator=False, is_translation_enabled=False, profile_background_color='C0DEED', profile_background_image_url='http://abs.twimg.com/images/themes/theme1/bg.png', profile_background_image_url_https='https://abs.twimg.com/images/themes/theme1/bg.png', profile_background_tile=False, profile_image_url='http://pbs.twimg.com/profile_images/1245461861904142337/E1ztV-Ru_normal.jpg', profile_image_url_https='https://pbs.twimg.com/profile_images/1245461861904142337/E1ztV-Ru_normal.jpg', profile_banner_url='https://pbs.twimg.com/profile_banners/20040615/1585776282', profile_link_color='1DA1F2', profile_sidebar_border_color='C0DEED', profile_sidebar_fill_color='DDEEF6', profile_text_color='333333', profile_use_background_image=True, has_extended_profile=False, default_profile=True, default_profile_image=False, following=False, follow_request_sent=False, notifications=False, translator_type='none'), user=User(_api=<tweepy.api.API object at 0x0000029C5BEE5CC8>, _json={'id': 20040615, 'id_str': '20040615', 'name': 'richard forsyth', 'screen_name': 'rpmforsyth', 'location': 'Bristol, England', 'description': 'Loves cricket and Scottish rugby. Mainly chasing balls', 'url': None, 'entities': {'description': {'urls': []}}, 'protected': False, 'followers_count': 30, 'friends_count': 137, 'listed_count': 0, 'created_at': 'Wed Feb 04 09:41:37 +0000 2009', 'favourites_count': 659, 'utc_offset': None, 'time_zone': None, 'geo_enabled': False, 'verified': False, 'statuses_count': 136, 'lang': None, 'contributors_enabled': False, 'is_translator': False, 'is_translation_enabled': False, 'profile_background_color': 'C0DEED', 'profile_background_image_url': 'http://abs.twimg.com/images/themes/theme1/bg.png', 'profile_background_image_url_https': 'https://abs.twimg.com/images/themes/theme1/bg.png', 'profile_background_tile': False, 'profile_image_url': 'http://pbs.twimg.com/profile_images/1245461861904142337/E1ztV-Ru_normal.jpg', 'profile_image_url_https': 'https://pbs.twimg.com/profile_images/1245461861904142337/E1ztV-Ru_normal.jpg', 'profile_banner_url': 'https://pbs.twimg.com/profile_banners/20040615/1585776282', 'profile_link_color': '1DA1F2', 'profile_sidebar_border_color': 'C0DEED', 'profile_sidebar_fill_color': 'DDEEF6', 'profile_text_color': '333333', 'profile_use_background_image': True, 'has_extended_profile': False, 'default_profile': True, 'default_profile_image': False, 'following': False, 'follow_request_sent': False, 'notifications': False, 'translator_type': 'none'}, id=20040615, id_str='20040615', name='richard forsyth', screen_name='rpmforsyth', location='Bristol, England', description='Loves cricket and Scottish rugby. Mainly chasing balls', url=None, entities={'description': {'urls': []}}, protected=False, followers_count=30, friends_count=137, listed_count=0, created_at=datetime.datetime(2009, 2, 4, 9, 41, 37), favourites_count=659, utc_offset=None, time_zone=None, geo_enabled=False, verified=False, statuses_count=136, lang=None, contributors_enabled=False, is_translator=False, is_translation_enabled=False, profile_background_color='C0DEED', profile_background_image_url='http://abs.twimg.com/images/themes/theme1/bg.png', profile_background_image_url_https='https://abs.twimg.com/images/themes/theme1/bg.png', profile_background_tile=False, profile_image_url='http://pbs.twimg.com/profile_images/1245461861904142337/E1ztV-Ru_normal.jpg', profile_image_url_https='https://pbs.twimg.com/profile_images/1245461861904142337/E1ztV-Ru_normal.jpg', profile_banner_url='https://pbs.twimg.com/profile_banners/20040615/1585776282', profile_link_color='1DA1F2', profile_sidebar_border_color='C0DEED', profile_sidebar_fill_color='DDEEF6', profile_text_color='333333', profile_use_background_image=True, has_extended_profile=False, default_profile=True, default_profile_image=False, following=False, follow_request_sent=False, notifications=False, translator_type='none'), geo=None, coordinates=None, place=None, contributors=None, is_quote_status=False, retweet_count=0, favorite_count=0, favorited=False, retweeted=False, lang='en') \n",
      "\n",
      ".....................................\n",
      "\n",
      "Status(_api=<tweepy.api.API object at 0x0000029C5BEE5CC8>, _json={'created_at': 'Wed Nov 04 12:27:53 +0000 2020', 'id': 1323965188786188289, 'id_str': '1323965188786188289', 'full_text': 'RCB fans pray for winning IPL trophy by RCB https://t.co/T4Z3o8IL4V', 'truncated': False, 'display_text_range': [0, 43], 'entities': {'hashtags': [], 'symbols': [], 'user_mentions': [], 'urls': [], 'media': [{'id': 1323965134155382784, 'id_str': '1323965134155382784', 'indices': [44, 67], 'media_url': 'http://pbs.twimg.com/media/El-rRlxVgAAuE5E.jpg', 'media_url_https': 'https://pbs.twimg.com/media/El-rRlxVgAAuE5E.jpg', 'url': 'https://t.co/T4Z3o8IL4V', 'display_url': 'pic.twitter.com/T4Z3o8IL4V', 'expanded_url': 'https://twitter.com/Abhi79312644/status/1323965188786188289/photo/1', 'type': 'photo', 'sizes': {'medium': {'w': 1080, 'h': 609, 'resize': 'fit'}, 'thumb': {'w': 150, 'h': 150, 'resize': 'crop'}, 'small': {'w': 680, 'h': 383, 'resize': 'fit'}, 'large': {'w': 1080, 'h': 609, 'resize': 'fit'}}}]}, 'extended_entities': {'media': [{'id': 1323965134155382784, 'id_str': '1323965134155382784', 'indices': [44, 67], 'media_url': 'http://pbs.twimg.com/media/El-rRlxVgAAuE5E.jpg', 'media_url_https': 'https://pbs.twimg.com/media/El-rRlxVgAAuE5E.jpg', 'url': 'https://t.co/T4Z3o8IL4V', 'display_url': 'pic.twitter.com/T4Z3o8IL4V', 'expanded_url': 'https://twitter.com/Abhi79312644/status/1323965188786188289/photo/1', 'type': 'photo', 'sizes': {'medium': {'w': 1080, 'h': 609, 'resize': 'fit'}, 'thumb': {'w': 150, 'h': 150, 'resize': 'crop'}, 'small': {'w': 680, 'h': 383, 'resize': 'fit'}, 'large': {'w': 1080, 'h': 609, 'resize': 'fit'}}}]}, 'metadata': {'iso_language_code': 'en', 'result_type': 'recent'}, 'source': '<a href=\"https://mobile.twitter.com\" rel=\"nofollow\">Twitter Web App</a>', 'in_reply_to_status_id': None, 'in_reply_to_status_id_str': None, 'in_reply_to_user_id': None, 'in_reply_to_user_id_str': None, 'in_reply_to_screen_name': None, 'user': {'id': 1323256603559170049, 'id_str': '1323256603559170049', 'name': 'Abhi', 'screen_name': 'Abhi79312644', 'location': '', 'description': '', 'url': None, 'entities': {'description': {'urls': []}}, 'protected': False, 'followers_count': 0, 'friends_count': 13, 'listed_count': 0, 'created_at': 'Mon Nov 02 13:32:31 +0000 2020', 'favourites_count': 46, 'utc_offset': None, 'time_zone': None, 'geo_enabled': False, 'verified': False, 'statuses_count': 3, 'lang': None, 'contributors_enabled': False, 'is_translator': False, 'is_translation_enabled': False, 'profile_background_color': 'F5F8FA', 'profile_background_image_url': None, 'profile_background_image_url_https': None, 'profile_background_tile': False, 'profile_image_url': 'http://abs.twimg.com/sticky/default_profile_images/default_profile_normal.png', 'profile_image_url_https': 'https://abs.twimg.com/sticky/default_profile_images/default_profile_normal.png', 'profile_link_color': '1DA1F2', 'profile_sidebar_border_color': 'C0DEED', 'profile_sidebar_fill_color': 'DDEEF6', 'profile_text_color': '333333', 'profile_use_background_image': True, 'has_extended_profile': True, 'default_profile': True, 'default_profile_image': True, 'following': False, 'follow_request_sent': False, 'notifications': False, 'translator_type': 'none'}, 'geo': None, 'coordinates': None, 'place': None, 'contributors': None, 'is_quote_status': False, 'retweet_count': 0, 'favorite_count': 2, 'favorited': False, 'retweeted': False, 'possibly_sensitive': False, 'lang': 'en'}, created_at=datetime.datetime(2020, 11, 4, 12, 27, 53), id=1323965188786188289, id_str='1323965188786188289', full_text='RCB fans pray for winning IPL trophy by RCB https://t.co/T4Z3o8IL4V', truncated=False, display_text_range=[0, 43], entities={'hashtags': [], 'symbols': [], 'user_mentions': [], 'urls': [], 'media': [{'id': 1323965134155382784, 'id_str': '1323965134155382784', 'indices': [44, 67], 'media_url': 'http://pbs.twimg.com/media/El-rRlxVgAAuE5E.jpg', 'media_url_https': 'https://pbs.twimg.com/media/El-rRlxVgAAuE5E.jpg', 'url': 'https://t.co/T4Z3o8IL4V', 'display_url': 'pic.twitter.com/T4Z3o8IL4V', 'expanded_url': 'https://twitter.com/Abhi79312644/status/1323965188786188289/photo/1', 'type': 'photo', 'sizes': {'medium': {'w': 1080, 'h': 609, 'resize': 'fit'}, 'thumb': {'w': 150, 'h': 150, 'resize': 'crop'}, 'small': {'w': 680, 'h': 383, 'resize': 'fit'}, 'large': {'w': 1080, 'h': 609, 'resize': 'fit'}}}]}, extended_entities={'media': [{'id': 1323965134155382784, 'id_str': '1323965134155382784', 'indices': [44, 67], 'media_url': 'http://pbs.twimg.com/media/El-rRlxVgAAuE5E.jpg', 'media_url_https': 'https://pbs.twimg.com/media/El-rRlxVgAAuE5E.jpg', 'url': 'https://t.co/T4Z3o8IL4V', 'display_url': 'pic.twitter.com/T4Z3o8IL4V', 'expanded_url': 'https://twitter.com/Abhi79312644/status/1323965188786188289/photo/1', 'type': 'photo', 'sizes': {'medium': {'w': 1080, 'h': 609, 'resize': 'fit'}, 'thumb': {'w': 150, 'h': 150, 'resize': 'crop'}, 'small': {'w': 680, 'h': 383, 'resize': 'fit'}, 'large': {'w': 1080, 'h': 609, 'resize': 'fit'}}}]}, metadata={'iso_language_code': 'en', 'result_type': 'recent'}, source='Twitter Web App', source_url='https://mobile.twitter.com', in_reply_to_status_id=None, in_reply_to_status_id_str=None, in_reply_to_user_id=None, in_reply_to_user_id_str=None, in_reply_to_screen_name=None, author=User(_api=<tweepy.api.API object at 0x0000029C5BEE5CC8>, _json={'id': 1323256603559170049, 'id_str': '1323256603559170049', 'name': 'Abhi', 'screen_name': 'Abhi79312644', 'location': '', 'description': '', 'url': None, 'entities': {'description': {'urls': []}}, 'protected': False, 'followers_count': 0, 'friends_count': 13, 'listed_count': 0, 'created_at': 'Mon Nov 02 13:32:31 +0000 2020', 'favourites_count': 46, 'utc_offset': None, 'time_zone': None, 'geo_enabled': False, 'verified': False, 'statuses_count': 3, 'lang': None, 'contributors_enabled': False, 'is_translator': False, 'is_translation_enabled': False, 'profile_background_color': 'F5F8FA', 'profile_background_image_url': None, 'profile_background_image_url_https': None, 'profile_background_tile': False, 'profile_image_url': 'http://abs.twimg.com/sticky/default_profile_images/default_profile_normal.png', 'profile_image_url_https': 'https://abs.twimg.com/sticky/default_profile_images/default_profile_normal.png', 'profile_link_color': '1DA1F2', 'profile_sidebar_border_color': 'C0DEED', 'profile_sidebar_fill_color': 'DDEEF6', 'profile_text_color': '333333', 'profile_use_background_image': True, 'has_extended_profile': True, 'default_profile': True, 'default_profile_image': True, 'following': False, 'follow_request_sent': False, 'notifications': False, 'translator_type': 'none'}, id=1323256603559170049, id_str='1323256603559170049', name='Abhi', screen_name='Abhi79312644', location='', description='', url=None, entities={'description': {'urls': []}}, protected=False, followers_count=0, friends_count=13, listed_count=0, created_at=datetime.datetime(2020, 11, 2, 13, 32, 31), favourites_count=46, utc_offset=None, time_zone=None, geo_enabled=False, verified=False, statuses_count=3, lang=None, contributors_enabled=False, is_translator=False, is_translation_enabled=False, profile_background_color='F5F8FA', profile_background_image_url=None, profile_background_image_url_https=None, profile_background_tile=False, profile_image_url='http://abs.twimg.com/sticky/default_profile_images/default_profile_normal.png', profile_image_url_https='https://abs.twimg.com/sticky/default_profile_images/default_profile_normal.png', profile_link_color='1DA1F2', profile_sidebar_border_color='C0DEED', profile_sidebar_fill_color='DDEEF6', profile_text_color='333333', profile_use_background_image=True, has_extended_profile=True, default_profile=True, default_profile_image=True, following=False, follow_request_sent=False, notifications=False, translator_type='none'), user=User(_api=<tweepy.api.API object at 0x0000029C5BEE5CC8>, _json={'id': 1323256603559170049, 'id_str': '1323256603559170049', 'name': 'Abhi', 'screen_name': 'Abhi79312644', 'location': '', 'description': '', 'url': None, 'entities': {'description': {'urls': []}}, 'protected': False, 'followers_count': 0, 'friends_count': 13, 'listed_count': 0, 'created_at': 'Mon Nov 02 13:32:31 +0000 2020', 'favourites_count': 46, 'utc_offset': None, 'time_zone': None, 'geo_enabled': False, 'verified': False, 'statuses_count': 3, 'lang': None, 'contributors_enabled': False, 'is_translator': False, 'is_translation_enabled': False, 'profile_background_color': 'F5F8FA', 'profile_background_image_url': None, 'profile_background_image_url_https': None, 'profile_background_tile': False, 'profile_image_url': 'http://abs.twimg.com/sticky/default_profile_images/default_profile_normal.png', 'profile_image_url_https': 'https://abs.twimg.com/sticky/default_profile_images/default_profile_normal.png', 'profile_link_color': '1DA1F2', 'profile_sidebar_border_color': 'C0DEED', 'profile_sidebar_fill_color': 'DDEEF6', 'profile_text_color': '333333', 'profile_use_background_image': True, 'has_extended_profile': True, 'default_profile': True, 'default_profile_image': True, 'following': False, 'follow_request_sent': False, 'notifications': False, 'translator_type': 'none'}, id=1323256603559170049, id_str='1323256603559170049', name='Abhi', screen_name='Abhi79312644', location='', description='', url=None, entities={'description': {'urls': []}}, protected=False, followers_count=0, friends_count=13, listed_count=0, created_at=datetime.datetime(2020, 11, 2, 13, 32, 31), favourites_count=46, utc_offset=None, time_zone=None, geo_enabled=False, verified=False, statuses_count=3, lang=None, contributors_enabled=False, is_translator=False, is_translation_enabled=False, profile_background_color='F5F8FA', profile_background_image_url=None, profile_background_image_url_https=None, profile_background_tile=False, profile_image_url='http://abs.twimg.com/sticky/default_profile_images/default_profile_normal.png', profile_image_url_https='https://abs.twimg.com/sticky/default_profile_images/default_profile_normal.png', profile_link_color='1DA1F2', profile_sidebar_border_color='C0DEED', profile_sidebar_fill_color='DDEEF6', profile_text_color='333333', profile_use_background_image=True, has_extended_profile=True, default_profile=True, default_profile_image=True, following=False, follow_request_sent=False, notifications=False, translator_type='none'), geo=None, coordinates=None, place=None, contributors=None, is_quote_status=False, retweet_count=0, favorite_count=2, favorited=False, retweeted=False, possibly_sensitive=False, lang='en') \n",
      "\n",
      ".....................................\n",
      "\n",
      "Status(_api=<tweepy.api.API object at 0x0000029C5BEE5CC8>, _json={'created_at': 'Wed Nov 04 10:13:42 +0000 2020', 'id': 1323931419488346115, 'id_str': '1323931419488346115', 'full_text': '@cricbuzz Also this one!! BROTHERS! #RCB winning #MI in the super over! #ABD #ABDeVilliers @ABdeVilliers17 @imVkohli #ViratKohli 🐐 #RCB #MASTER #IPL #IPL2020 https://t.co/TNXhi9tdsf', 'truncated': False, 'display_text_range': [10, 157], 'entities': {'hashtags': [{'text': 'RCB', 'indices': [36, 40]}, {'text': 'MI', 'indices': [49, 52]}, {'text': 'ABD', 'indices': [72, 76]}, {'text': 'ABDeVilliers', 'indices': [77, 90]}, {'text': 'ViratKohli', 'indices': [117, 128]}, {'text': 'RCB', 'indices': [131, 135]}, {'text': 'MASTER', 'indices': [136, 143]}, {'text': 'IPL', 'indices': [144, 148]}, {'text': 'IPL2020', 'indices': [149, 157]}], 'symbols': [], 'user_mentions': [{'screen_name': 'cricbuzz', 'name': 'Cricbuzz', 'id': 14251256, 'id_str': '14251256', 'indices': [0, 9]}, {'screen_name': 'ABdeVilliers17', 'name': 'AB de Villiers', 'id': 139876086, 'id_str': '139876086', 'indices': [91, 106]}, {'screen_name': 'imVkohli', 'name': 'Virat Kohli', 'id': 71201743, 'id_str': '71201743', 'indices': [107, 116]}], 'urls': [], 'media': [{'id': 1323931408230838278, 'id_str': '1323931408230838278', 'indices': [158, 181], 'media_url': 'http://pbs.twimg.com/media/El-Mme6U8AYs846.jpg', 'media_url_https': 'https://pbs.twimg.com/media/El-Mme6U8AYs846.jpg', 'url': 'https://t.co/TNXhi9tdsf', 'display_url': 'pic.twitter.com/TNXhi9tdsf', 'expanded_url': 'https://twitter.com/Devanayagam/status/1323931419488346115/photo/1', 'type': 'photo', 'sizes': {'large': {'w': 720, 'h': 574, 'resize': 'fit'}, 'small': {'w': 680, 'h': 542, 'resize': 'fit'}, 'thumb': {'w': 150, 'h': 150, 'resize': 'crop'}, 'medium': {'w': 720, 'h': 574, 'resize': 'fit'}}}]}, 'extended_entities': {'media': [{'id': 1323931408230838278, 'id_str': '1323931408230838278', 'indices': [158, 181], 'media_url': 'http://pbs.twimg.com/media/El-Mme6U8AYs846.jpg', 'media_url_https': 'https://pbs.twimg.com/media/El-Mme6U8AYs846.jpg', 'url': 'https://t.co/TNXhi9tdsf', 'display_url': 'pic.twitter.com/TNXhi9tdsf', 'expanded_url': 'https://twitter.com/Devanayagam/status/1323931419488346115/photo/1', 'type': 'photo', 'sizes': {'large': {'w': 720, 'h': 574, 'resize': 'fit'}, 'small': {'w': 680, 'h': 542, 'resize': 'fit'}, 'thumb': {'w': 150, 'h': 150, 'resize': 'crop'}, 'medium': {'w': 720, 'h': 574, 'resize': 'fit'}}}, {'id': 1323931408314687488, 'id_str': '1323931408314687488', 'indices': [158, 181], 'media_url': 'http://pbs.twimg.com/media/El-MmfOUYAAuE3J.jpg', 'media_url_https': 'https://pbs.twimg.com/media/El-MmfOUYAAuE3J.jpg', 'url': 'https://t.co/TNXhi9tdsf', 'display_url': 'pic.twitter.com/TNXhi9tdsf', 'expanded_url': 'https://twitter.com/Devanayagam/status/1323931419488346115/photo/1', 'type': 'photo', 'sizes': {'thumb': {'w': 150, 'h': 150, 'resize': 'crop'}, 'small': {'w': 680, 'h': 680, 'resize': 'fit'}, 'large': {'w': 1000, 'h': 1000, 'resize': 'fit'}, 'medium': {'w': 1000, 'h': 1000, 'resize': 'fit'}}}]}, 'metadata': {'iso_language_code': 'en', 'result_type': 'recent'}, 'source': '<a href=\"https://mobile.twitter.com\" rel=\"nofollow\">Twitter Web App</a>', 'in_reply_to_status_id': 1323884086155464705, 'in_reply_to_status_id_str': '1323884086155464705', 'in_reply_to_user_id': 14251256, 'in_reply_to_user_id_str': '14251256', 'in_reply_to_screen_name': 'cricbuzz', 'user': {'id': 53323859, 'id_str': '53323859', 'name': 'Devanayagam', 'screen_name': 'Devanayagam', 'location': 'Oman', 'description': 'Entrepreneur', 'url': 'https://t.co/lItYqTLr27', 'entities': {'url': {'urls': [{'url': 'https://t.co/lItYqTLr27', 'expanded_url': 'http://www.devanayagam.blogspot.com', 'display_url': 'devanayagam.blogspot.com', 'indices': [0, 23]}]}, 'description': {'urls': []}}, 'protected': False, 'followers_count': 1112, 'friends_count': 875, 'listed_count': 45, 'created_at': 'Fri Jul 03 07:28:05 +0000 2009', 'favourites_count': 98575, 'utc_offset': None, 'time_zone': None, 'geo_enabled': True, 'verified': False, 'statuses_count': 108808, 'lang': None, 'contributors_enabled': False, 'is_translator': False, 'is_translation_enabled': False, 'profile_background_color': 'C0DEED', 'profile_background_image_url': 'http://abs.twimg.com/images/themes/theme3/bg.gif', 'profile_background_image_url_https': 'https://abs.twimg.com/images/themes/theme3/bg.gif', 'profile_background_tile': False, 'profile_image_url': 'http://pbs.twimg.com/profile_images/1302591405819334656/ZncX7rN2_normal.jpg', 'profile_image_url_https': 'https://pbs.twimg.com/profile_images/1302591405819334656/ZncX7rN2_normal.jpg', 'profile_banner_url': 'https://pbs.twimg.com/profile_banners/53323859/1597152116', 'profile_link_color': '0084B4', 'profile_sidebar_border_color': 'FFFFFF', 'profile_sidebar_fill_color': 'E3E2DE', 'profile_text_color': '634047', 'profile_use_background_image': True, 'has_extended_profile': True, 'default_profile': False, 'default_profile_image': False, 'following': False, 'follow_request_sent': False, 'notifications': False, 'translator_type': 'none'}, 'geo': None, 'coordinates': None, 'place': None, 'contributors': None, 'is_quote_status': False, 'retweet_count': 0, 'favorite_count': 1, 'favorited': False, 'retweeted': False, 'possibly_sensitive': False, 'lang': 'en'}, created_at=datetime.datetime(2020, 11, 4, 10, 13, 42), id=1323931419488346115, id_str='1323931419488346115', full_text='@cricbuzz Also this one!! BROTHERS! #RCB winning #MI in the super over! #ABD #ABDeVilliers @ABdeVilliers17 @imVkohli #ViratKohli 🐐 #RCB #MASTER #IPL #IPL2020 https://t.co/TNXhi9tdsf', truncated=False, display_text_range=[10, 157], entities={'hashtags': [{'text': 'RCB', 'indices': [36, 40]}, {'text': 'MI', 'indices': [49, 52]}, {'text': 'ABD', 'indices': [72, 76]}, {'text': 'ABDeVilliers', 'indices': [77, 90]}, {'text': 'ViratKohli', 'indices': [117, 128]}, {'text': 'RCB', 'indices': [131, 135]}, {'text': 'MASTER', 'indices': [136, 143]}, {'text': 'IPL', 'indices': [144, 148]}, {'text': 'IPL2020', 'indices': [149, 157]}], 'symbols': [], 'user_mentions': [{'screen_name': 'cricbuzz', 'name': 'Cricbuzz', 'id': 14251256, 'id_str': '14251256', 'indices': [0, 9]}, {'screen_name': 'ABdeVilliers17', 'name': 'AB de Villiers', 'id': 139876086, 'id_str': '139876086', 'indices': [91, 106]}, {'screen_name': 'imVkohli', 'name': 'Virat Kohli', 'id': 71201743, 'id_str': '71201743', 'indices': [107, 116]}], 'urls': [], 'media': [{'id': 1323931408230838278, 'id_str': '1323931408230838278', 'indices': [158, 181], 'media_url': 'http://pbs.twimg.com/media/El-Mme6U8AYs846.jpg', 'media_url_https': 'https://pbs.twimg.com/media/El-Mme6U8AYs846.jpg', 'url': 'https://t.co/TNXhi9tdsf', 'display_url': 'pic.twitter.com/TNXhi9tdsf', 'expanded_url': 'https://twitter.com/Devanayagam/status/1323931419488346115/photo/1', 'type': 'photo', 'sizes': {'large': {'w': 720, 'h': 574, 'resize': 'fit'}, 'small': {'w': 680, 'h': 542, 'resize': 'fit'}, 'thumb': {'w': 150, 'h': 150, 'resize': 'crop'}, 'medium': {'w': 720, 'h': 574, 'resize': 'fit'}}}]}, extended_entities={'media': [{'id': 1323931408230838278, 'id_str': '1323931408230838278', 'indices': [158, 181], 'media_url': 'http://pbs.twimg.com/media/El-Mme6U8AYs846.jpg', 'media_url_https': 'https://pbs.twimg.com/media/El-Mme6U8AYs846.jpg', 'url': 'https://t.co/TNXhi9tdsf', 'display_url': 'pic.twitter.com/TNXhi9tdsf', 'expanded_url': 'https://twitter.com/Devanayagam/status/1323931419488346115/photo/1', 'type': 'photo', 'sizes': {'large': {'w': 720, 'h': 574, 'resize': 'fit'}, 'small': {'w': 680, 'h': 542, 'resize': 'fit'}, 'thumb': {'w': 150, 'h': 150, 'resize': 'crop'}, 'medium': {'w': 720, 'h': 574, 'resize': 'fit'}}}, {'id': 1323931408314687488, 'id_str': '1323931408314687488', 'indices': [158, 181], 'media_url': 'http://pbs.twimg.com/media/El-MmfOUYAAuE3J.jpg', 'media_url_https': 'https://pbs.twimg.com/media/El-MmfOUYAAuE3J.jpg', 'url': 'https://t.co/TNXhi9tdsf', 'display_url': 'pic.twitter.com/TNXhi9tdsf', 'expanded_url': 'https://twitter.com/Devanayagam/status/1323931419488346115/photo/1', 'type': 'photo', 'sizes': {'thumb': {'w': 150, 'h': 150, 'resize': 'crop'}, 'small': {'w': 680, 'h': 680, 'resize': 'fit'}, 'large': {'w': 1000, 'h': 1000, 'resize': 'fit'}, 'medium': {'w': 1000, 'h': 1000, 'resize': 'fit'}}}]}, metadata={'iso_language_code': 'en', 'result_type': 'recent'}, source='Twitter Web App', source_url='https://mobile.twitter.com', in_reply_to_status_id=1323884086155464705, in_reply_to_status_id_str='1323884086155464705', in_reply_to_user_id=14251256, in_reply_to_user_id_str='14251256', in_reply_to_screen_name='cricbuzz', author=User(_api=<tweepy.api.API object at 0x0000029C5BEE5CC8>, _json={'id': 53323859, 'id_str': '53323859', 'name': 'Devanayagam', 'screen_name': 'Devanayagam', 'location': 'Oman', 'description': 'Entrepreneur', 'url': 'https://t.co/lItYqTLr27', 'entities': {'url': {'urls': [{'url': 'https://t.co/lItYqTLr27', 'expanded_url': 'http://www.devanayagam.blogspot.com', 'display_url': 'devanayagam.blogspot.com', 'indices': [0, 23]}]}, 'description': {'urls': []}}, 'protected': False, 'followers_count': 1112, 'friends_count': 875, 'listed_count': 45, 'created_at': 'Fri Jul 03 07:28:05 +0000 2009', 'favourites_count': 98575, 'utc_offset': None, 'time_zone': None, 'geo_enabled': True, 'verified': False, 'statuses_count': 108808, 'lang': None, 'contributors_enabled': False, 'is_translator': False, 'is_translation_enabled': False, 'profile_background_color': 'C0DEED', 'profile_background_image_url': 'http://abs.twimg.com/images/themes/theme3/bg.gif', 'profile_background_image_url_https': 'https://abs.twimg.com/images/themes/theme3/bg.gif', 'profile_background_tile': False, 'profile_image_url': 'http://pbs.twimg.com/profile_images/1302591405819334656/ZncX7rN2_normal.jpg', 'profile_image_url_https': 'https://pbs.twimg.com/profile_images/1302591405819334656/ZncX7rN2_normal.jpg', 'profile_banner_url': 'https://pbs.twimg.com/profile_banners/53323859/1597152116', 'profile_link_color': '0084B4', 'profile_sidebar_border_color': 'FFFFFF', 'profile_sidebar_fill_color': 'E3E2DE', 'profile_text_color': '634047', 'profile_use_background_image': True, 'has_extended_profile': True, 'default_profile': False, 'default_profile_image': False, 'following': False, 'follow_request_sent': False, 'notifications': False, 'translator_type': 'none'}, id=53323859, id_str='53323859', name='Devanayagam', screen_name='Devanayagam', location='Oman', description='Entrepreneur', url='https://t.co/lItYqTLr27', entities={'url': {'urls': [{'url': 'https://t.co/lItYqTLr27', 'expanded_url': 'http://www.devanayagam.blogspot.com', 'display_url': 'devanayagam.blogspot.com', 'indices': [0, 23]}]}, 'description': {'urls': []}}, protected=False, followers_count=1112, friends_count=875, listed_count=45, created_at=datetime.datetime(2009, 7, 3, 7, 28, 5), favourites_count=98575, utc_offset=None, time_zone=None, geo_enabled=True, verified=False, statuses_count=108808, lang=None, contributors_enabled=False, is_translator=False, is_translation_enabled=False, profile_background_color='C0DEED', profile_background_image_url='http://abs.twimg.com/images/themes/theme3/bg.gif', profile_background_image_url_https='https://abs.twimg.com/images/themes/theme3/bg.gif', profile_background_tile=False, profile_image_url='http://pbs.twimg.com/profile_images/1302591405819334656/ZncX7rN2_normal.jpg', profile_image_url_https='https://pbs.twimg.com/profile_images/1302591405819334656/ZncX7rN2_normal.jpg', profile_banner_url='https://pbs.twimg.com/profile_banners/53323859/1597152116', profile_link_color='0084B4', profile_sidebar_border_color='FFFFFF', profile_sidebar_fill_color='E3E2DE', profile_text_color='634047', profile_use_background_image=True, has_extended_profile=True, default_profile=False, default_profile_image=False, following=False, follow_request_sent=False, notifications=False, translator_type='none'), user=User(_api=<tweepy.api.API object at 0x0000029C5BEE5CC8>, _json={'id': 53323859, 'id_str': '53323859', 'name': 'Devanayagam', 'screen_name': 'Devanayagam', 'location': 'Oman', 'description': 'Entrepreneur', 'url': 'https://t.co/lItYqTLr27', 'entities': {'url': {'urls': [{'url': 'https://t.co/lItYqTLr27', 'expanded_url': 'http://www.devanayagam.blogspot.com', 'display_url': 'devanayagam.blogspot.com', 'indices': [0, 23]}]}, 'description': {'urls': []}}, 'protected': False, 'followers_count': 1112, 'friends_count': 875, 'listed_count': 45, 'created_at': 'Fri Jul 03 07:28:05 +0000 2009', 'favourites_count': 98575, 'utc_offset': None, 'time_zone': None, 'geo_enabled': True, 'verified': False, 'statuses_count': 108808, 'lang': None, 'contributors_enabled': False, 'is_translator': False, 'is_translation_enabled': False, 'profile_background_color': 'C0DEED', 'profile_background_image_url': 'http://abs.twimg.com/images/themes/theme3/bg.gif', 'profile_background_image_url_https': 'https://abs.twimg.com/images/themes/theme3/bg.gif', 'profile_background_tile': False, 'profile_image_url': 'http://pbs.twimg.com/profile_images/1302591405819334656/ZncX7rN2_normal.jpg', 'profile_image_url_https': 'https://pbs.twimg.com/profile_images/1302591405819334656/ZncX7rN2_normal.jpg', 'profile_banner_url': 'https://pbs.twimg.com/profile_banners/53323859/1597152116', 'profile_link_color': '0084B4', 'profile_sidebar_border_color': 'FFFFFF', 'profile_sidebar_fill_color': 'E3E2DE', 'profile_text_color': '634047', 'profile_use_background_image': True, 'has_extended_profile': True, 'default_profile': False, 'default_profile_image': False, 'following': False, 'follow_request_sent': False, 'notifications': False, 'translator_type': 'none'}, id=53323859, id_str='53323859', name='Devanayagam', screen_name='Devanayagam', location='Oman', description='Entrepreneur', url='https://t.co/lItYqTLr27', entities={'url': {'urls': [{'url': 'https://t.co/lItYqTLr27', 'expanded_url': 'http://www.devanayagam.blogspot.com', 'display_url': 'devanayagam.blogspot.com', 'indices': [0, 23]}]}, 'description': {'urls': []}}, protected=False, followers_count=1112, friends_count=875, listed_count=45, created_at=datetime.datetime(2009, 7, 3, 7, 28, 5), favourites_count=98575, utc_offset=None, time_zone=None, geo_enabled=True, verified=False, statuses_count=108808, lang=None, contributors_enabled=False, is_translator=False, is_translation_enabled=False, profile_background_color='C0DEED', profile_background_image_url='http://abs.twimg.com/images/themes/theme3/bg.gif', profile_background_image_url_https='https://abs.twimg.com/images/themes/theme3/bg.gif', profile_background_tile=False, profile_image_url='http://pbs.twimg.com/profile_images/1302591405819334656/ZncX7rN2_normal.jpg', profile_image_url_https='https://pbs.twimg.com/profile_images/1302591405819334656/ZncX7rN2_normal.jpg', profile_banner_url='https://pbs.twimg.com/profile_banners/53323859/1597152116', profile_link_color='0084B4', profile_sidebar_border_color='FFFFFF', profile_sidebar_fill_color='E3E2DE', profile_text_color='634047', profile_use_background_image=True, has_extended_profile=True, default_profile=False, default_profile_image=False, following=False, follow_request_sent=False, notifications=False, translator_type='none'), geo=None, coordinates=None, place=None, contributors=None, is_quote_status=False, retweet_count=0, favorite_count=1, favorited=False, retweeted=False, possibly_sensitive=False, lang='en') \n",
      "\n",
      ".....................................\n",
      "\n",
      "Status(_api=<tweepy.api.API object at 0x0000029C5BEE5CC8>, _json={'created_at': 'Wed Nov 04 09:34:14 +0000 2020', 'id': 1323921487640735745, 'id_str': '1323921487640735745', 'full_text': 'Our (RCB’s) chances of winning IPL is like COVID vaccine!\\n\\nWe want it, might happen at some point, nobody knows when and everyone is still optimistic 😷\\n\\n#rcb #ipl #ipl2020 #Dream11IPL @RCBTweets @Dream11 @IPL #Bengaluru #rcbforever #viratkholi #RoyalChallengersBangalore #BCCI', 'truncated': False, 'display_text_range': [0, 276], 'entities': {'hashtags': [{'text': 'rcb', 'indices': [153, 157]}, {'text': 'ipl', 'indices': [158, 162]}, {'text': 'ipl2020', 'indices': [163, 171]}, {'text': 'Dream11IPL', 'indices': [172, 183]}, {'text': 'Bengaluru', 'indices': [209, 219]}, {'text': 'rcbforever', 'indices': [220, 231]}, {'text': 'viratkholi', 'indices': [232, 243]}, {'text': 'RoyalChallengersBangalore', 'indices': [244, 270]}, {'text': 'BCCI', 'indices': [271, 276]}], 'symbols': [], 'user_mentions': [{'screen_name': 'RCBTweets', 'name': 'Royal Challengers Bangalore', 'id': 70931004, 'id_str': '70931004', 'indices': [184, 194]}, {'screen_name': 'Dream11', 'name': 'Dream11', 'id': 22738536, 'id_str': '22738536', 'indices': [195, 203]}, {'screen_name': 'IPL', 'name': 'IndianPremierLeague', 'id': 15639696, 'id_str': '15639696', 'indices': [204, 208]}], 'urls': []}, 'metadata': {'iso_language_code': 'en', 'result_type': 'recent'}, 'source': '<a href=\"http://twitter.com/download/iphone\" rel=\"nofollow\">Twitter for iPhone</a>', 'in_reply_to_status_id': None, 'in_reply_to_status_id_str': None, 'in_reply_to_user_id': None, 'in_reply_to_user_id_str': None, 'in_reply_to_screen_name': None, 'user': {'id': 33046429, 'id_str': '33046429', 'name': 'Shreepad Kuthyar', 'screen_name': 'shree_kp', 'location': 'Bangalore', 'description': 'Travel..Food..Music..RCB..the usual stuff!', 'url': None, 'entities': {'description': {'urls': []}}, 'protected': False, 'followers_count': 87, 'friends_count': 81, 'listed_count': 0, 'created_at': 'Sat Apr 18 23:14:00 +0000 2009', 'favourites_count': 890, 'utc_offset': None, 'time_zone': None, 'geo_enabled': True, 'verified': False, 'statuses_count': 272, 'lang': None, 'contributors_enabled': False, 'is_translator': False, 'is_translation_enabled': False, 'profile_background_color': '000000', 'profile_background_image_url': 'http://abs.twimg.com/images/themes/theme15/bg.png', 'profile_background_image_url_https': 'https://abs.twimg.com/images/themes/theme15/bg.png', 'profile_background_tile': False, 'profile_image_url': 'http://pbs.twimg.com/profile_images/770686231655002113/cxDUK4xP_normal.jpg', 'profile_image_url_https': 'https://pbs.twimg.com/profile_images/770686231655002113/cxDUK4xP_normal.jpg', 'profile_banner_url': 'https://pbs.twimg.com/profile_banners/33046429/1503583763', 'profile_link_color': '1B95E0', 'profile_sidebar_border_color': '000000', 'profile_sidebar_fill_color': '000000', 'profile_text_color': '000000', 'profile_use_background_image': False, 'has_extended_profile': True, 'default_profile': False, 'default_profile_image': False, 'following': False, 'follow_request_sent': False, 'notifications': False, 'translator_type': 'none'}, 'geo': None, 'coordinates': None, 'place': {'id': '5f55bb82cf16ac81', 'url': 'https://api.twitter.com/1.1/geo/id/5f55bb82cf16ac81.json', 'place_type': 'city', 'name': 'Bengaluru South', 'full_name': 'Bengaluru South, India', 'country_code': 'IN', 'country': 'India', 'contained_within': [], 'bounding_box': {'type': 'Polygon', 'coordinates': [[[77.3305776, 12.731936], [77.7863188, 12.731936], [77.7863188, 13.1142933], [77.3305776, 13.1142933]]]}, 'attributes': {}}, 'contributors': None, 'is_quote_status': False, 'retweet_count': 0, 'favorite_count': 0, 'favorited': False, 'retweeted': False, 'lang': 'en'}, created_at=datetime.datetime(2020, 11, 4, 9, 34, 14), id=1323921487640735745, id_str='1323921487640735745', full_text='Our (RCB’s) chances of winning IPL is like COVID vaccine!\\n\\nWe want it, might happen at some point, nobody knows when and everyone is still optimistic 😷\\n\\n#rcb #ipl #ipl2020 #Dream11IPL @RCBTweets @Dream11 @IPL #Bengaluru #rcbforever #viratkholi #RoyalChallengersBangalore #BCCI', truncated=False, display_text_range=[0, 276], entities={'hashtags': [{'text': 'rcb', 'indices': [153, 157]}, {'text': 'ipl', 'indices': [158, 162]}, {'text': 'ipl2020', 'indices': [163, 171]}, {'text': 'Dream11IPL', 'indices': [172, 183]}, {'text': 'Bengaluru', 'indices': [209, 219]}, {'text': 'rcbforever', 'indices': [220, 231]}, {'text': 'viratkholi', 'indices': [232, 243]}, {'text': 'RoyalChallengersBangalore', 'indices': [244, 270]}, {'text': 'BCCI', 'indices': [271, 276]}], 'symbols': [], 'user_mentions': [{'screen_name': 'RCBTweets', 'name': 'Royal Challengers Bangalore', 'id': 70931004, 'id_str': '70931004', 'indices': [184, 194]}, {'screen_name': 'Dream11', 'name': 'Dream11', 'id': 22738536, 'id_str': '22738536', 'indices': [195, 203]}, {'screen_name': 'IPL', 'name': 'IndianPremierLeague', 'id': 15639696, 'id_str': '15639696', 'indices': [204, 208]}], 'urls': []}, metadata={'iso_language_code': 'en', 'result_type': 'recent'}, source='Twitter for iPhone', source_url='http://twitter.com/download/iphone', in_reply_to_status_id=None, in_reply_to_status_id_str=None, in_reply_to_user_id=None, in_reply_to_user_id_str=None, in_reply_to_screen_name=None, author=User(_api=<tweepy.api.API object at 0x0000029C5BEE5CC8>, _json={'id': 33046429, 'id_str': '33046429', 'name': 'Shreepad Kuthyar', 'screen_name': 'shree_kp', 'location': 'Bangalore', 'description': 'Travel..Food..Music..RCB..the usual stuff!', 'url': None, 'entities': {'description': {'urls': []}}, 'protected': False, 'followers_count': 87, 'friends_count': 81, 'listed_count': 0, 'created_at': 'Sat Apr 18 23:14:00 +0000 2009', 'favourites_count': 890, 'utc_offset': None, 'time_zone': None, 'geo_enabled': True, 'verified': False, 'statuses_count': 272, 'lang': None, 'contributors_enabled': False, 'is_translator': False, 'is_translation_enabled': False, 'profile_background_color': '000000', 'profile_background_image_url': 'http://abs.twimg.com/images/themes/theme15/bg.png', 'profile_background_image_url_https': 'https://abs.twimg.com/images/themes/theme15/bg.png', 'profile_background_tile': False, 'profile_image_url': 'http://pbs.twimg.com/profile_images/770686231655002113/cxDUK4xP_normal.jpg', 'profile_image_url_https': 'https://pbs.twimg.com/profile_images/770686231655002113/cxDUK4xP_normal.jpg', 'profile_banner_url': 'https://pbs.twimg.com/profile_banners/33046429/1503583763', 'profile_link_color': '1B95E0', 'profile_sidebar_border_color': '000000', 'profile_sidebar_fill_color': '000000', 'profile_text_color': '000000', 'profile_use_background_image': False, 'has_extended_profile': True, 'default_profile': False, 'default_profile_image': False, 'following': False, 'follow_request_sent': False, 'notifications': False, 'translator_type': 'none'}, id=33046429, id_str='33046429', name='Shreepad Kuthyar', screen_name='shree_kp', location='Bangalore', description='Travel..Food..Music..RCB..the usual stuff!', url=None, entities={'description': {'urls': []}}, protected=False, followers_count=87, friends_count=81, listed_count=0, created_at=datetime.datetime(2009, 4, 18, 23, 14), favourites_count=890, utc_offset=None, time_zone=None, geo_enabled=True, verified=False, statuses_count=272, lang=None, contributors_enabled=False, is_translator=False, is_translation_enabled=False, profile_background_color='000000', profile_background_image_url='http://abs.twimg.com/images/themes/theme15/bg.png', profile_background_image_url_https='https://abs.twimg.com/images/themes/theme15/bg.png', profile_background_tile=False, profile_image_url='http://pbs.twimg.com/profile_images/770686231655002113/cxDUK4xP_normal.jpg', profile_image_url_https='https://pbs.twimg.com/profile_images/770686231655002113/cxDUK4xP_normal.jpg', profile_banner_url='https://pbs.twimg.com/profile_banners/33046429/1503583763', profile_link_color='1B95E0', profile_sidebar_border_color='000000', profile_sidebar_fill_color='000000', profile_text_color='000000', profile_use_background_image=False, has_extended_profile=True, default_profile=False, default_profile_image=False, following=False, follow_request_sent=False, notifications=False, translator_type='none'), user=User(_api=<tweepy.api.API object at 0x0000029C5BEE5CC8>, _json={'id': 33046429, 'id_str': '33046429', 'name': 'Shreepad Kuthyar', 'screen_name': 'shree_kp', 'location': 'Bangalore', 'description': 'Travel..Food..Music..RCB..the usual stuff!', 'url': None, 'entities': {'description': {'urls': []}}, 'protected': False, 'followers_count': 87, 'friends_count': 81, 'listed_count': 0, 'created_at': 'Sat Apr 18 23:14:00 +0000 2009', 'favourites_count': 890, 'utc_offset': None, 'time_zone': None, 'geo_enabled': True, 'verified': False, 'statuses_count': 272, 'lang': None, 'contributors_enabled': False, 'is_translator': False, 'is_translation_enabled': False, 'profile_background_color': '000000', 'profile_background_image_url': 'http://abs.twimg.com/images/themes/theme15/bg.png', 'profile_background_image_url_https': 'https://abs.twimg.com/images/themes/theme15/bg.png', 'profile_background_tile': False, 'profile_image_url': 'http://pbs.twimg.com/profile_images/770686231655002113/cxDUK4xP_normal.jpg', 'profile_image_url_https': 'https://pbs.twimg.com/profile_images/770686231655002113/cxDUK4xP_normal.jpg', 'profile_banner_url': 'https://pbs.twimg.com/profile_banners/33046429/1503583763', 'profile_link_color': '1B95E0', 'profile_sidebar_border_color': '000000', 'profile_sidebar_fill_color': '000000', 'profile_text_color': '000000', 'profile_use_background_image': False, 'has_extended_profile': True, 'default_profile': False, 'default_profile_image': False, 'following': False, 'follow_request_sent': False, 'notifications': False, 'translator_type': 'none'}, id=33046429, id_str='33046429', name='Shreepad Kuthyar', screen_name='shree_kp', location='Bangalore', description='Travel..Food..Music..RCB..the usual stuff!', url=None, entities={'description': {'urls': []}}, protected=False, followers_count=87, friends_count=81, listed_count=0, created_at=datetime.datetime(2009, 4, 18, 23, 14), favourites_count=890, utc_offset=None, time_zone=None, geo_enabled=True, verified=False, statuses_count=272, lang=None, contributors_enabled=False, is_translator=False, is_translation_enabled=False, profile_background_color='000000', profile_background_image_url='http://abs.twimg.com/images/themes/theme15/bg.png', profile_background_image_url_https='https://abs.twimg.com/images/themes/theme15/bg.png', profile_background_tile=False, profile_image_url='http://pbs.twimg.com/profile_images/770686231655002113/cxDUK4xP_normal.jpg', profile_image_url_https='https://pbs.twimg.com/profile_images/770686231655002113/cxDUK4xP_normal.jpg', profile_banner_url='https://pbs.twimg.com/profile_banners/33046429/1503583763', profile_link_color='1B95E0', profile_sidebar_border_color='000000', profile_sidebar_fill_color='000000', profile_text_color='000000', profile_use_background_image=False, has_extended_profile=True, default_profile=False, default_profile_image=False, following=False, follow_request_sent=False, notifications=False, translator_type='none'), geo=None, coordinates=None, place=Place(_api=<tweepy.api.API object at 0x0000029C5BEE5CC8>, id='5f55bb82cf16ac81', url='https://api.twitter.com/1.1/geo/id/5f55bb82cf16ac81.json', place_type='city', name='Bengaluru South', full_name='Bengaluru South, India', country_code='IN', country='India', contained_within=[], bounding_box=BoundingBox(_api=<tweepy.api.API object at 0x0000029C5BEE5CC8>, type='Polygon', coordinates=[[[77.3305776, 12.731936], [77.7863188, 12.731936], [77.7863188, 13.1142933], [77.3305776, 13.1142933]]]), attributes={}), contributors=None, is_quote_status=False, retweet_count=0, favorite_count=0, favorited=False, retweeted=False, lang='en') \n",
      "\n",
      ".....................................\n",
      "\n",
      "Status(_api=<tweepy.api.API object at 0x0000029C5BEE5CC8>, _json={'created_at': 'Wed Nov 04 09:00:45 +0000 2020', 'id': 1323913062059896834, 'id_str': '1323913062059896834', 'full_text': \"@CricCrazyJohns OBVIOUSLY\\nRCB are winning this year's IPL 🤟🤟🤟\", 'truncated': False, 'display_text_range': [16, 61], 'entities': {'hashtags': [], 'symbols': [], 'user_mentions': [{'screen_name': 'CricCrazyJohns', 'name': 'Johns.', 'id': 743735095308099585, 'id_str': '743735095308099585', 'indices': [0, 15]}], 'urls': []}, 'metadata': {'iso_language_code': 'en', 'result_type': 'recent'}, 'source': '<a href=\"http://twitter.com/download/android\" rel=\"nofollow\">Twitter for Android</a>', 'in_reply_to_status_id': 1323889989340393472, 'in_reply_to_status_id_str': '1323889989340393472', 'in_reply_to_user_id': 743735095308099585, 'in_reply_to_user_id_str': '743735095308099585', 'in_reply_to_screen_name': 'CricCrazyJohns', 'user': {'id': 3151415440, 'id_str': '3151415440', 'name': 'Definitely NOT!', 'screen_name': 'msdian_prajju', 'location': '', 'description': 'DHONI \\nICT\\nCSK\\nCRICKET', 'url': None, 'entities': {'description': {'urls': []}}, 'protected': False, 'followers_count': 470, 'friends_count': 527, 'listed_count': 4, 'created_at': 'Thu Apr 09 12:04:15 +0000 2015', 'favourites_count': 38837, 'utc_offset': None, 'time_zone': None, 'geo_enabled': True, 'verified': False, 'statuses_count': 21602, 'lang': None, 'contributors_enabled': False, 'is_translator': False, 'is_translation_enabled': False, 'profile_background_color': 'C0DEED', 'profile_background_image_url': 'http://abs.twimg.com/images/themes/theme1/bg.png', 'profile_background_image_url_https': 'https://abs.twimg.com/images/themes/theme1/bg.png', 'profile_background_tile': False, 'profile_image_url': 'http://pbs.twimg.com/profile_images/1100848415238279168/7KNr4kK2_normal.jpg', 'profile_image_url_https': 'https://pbs.twimg.com/profile_images/1100848415238279168/7KNr4kK2_normal.jpg', 'profile_banner_url': 'https://pbs.twimg.com/profile_banners/3151415440/1601883399', 'profile_link_color': '1DA1F2', 'profile_sidebar_border_color': 'C0DEED', 'profile_sidebar_fill_color': 'DDEEF6', 'profile_text_color': '333333', 'profile_use_background_image': True, 'has_extended_profile': False, 'default_profile': True, 'default_profile_image': False, 'following': False, 'follow_request_sent': False, 'notifications': False, 'translator_type': 'none'}, 'geo': None, 'coordinates': None, 'place': None, 'contributors': None, 'is_quote_status': False, 'retweet_count': 0, 'favorite_count': 2, 'favorited': False, 'retweeted': False, 'lang': 'en'}, created_at=datetime.datetime(2020, 11, 4, 9, 0, 45), id=1323913062059896834, id_str='1323913062059896834', full_text=\"@CricCrazyJohns OBVIOUSLY\\nRCB are winning this year's IPL 🤟🤟🤟\", truncated=False, display_text_range=[16, 61], entities={'hashtags': [], 'symbols': [], 'user_mentions': [{'screen_name': 'CricCrazyJohns', 'name': 'Johns.', 'id': 743735095308099585, 'id_str': '743735095308099585', 'indices': [0, 15]}], 'urls': []}, metadata={'iso_language_code': 'en', 'result_type': 'recent'}, source='Twitter for Android', source_url='http://twitter.com/download/android', in_reply_to_status_id=1323889989340393472, in_reply_to_status_id_str='1323889989340393472', in_reply_to_user_id=743735095308099585, in_reply_to_user_id_str='743735095308099585', in_reply_to_screen_name='CricCrazyJohns', author=User(_api=<tweepy.api.API object at 0x0000029C5BEE5CC8>, _json={'id': 3151415440, 'id_str': '3151415440', 'name': 'Definitely NOT!', 'screen_name': 'msdian_prajju', 'location': '', 'description': 'DHONI \\nICT\\nCSK\\nCRICKET', 'url': None, 'entities': {'description': {'urls': []}}, 'protected': False, 'followers_count': 470, 'friends_count': 527, 'listed_count': 4, 'created_at': 'Thu Apr 09 12:04:15 +0000 2015', 'favourites_count': 38837, 'utc_offset': None, 'time_zone': None, 'geo_enabled': True, 'verified': False, 'statuses_count': 21602, 'lang': None, 'contributors_enabled': False, 'is_translator': False, 'is_translation_enabled': False, 'profile_background_color': 'C0DEED', 'profile_background_image_url': 'http://abs.twimg.com/images/themes/theme1/bg.png', 'profile_background_image_url_https': 'https://abs.twimg.com/images/themes/theme1/bg.png', 'profile_background_tile': False, 'profile_image_url': 'http://pbs.twimg.com/profile_images/1100848415238279168/7KNr4kK2_normal.jpg', 'profile_image_url_https': 'https://pbs.twimg.com/profile_images/1100848415238279168/7KNr4kK2_normal.jpg', 'profile_banner_url': 'https://pbs.twimg.com/profile_banners/3151415440/1601883399', 'profile_link_color': '1DA1F2', 'profile_sidebar_border_color': 'C0DEED', 'profile_sidebar_fill_color': 'DDEEF6', 'profile_text_color': '333333', 'profile_use_background_image': True, 'has_extended_profile': False, 'default_profile': True, 'default_profile_image': False, 'following': False, 'follow_request_sent': False, 'notifications': False, 'translator_type': 'none'}, id=3151415440, id_str='3151415440', name='Definitely NOT!', screen_name='msdian_prajju', location='', description='DHONI \\nICT\\nCSK\\nCRICKET', url=None, entities={'description': {'urls': []}}, protected=False, followers_count=470, friends_count=527, listed_count=4, created_at=datetime.datetime(2015, 4, 9, 12, 4, 15), favourites_count=38837, utc_offset=None, time_zone=None, geo_enabled=True, verified=False, statuses_count=21602, lang=None, contributors_enabled=False, is_translator=False, is_translation_enabled=False, profile_background_color='C0DEED', profile_background_image_url='http://abs.twimg.com/images/themes/theme1/bg.png', profile_background_image_url_https='https://abs.twimg.com/images/themes/theme1/bg.png', profile_background_tile=False, profile_image_url='http://pbs.twimg.com/profile_images/1100848415238279168/7KNr4kK2_normal.jpg', profile_image_url_https='https://pbs.twimg.com/profile_images/1100848415238279168/7KNr4kK2_normal.jpg', profile_banner_url='https://pbs.twimg.com/profile_banners/3151415440/1601883399', profile_link_color='1DA1F2', profile_sidebar_border_color='C0DEED', profile_sidebar_fill_color='DDEEF6', profile_text_color='333333', profile_use_background_image=True, has_extended_profile=False, default_profile=True, default_profile_image=False, following=False, follow_request_sent=False, notifications=False, translator_type='none'), user=User(_api=<tweepy.api.API object at 0x0000029C5BEE5CC8>, _json={'id': 3151415440, 'id_str': '3151415440', 'name': 'Definitely NOT!', 'screen_name': 'msdian_prajju', 'location': '', 'description': 'DHONI \\nICT\\nCSK\\nCRICKET', 'url': None, 'entities': {'description': {'urls': []}}, 'protected': False, 'followers_count': 470, 'friends_count': 527, 'listed_count': 4, 'created_at': 'Thu Apr 09 12:04:15 +0000 2015', 'favourites_count': 38837, 'utc_offset': None, 'time_zone': None, 'geo_enabled': True, 'verified': False, 'statuses_count': 21602, 'lang': None, 'contributors_enabled': False, 'is_translator': False, 'is_translation_enabled': False, 'profile_background_color': 'C0DEED', 'profile_background_image_url': 'http://abs.twimg.com/images/themes/theme1/bg.png', 'profile_background_image_url_https': 'https://abs.twimg.com/images/themes/theme1/bg.png', 'profile_background_tile': False, 'profile_image_url': 'http://pbs.twimg.com/profile_images/1100848415238279168/7KNr4kK2_normal.jpg', 'profile_image_url_https': 'https://pbs.twimg.com/profile_images/1100848415238279168/7KNr4kK2_normal.jpg', 'profile_banner_url': 'https://pbs.twimg.com/profile_banners/3151415440/1601883399', 'profile_link_color': '1DA1F2', 'profile_sidebar_border_color': 'C0DEED', 'profile_sidebar_fill_color': 'DDEEF6', 'profile_text_color': '333333', 'profile_use_background_image': True, 'has_extended_profile': False, 'default_profile': True, 'default_profile_image': False, 'following': False, 'follow_request_sent': False, 'notifications': False, 'translator_type': 'none'}, id=3151415440, id_str='3151415440', name='Definitely NOT!', screen_name='msdian_prajju', location='', description='DHONI \\nICT\\nCSK\\nCRICKET', url=None, entities={'description': {'urls': []}}, protected=False, followers_count=470, friends_count=527, listed_count=4, created_at=datetime.datetime(2015, 4, 9, 12, 4, 15), favourites_count=38837, utc_offset=None, time_zone=None, geo_enabled=True, verified=False, statuses_count=21602, lang=None, contributors_enabled=False, is_translator=False, is_translation_enabled=False, profile_background_color='C0DEED', profile_background_image_url='http://abs.twimg.com/images/themes/theme1/bg.png', profile_background_image_url_https='https://abs.twimg.com/images/themes/theme1/bg.png', profile_background_tile=False, profile_image_url='http://pbs.twimg.com/profile_images/1100848415238279168/7KNr4kK2_normal.jpg', profile_image_url_https='https://pbs.twimg.com/profile_images/1100848415238279168/7KNr4kK2_normal.jpg', profile_banner_url='https://pbs.twimg.com/profile_banners/3151415440/1601883399', profile_link_color='1DA1F2', profile_sidebar_border_color='C0DEED', profile_sidebar_fill_color='DDEEF6', profile_text_color='333333', profile_use_background_image=True, has_extended_profile=False, default_profile=True, default_profile_image=False, following=False, follow_request_sent=False, notifications=False, translator_type='none'), geo=None, coordinates=None, place=None, contributors=None, is_quote_status=False, retweet_count=0, favorite_count=2, favorited=False, retweeted=False, lang='en') \n",
      "\n",
      ".....................................\n",
      "\n",
      "Status(_api=<tweepy.api.API object at 0x0000029C5BEE5CC8>, _json={'created_at': 'Wed Nov 04 08:39:12 +0000 2020', 'id': 1323907639726600193, 'id_str': '1323907639726600193', 'full_text': '\"I still have a feeling that this strange year can turn out to be RCB\\'s year. Now, after 4 Consecutive defeats, can we regain our winning momentum. Can we win the three matches that Stand between us and a first IPL title? Yes, we can.\"\\n\\n- Ab De Villiers https://t.co/Ldz1E4mUzo', 'truncated': False, 'display_text_range': [0, 253], 'entities': {'hashtags': [], 'symbols': [], 'user_mentions': [], 'urls': [], 'media': [{'id': 1323907631485014016, 'id_str': '1323907631485014016', 'indices': [254, 277], 'media_url': 'http://pbs.twimg.com/media/El92-foX0AAqDxr.jpg', 'media_url_https': 'https://pbs.twimg.com/media/El92-foX0AAqDxr.jpg', 'url': 'https://t.co/Ldz1E4mUzo', 'display_url': 'pic.twitter.com/Ldz1E4mUzo', 'expanded_url': 'https://twitter.com/man4_cricket/status/1323907639726600193/photo/1', 'type': 'photo', 'sizes': {'thumb': {'w': 150, 'h': 150, 'resize': 'crop'}, 'large': {'w': 639, 'h': 480, 'resize': 'fit'}, 'medium': {'w': 639, 'h': 480, 'resize': 'fit'}, 'small': {'w': 639, 'h': 480, 'resize': 'fit'}}}]}, 'extended_entities': {'media': [{'id': 1323907631485014016, 'id_str': '1323907631485014016', 'indices': [254, 277], 'media_url': 'http://pbs.twimg.com/media/El92-foX0AAqDxr.jpg', 'media_url_https': 'https://pbs.twimg.com/media/El92-foX0AAqDxr.jpg', 'url': 'https://t.co/Ldz1E4mUzo', 'display_url': 'pic.twitter.com/Ldz1E4mUzo', 'expanded_url': 'https://twitter.com/man4_cricket/status/1323907639726600193/photo/1', 'type': 'photo', 'sizes': {'thumb': {'w': 150, 'h': 150, 'resize': 'crop'}, 'large': {'w': 639, 'h': 480, 'resize': 'fit'}, 'medium': {'w': 639, 'h': 480, 'resize': 'fit'}, 'small': {'w': 639, 'h': 480, 'resize': 'fit'}}}, {'id': 1323907637113769985, 'id_str': '1323907637113769985', 'indices': [254, 277], 'media_url': 'http://pbs.twimg.com/media/El92-0mX0AEXXtB.jpg', 'media_url_https': 'https://pbs.twimg.com/media/El92-0mX0AEXXtB.jpg', 'url': 'https://t.co/Ldz1E4mUzo', 'display_url': 'pic.twitter.com/Ldz1E4mUzo', 'expanded_url': 'https://twitter.com/man4_cricket/status/1323907639726600193/photo/1', 'type': 'photo', 'sizes': {'thumb': {'w': 150, 'h': 150, 'resize': 'crop'}, 'large': {'w': 639, 'h': 480, 'resize': 'fit'}, 'medium': {'w': 639, 'h': 480, 'resize': 'fit'}, 'small': {'w': 639, 'h': 480, 'resize': 'fit'}}}]}, 'metadata': {'iso_language_code': 'en', 'result_type': 'recent'}, 'source': '<a href=\"http://twitter.com/download/android\" rel=\"nofollow\">Twitter for Android</a>', 'in_reply_to_status_id': None, 'in_reply_to_status_id_str': None, 'in_reply_to_user_id': None, 'in_reply_to_user_id_str': None, 'in_reply_to_screen_name': None, 'user': {'id': 1228212887610515459, 'id_str': '1228212887610515459', 'name': 'CricketMAN2', 'screen_name': 'man4_cricket', 'location': 'India', 'description': 'BIG Fan Of Cap_Fearless!! 👑@imVKohli', 'url': None, 'entities': {'description': {'urls': []}}, 'protected': False, 'followers_count': 4289, 'friends_count': 44, 'listed_count': 6, 'created_at': 'Fri Feb 14 07:02:46 +0000 2020', 'favourites_count': 15528, 'utc_offset': None, 'time_zone': None, 'geo_enabled': True, 'verified': False, 'statuses_count': 7897, 'lang': None, 'contributors_enabled': False, 'is_translator': False, 'is_translation_enabled': False, 'profile_background_color': 'F5F8FA', 'profile_background_image_url': None, 'profile_background_image_url_https': None, 'profile_background_tile': False, 'profile_image_url': 'http://pbs.twimg.com/profile_images/1228216944093827074/VfgydPCU_normal.jpg', 'profile_image_url_https': 'https://pbs.twimg.com/profile_images/1228216944093827074/VfgydPCU_normal.jpg', 'profile_banner_url': 'https://pbs.twimg.com/profile_banners/1228212887610515459/1581677149', 'profile_link_color': '1DA1F2', 'profile_sidebar_border_color': 'C0DEED', 'profile_sidebar_fill_color': 'DDEEF6', 'profile_text_color': '333333', 'profile_use_background_image': True, 'has_extended_profile': True, 'default_profile': True, 'default_profile_image': False, 'following': False, 'follow_request_sent': False, 'notifications': False, 'translator_type': 'none'}, 'geo': None, 'coordinates': None, 'place': None, 'contributors': None, 'is_quote_status': False, 'retweet_count': 27, 'favorite_count': 346, 'favorited': False, 'retweeted': False, 'possibly_sensitive': False, 'lang': 'en'}, created_at=datetime.datetime(2020, 11, 4, 8, 39, 12), id=1323907639726600193, id_str='1323907639726600193', full_text='\"I still have a feeling that this strange year can turn out to be RCB\\'s year. Now, after 4 Consecutive defeats, can we regain our winning momentum. Can we win the three matches that Stand between us and a first IPL title? Yes, we can.\"\\n\\n- Ab De Villiers https://t.co/Ldz1E4mUzo', truncated=False, display_text_range=[0, 253], entities={'hashtags': [], 'symbols': [], 'user_mentions': [], 'urls': [], 'media': [{'id': 1323907631485014016, 'id_str': '1323907631485014016', 'indices': [254, 277], 'media_url': 'http://pbs.twimg.com/media/El92-foX0AAqDxr.jpg', 'media_url_https': 'https://pbs.twimg.com/media/El92-foX0AAqDxr.jpg', 'url': 'https://t.co/Ldz1E4mUzo', 'display_url': 'pic.twitter.com/Ldz1E4mUzo', 'expanded_url': 'https://twitter.com/man4_cricket/status/1323907639726600193/photo/1', 'type': 'photo', 'sizes': {'thumb': {'w': 150, 'h': 150, 'resize': 'crop'}, 'large': {'w': 639, 'h': 480, 'resize': 'fit'}, 'medium': {'w': 639, 'h': 480, 'resize': 'fit'}, 'small': {'w': 639, 'h': 480, 'resize': 'fit'}}}]}, extended_entities={'media': [{'id': 1323907631485014016, 'id_str': '1323907631485014016', 'indices': [254, 277], 'media_url': 'http://pbs.twimg.com/media/El92-foX0AAqDxr.jpg', 'media_url_https': 'https://pbs.twimg.com/media/El92-foX0AAqDxr.jpg', 'url': 'https://t.co/Ldz1E4mUzo', 'display_url': 'pic.twitter.com/Ldz1E4mUzo', 'expanded_url': 'https://twitter.com/man4_cricket/status/1323907639726600193/photo/1', 'type': 'photo', 'sizes': {'thumb': {'w': 150, 'h': 150, 'resize': 'crop'}, 'large': {'w': 639, 'h': 480, 'resize': 'fit'}, 'medium': {'w': 639, 'h': 480, 'resize': 'fit'}, 'small': {'w': 639, 'h': 480, 'resize': 'fit'}}}, {'id': 1323907637113769985, 'id_str': '1323907637113769985', 'indices': [254, 277], 'media_url': 'http://pbs.twimg.com/media/El92-0mX0AEXXtB.jpg', 'media_url_https': 'https://pbs.twimg.com/media/El92-0mX0AEXXtB.jpg', 'url': 'https://t.co/Ldz1E4mUzo', 'display_url': 'pic.twitter.com/Ldz1E4mUzo', 'expanded_url': 'https://twitter.com/man4_cricket/status/1323907639726600193/photo/1', 'type': 'photo', 'sizes': {'thumb': {'w': 150, 'h': 150, 'resize': 'crop'}, 'large': {'w': 639, 'h': 480, 'resize': 'fit'}, 'medium': {'w': 639, 'h': 480, 'resize': 'fit'}, 'small': {'w': 639, 'h': 480, 'resize': 'fit'}}}]}, metadata={'iso_language_code': 'en', 'result_type': 'recent'}, source='Twitter for Android', source_url='http://twitter.com/download/android', in_reply_to_status_id=None, in_reply_to_status_id_str=None, in_reply_to_user_id=None, in_reply_to_user_id_str=None, in_reply_to_screen_name=None, author=User(_api=<tweepy.api.API object at 0x0000029C5BEE5CC8>, _json={'id': 1228212887610515459, 'id_str': '1228212887610515459', 'name': 'CricketMAN2', 'screen_name': 'man4_cricket', 'location': 'India', 'description': 'BIG Fan Of Cap_Fearless!! 👑@imVKohli', 'url': None, 'entities': {'description': {'urls': []}}, 'protected': False, 'followers_count': 4289, 'friends_count': 44, 'listed_count': 6, 'created_at': 'Fri Feb 14 07:02:46 +0000 2020', 'favourites_count': 15528, 'utc_offset': None, 'time_zone': None, 'geo_enabled': True, 'verified': False, 'statuses_count': 7897, 'lang': None, 'contributors_enabled': False, 'is_translator': False, 'is_translation_enabled': False, 'profile_background_color': 'F5F8FA', 'profile_background_image_url': None, 'profile_background_image_url_https': None, 'profile_background_tile': False, 'profile_image_url': 'http://pbs.twimg.com/profile_images/1228216944093827074/VfgydPCU_normal.jpg', 'profile_image_url_https': 'https://pbs.twimg.com/profile_images/1228216944093827074/VfgydPCU_normal.jpg', 'profile_banner_url': 'https://pbs.twimg.com/profile_banners/1228212887610515459/1581677149', 'profile_link_color': '1DA1F2', 'profile_sidebar_border_color': 'C0DEED', 'profile_sidebar_fill_color': 'DDEEF6', 'profile_text_color': '333333', 'profile_use_background_image': True, 'has_extended_profile': True, 'default_profile': True, 'default_profile_image': False, 'following': False, 'follow_request_sent': False, 'notifications': False, 'translator_type': 'none'}, id=1228212887610515459, id_str='1228212887610515459', name='CricketMAN2', screen_name='man4_cricket', location='India', description='BIG Fan Of Cap_Fearless!! 👑@imVKohli', url=None, entities={'description': {'urls': []}}, protected=False, followers_count=4289, friends_count=44, listed_count=6, created_at=datetime.datetime(2020, 2, 14, 7, 2, 46), favourites_count=15528, utc_offset=None, time_zone=None, geo_enabled=True, verified=False, statuses_count=7897, lang=None, contributors_enabled=False, is_translator=False, is_translation_enabled=False, profile_background_color='F5F8FA', profile_background_image_url=None, profile_background_image_url_https=None, profile_background_tile=False, profile_image_url='http://pbs.twimg.com/profile_images/1228216944093827074/VfgydPCU_normal.jpg', profile_image_url_https='https://pbs.twimg.com/profile_images/1228216944093827074/VfgydPCU_normal.jpg', profile_banner_url='https://pbs.twimg.com/profile_banners/1228212887610515459/1581677149', profile_link_color='1DA1F2', profile_sidebar_border_color='C0DEED', profile_sidebar_fill_color='DDEEF6', profile_text_color='333333', profile_use_background_image=True, has_extended_profile=True, default_profile=True, default_profile_image=False, following=False, follow_request_sent=False, notifications=False, translator_type='none'), user=User(_api=<tweepy.api.API object at 0x0000029C5BEE5CC8>, _json={'id': 1228212887610515459, 'id_str': '1228212887610515459', 'name': 'CricketMAN2', 'screen_name': 'man4_cricket', 'location': 'India', 'description': 'BIG Fan Of Cap_Fearless!! 👑@imVKohli', 'url': None, 'entities': {'description': {'urls': []}}, 'protected': False, 'followers_count': 4289, 'friends_count': 44, 'listed_count': 6, 'created_at': 'Fri Feb 14 07:02:46 +0000 2020', 'favourites_count': 15528, 'utc_offset': None, 'time_zone': None, 'geo_enabled': True, 'verified': False, 'statuses_count': 7897, 'lang': None, 'contributors_enabled': False, 'is_translator': False, 'is_translation_enabled': False, 'profile_background_color': 'F5F8FA', 'profile_background_image_url': None, 'profile_background_image_url_https': None, 'profile_background_tile': False, 'profile_image_url': 'http://pbs.twimg.com/profile_images/1228216944093827074/VfgydPCU_normal.jpg', 'profile_image_url_https': 'https://pbs.twimg.com/profile_images/1228216944093827074/VfgydPCU_normal.jpg', 'profile_banner_url': 'https://pbs.twimg.com/profile_banners/1228212887610515459/1581677149', 'profile_link_color': '1DA1F2', 'profile_sidebar_border_color': 'C0DEED', 'profile_sidebar_fill_color': 'DDEEF6', 'profile_text_color': '333333', 'profile_use_background_image': True, 'has_extended_profile': True, 'default_profile': True, 'default_profile_image': False, 'following': False, 'follow_request_sent': False, 'notifications': False, 'translator_type': 'none'}, id=1228212887610515459, id_str='1228212887610515459', name='CricketMAN2', screen_name='man4_cricket', location='India', description='BIG Fan Of Cap_Fearless!! 👑@imVKohli', url=None, entities={'description': {'urls': []}}, protected=False, followers_count=4289, friends_count=44, listed_count=6, created_at=datetime.datetime(2020, 2, 14, 7, 2, 46), favourites_count=15528, utc_offset=None, time_zone=None, geo_enabled=True, verified=False, statuses_count=7897, lang=None, contributors_enabled=False, is_translator=False, is_translation_enabled=False, profile_background_color='F5F8FA', profile_background_image_url=None, profile_background_image_url_https=None, profile_background_tile=False, profile_image_url='http://pbs.twimg.com/profile_images/1228216944093827074/VfgydPCU_normal.jpg', profile_image_url_https='https://pbs.twimg.com/profile_images/1228216944093827074/VfgydPCU_normal.jpg', profile_banner_url='https://pbs.twimg.com/profile_banners/1228212887610515459/1581677149', profile_link_color='1DA1F2', profile_sidebar_border_color='C0DEED', profile_sidebar_fill_color='DDEEF6', profile_text_color='333333', profile_use_background_image=True, has_extended_profile=True, default_profile=True, default_profile_image=False, following=False, follow_request_sent=False, notifications=False, translator_type='none'), geo=None, coordinates=None, place=None, contributors=None, is_quote_status=False, retweet_count=27, favorite_count=346, favorited=False, retweeted=False, possibly_sensitive=False, lang='en') \n",
      "\n",
      ".....................................\n",
      "\n",
      "Status(_api=<tweepy.api.API object at 0x0000029C5BEE5CC8>, _json={'created_at': 'Wed Nov 04 08:18:50 +0000 2020', 'id': 1323902513716760577, 'id_str': '1323902513716760577', 'full_text': \"@parthusbae Okk! I don't love virat a bit more \\nI was not ipl viewer before but 2020 mein free hai toh my frnd suggested me to watch nd idk i felt a attraction towards RCB may be becoz everyone bully them for not winning but then i got DeV in tht nd now i love DeV a bit more. 😌😌\", 'truncated': False, 'display_text_range': [12, 279], 'entities': {'hashtags': [], 'symbols': [], 'user_mentions': [{'screen_name': 'parthusbae', 'name': '𝚜𝚊𝚞𝚖𝚣 ✩', 'id': 1251088916129538048, 'id_str': '1251088916129538048', 'indices': [0, 11]}], 'urls': []}, 'metadata': {'iso_language_code': 'en', 'result_type': 'recent'}, 'source': '<a href=\"http://twitter.com/download/android\" rel=\"nofollow\">Twitter for Android</a>', 'in_reply_to_status_id': 1323895247718395905, 'in_reply_to_status_id_str': '1323895247718395905', 'in_reply_to_user_id': 1251088916129538048, 'in_reply_to_user_id_str': '1251088916129538048', 'in_reply_to_screen_name': 'parthusbae', 'user': {'id': 1194712907566551040, 'id_str': '1194712907566551040', 'name': 'SoNaM❣/DEVDUTT stan', 'screen_name': 'im_Sonm', 'location': '', 'description': 'This Girl Can ✨💫', 'url': None, 'entities': {'description': {'urls': []}}, 'protected': False, 'followers_count': 2386, 'friends_count': 379, 'listed_count': 0, 'created_at': 'Wed Nov 13 20:25:55 +0000 2019', 'favourites_count': 62143, 'utc_offset': None, 'time_zone': None, 'geo_enabled': False, 'verified': False, 'statuses_count': 37830, 'lang': None, 'contributors_enabled': False, 'is_translator': False, 'is_translation_enabled': False, 'profile_background_color': 'F5F8FA', 'profile_background_image_url': None, 'profile_background_image_url_https': None, 'profile_background_tile': False, 'profile_image_url': 'http://pbs.twimg.com/profile_images/1320659762355163137/8NuZjdgR_normal.jpg', 'profile_image_url_https': 'https://pbs.twimg.com/profile_images/1320659762355163137/8NuZjdgR_normal.jpg', 'profile_banner_url': 'https://pbs.twimg.com/profile_banners/1194712907566551040/1604076714', 'profile_link_color': '1DA1F2', 'profile_sidebar_border_color': 'C0DEED', 'profile_sidebar_fill_color': 'DDEEF6', 'profile_text_color': '333333', 'profile_use_background_image': True, 'has_extended_profile': False, 'default_profile': True, 'default_profile_image': False, 'following': False, 'follow_request_sent': False, 'notifications': False, 'translator_type': 'none'}, 'geo': None, 'coordinates': None, 'place': None, 'contributors': None, 'is_quote_status': False, 'retweet_count': 0, 'favorite_count': 0, 'favorited': False, 'retweeted': False, 'lang': 'en'}, created_at=datetime.datetime(2020, 11, 4, 8, 18, 50), id=1323902513716760577, id_str='1323902513716760577', full_text=\"@parthusbae Okk! I don't love virat a bit more \\nI was not ipl viewer before but 2020 mein free hai toh my frnd suggested me to watch nd idk i felt a attraction towards RCB may be becoz everyone bully them for not winning but then i got DeV in tht nd now i love DeV a bit more. 😌😌\", truncated=False, display_text_range=[12, 279], entities={'hashtags': [], 'symbols': [], 'user_mentions': [{'screen_name': 'parthusbae', 'name': '𝚜𝚊𝚞𝚖𝚣 ✩', 'id': 1251088916129538048, 'id_str': '1251088916129538048', 'indices': [0, 11]}], 'urls': []}, metadata={'iso_language_code': 'en', 'result_type': 'recent'}, source='Twitter for Android', source_url='http://twitter.com/download/android', in_reply_to_status_id=1323895247718395905, in_reply_to_status_id_str='1323895247718395905', in_reply_to_user_id=1251088916129538048, in_reply_to_user_id_str='1251088916129538048', in_reply_to_screen_name='parthusbae', author=User(_api=<tweepy.api.API object at 0x0000029C5BEE5CC8>, _json={'id': 1194712907566551040, 'id_str': '1194712907566551040', 'name': 'SoNaM❣/DEVDUTT stan', 'screen_name': 'im_Sonm', 'location': '', 'description': 'This Girl Can ✨💫', 'url': None, 'entities': {'description': {'urls': []}}, 'protected': False, 'followers_count': 2386, 'friends_count': 379, 'listed_count': 0, 'created_at': 'Wed Nov 13 20:25:55 +0000 2019', 'favourites_count': 62143, 'utc_offset': None, 'time_zone': None, 'geo_enabled': False, 'verified': False, 'statuses_count': 37830, 'lang': None, 'contributors_enabled': False, 'is_translator': False, 'is_translation_enabled': False, 'profile_background_color': 'F5F8FA', 'profile_background_image_url': None, 'profile_background_image_url_https': None, 'profile_background_tile': False, 'profile_image_url': 'http://pbs.twimg.com/profile_images/1320659762355163137/8NuZjdgR_normal.jpg', 'profile_image_url_https': 'https://pbs.twimg.com/profile_images/1320659762355163137/8NuZjdgR_normal.jpg', 'profile_banner_url': 'https://pbs.twimg.com/profile_banners/1194712907566551040/1604076714', 'profile_link_color': '1DA1F2', 'profile_sidebar_border_color': 'C0DEED', 'profile_sidebar_fill_color': 'DDEEF6', 'profile_text_color': '333333', 'profile_use_background_image': True, 'has_extended_profile': False, 'default_profile': True, 'default_profile_image': False, 'following': False, 'follow_request_sent': False, 'notifications': False, 'translator_type': 'none'}, id=1194712907566551040, id_str='1194712907566551040', name='SoNaM❣/DEVDUTT stan', screen_name='im_Sonm', location='', description='This Girl Can ✨💫', url=None, entities={'description': {'urls': []}}, protected=False, followers_count=2386, friends_count=379, listed_count=0, created_at=datetime.datetime(2019, 11, 13, 20, 25, 55), favourites_count=62143, utc_offset=None, time_zone=None, geo_enabled=False, verified=False, statuses_count=37830, lang=None, contributors_enabled=False, is_translator=False, is_translation_enabled=False, profile_background_color='F5F8FA', profile_background_image_url=None, profile_background_image_url_https=None, profile_background_tile=False, profile_image_url='http://pbs.twimg.com/profile_images/1320659762355163137/8NuZjdgR_normal.jpg', profile_image_url_https='https://pbs.twimg.com/profile_images/1320659762355163137/8NuZjdgR_normal.jpg', profile_banner_url='https://pbs.twimg.com/profile_banners/1194712907566551040/1604076714', profile_link_color='1DA1F2', profile_sidebar_border_color='C0DEED', profile_sidebar_fill_color='DDEEF6', profile_text_color='333333', profile_use_background_image=True, has_extended_profile=False, default_profile=True, default_profile_image=False, following=False, follow_request_sent=False, notifications=False, translator_type='none'), user=User(_api=<tweepy.api.API object at 0x0000029C5BEE5CC8>, _json={'id': 1194712907566551040, 'id_str': '1194712907566551040', 'name': 'SoNaM❣/DEVDUTT stan', 'screen_name': 'im_Sonm', 'location': '', 'description': 'This Girl Can ✨💫', 'url': None, 'entities': {'description': {'urls': []}}, 'protected': False, 'followers_count': 2386, 'friends_count': 379, 'listed_count': 0, 'created_at': 'Wed Nov 13 20:25:55 +0000 2019', 'favourites_count': 62143, 'utc_offset': None, 'time_zone': None, 'geo_enabled': False, 'verified': False, 'statuses_count': 37830, 'lang': None, 'contributors_enabled': False, 'is_translator': False, 'is_translation_enabled': False, 'profile_background_color': 'F5F8FA', 'profile_background_image_url': None, 'profile_background_image_url_https': None, 'profile_background_tile': False, 'profile_image_url': 'http://pbs.twimg.com/profile_images/1320659762355163137/8NuZjdgR_normal.jpg', 'profile_image_url_https': 'https://pbs.twimg.com/profile_images/1320659762355163137/8NuZjdgR_normal.jpg', 'profile_banner_url': 'https://pbs.twimg.com/profile_banners/1194712907566551040/1604076714', 'profile_link_color': '1DA1F2', 'profile_sidebar_border_color': 'C0DEED', 'profile_sidebar_fill_color': 'DDEEF6', 'profile_text_color': '333333', 'profile_use_background_image': True, 'has_extended_profile': False, 'default_profile': True, 'default_profile_image': False, 'following': False, 'follow_request_sent': False, 'notifications': False, 'translator_type': 'none'}, id=1194712907566551040, id_str='1194712907566551040', name='SoNaM❣/DEVDUTT stan', screen_name='im_Sonm', location='', description='This Girl Can ✨💫', url=None, entities={'description': {'urls': []}}, protected=False, followers_count=2386, friends_count=379, listed_count=0, created_at=datetime.datetime(2019, 11, 13, 20, 25, 55), favourites_count=62143, utc_offset=None, time_zone=None, geo_enabled=False, verified=False, statuses_count=37830, lang=None, contributors_enabled=False, is_translator=False, is_translation_enabled=False, profile_background_color='F5F8FA', profile_background_image_url=None, profile_background_image_url_https=None, profile_background_tile=False, profile_image_url='http://pbs.twimg.com/profile_images/1320659762355163137/8NuZjdgR_normal.jpg', profile_image_url_https='https://pbs.twimg.com/profile_images/1320659762355163137/8NuZjdgR_normal.jpg', profile_banner_url='https://pbs.twimg.com/profile_banners/1194712907566551040/1604076714', profile_link_color='1DA1F2', profile_sidebar_border_color='C0DEED', profile_sidebar_fill_color='DDEEF6', profile_text_color='333333', profile_use_background_image=True, has_extended_profile=False, default_profile=True, default_profile_image=False, following=False, follow_request_sent=False, notifications=False, translator_type='none'), geo=None, coordinates=None, place=None, contributors=None, is_quote_status=False, retweet_count=0, favorite_count=0, favorited=False, retweeted=False, lang='en') \n",
      "\n",
      ".....................................\n",
      "\n",
      "Status(_api=<tweepy.api.API object at 0x0000029C5BEE5CC8>, _json={'created_at': 'Wed Nov 04 07:55:52 +0000 2020', 'id': 1323896731445063680, 'id_str': '1323896731445063680', 'full_text': '@aryanhr90 @GabbbarSingh Lol rcb do fixing for loosing cause not for winning whole ipl is same only mi n csk r toppers in doing fixing', 'truncated': False, 'display_text_range': [25, 134], 'entities': {'hashtags': [], 'symbols': [], 'user_mentions': [{'screen_name': 'aryanhr90', 'name': 'aryan', 'id': 2166493280, 'id_str': '2166493280', 'indices': [0, 10]}, {'screen_name': 'GabbbarSingh', 'name': 'Gabbbar', 'id': 108391251, 'id_str': '108391251', 'indices': [11, 24]}], 'urls': []}, 'metadata': {'iso_language_code': 'en', 'result_type': 'recent'}, 'source': '<a href=\"http://twitter.com/download/android\" rel=\"nofollow\">Twitter for Android</a>', 'in_reply_to_status_id': 1323890974691483649, 'in_reply_to_status_id_str': '1323890974691483649', 'in_reply_to_user_id': 2166493280, 'in_reply_to_user_id_str': '2166493280', 'in_reply_to_screen_name': 'aryanhr90', 'user': {'id': 548186311, 'id_str': '548186311', 'name': 'Dileep kumar', 'screen_name': 'Dileep3194', 'location': 'Bangalore', 'description': '', 'url': None, 'entities': {'description': {'urls': []}}, 'protected': False, 'followers_count': 16, 'friends_count': 465, 'listed_count': 0, 'created_at': 'Sun Apr 08 06:03:16 +0000 2012', 'favourites_count': 368, 'utc_offset': None, 'time_zone': None, 'geo_enabled': False, 'verified': False, 'statuses_count': 685, 'lang': None, 'contributors_enabled': False, 'is_translator': False, 'is_translation_enabled': False, 'profile_background_color': 'C0DEED', 'profile_background_image_url': 'http://abs.twimg.com/images/themes/theme1/bg.png', 'profile_background_image_url_https': 'https://abs.twimg.com/images/themes/theme1/bg.png', 'profile_background_tile': False, 'profile_image_url': 'http://pbs.twimg.com/profile_images/1307255300777324547/yee_Vu3b_normal.jpg', 'profile_image_url_https': 'https://pbs.twimg.com/profile_images/1307255300777324547/yee_Vu3b_normal.jpg', 'profile_banner_url': 'https://pbs.twimg.com/profile_banners/548186311/1600508950', 'profile_link_color': '1DA1F2', 'profile_sidebar_border_color': 'C0DEED', 'profile_sidebar_fill_color': 'DDEEF6', 'profile_text_color': '333333', 'profile_use_background_image': True, 'has_extended_profile': True, 'default_profile': True, 'default_profile_image': False, 'following': False, 'follow_request_sent': False, 'notifications': False, 'translator_type': 'none'}, 'geo': None, 'coordinates': None, 'place': None, 'contributors': None, 'is_quote_status': False, 'retweet_count': 0, 'favorite_count': 0, 'favorited': False, 'retweeted': False, 'lang': 'en'}, created_at=datetime.datetime(2020, 11, 4, 7, 55, 52), id=1323896731445063680, id_str='1323896731445063680', full_text='@aryanhr90 @GabbbarSingh Lol rcb do fixing for loosing cause not for winning whole ipl is same only mi n csk r toppers in doing fixing', truncated=False, display_text_range=[25, 134], entities={'hashtags': [], 'symbols': [], 'user_mentions': [{'screen_name': 'aryanhr90', 'name': 'aryan', 'id': 2166493280, 'id_str': '2166493280', 'indices': [0, 10]}, {'screen_name': 'GabbbarSingh', 'name': 'Gabbbar', 'id': 108391251, 'id_str': '108391251', 'indices': [11, 24]}], 'urls': []}, metadata={'iso_language_code': 'en', 'result_type': 'recent'}, source='Twitter for Android', source_url='http://twitter.com/download/android', in_reply_to_status_id=1323890974691483649, in_reply_to_status_id_str='1323890974691483649', in_reply_to_user_id=2166493280, in_reply_to_user_id_str='2166493280', in_reply_to_screen_name='aryanhr90', author=User(_api=<tweepy.api.API object at 0x0000029C5BEE5CC8>, _json={'id': 548186311, 'id_str': '548186311', 'name': 'Dileep kumar', 'screen_name': 'Dileep3194', 'location': 'Bangalore', 'description': '', 'url': None, 'entities': {'description': {'urls': []}}, 'protected': False, 'followers_count': 16, 'friends_count': 465, 'listed_count': 0, 'created_at': 'Sun Apr 08 06:03:16 +0000 2012', 'favourites_count': 368, 'utc_offset': None, 'time_zone': None, 'geo_enabled': False, 'verified': False, 'statuses_count': 685, 'lang': None, 'contributors_enabled': False, 'is_translator': False, 'is_translation_enabled': False, 'profile_background_color': 'C0DEED', 'profile_background_image_url': 'http://abs.twimg.com/images/themes/theme1/bg.png', 'profile_background_image_url_https': 'https://abs.twimg.com/images/themes/theme1/bg.png', 'profile_background_tile': False, 'profile_image_url': 'http://pbs.twimg.com/profile_images/1307255300777324547/yee_Vu3b_normal.jpg', 'profile_image_url_https': 'https://pbs.twimg.com/profile_images/1307255300777324547/yee_Vu3b_normal.jpg', 'profile_banner_url': 'https://pbs.twimg.com/profile_banners/548186311/1600508950', 'profile_link_color': '1DA1F2', 'profile_sidebar_border_color': 'C0DEED', 'profile_sidebar_fill_color': 'DDEEF6', 'profile_text_color': '333333', 'profile_use_background_image': True, 'has_extended_profile': True, 'default_profile': True, 'default_profile_image': False, 'following': False, 'follow_request_sent': False, 'notifications': False, 'translator_type': 'none'}, id=548186311, id_str='548186311', name='Dileep kumar', screen_name='Dileep3194', location='Bangalore', description='', url=None, entities={'description': {'urls': []}}, protected=False, followers_count=16, friends_count=465, listed_count=0, created_at=datetime.datetime(2012, 4, 8, 6, 3, 16), favourites_count=368, utc_offset=None, time_zone=None, geo_enabled=False, verified=False, statuses_count=685, lang=None, contributors_enabled=False, is_translator=False, is_translation_enabled=False, profile_background_color='C0DEED', profile_background_image_url='http://abs.twimg.com/images/themes/theme1/bg.png', profile_background_image_url_https='https://abs.twimg.com/images/themes/theme1/bg.png', profile_background_tile=False, profile_image_url='http://pbs.twimg.com/profile_images/1307255300777324547/yee_Vu3b_normal.jpg', profile_image_url_https='https://pbs.twimg.com/profile_images/1307255300777324547/yee_Vu3b_normal.jpg', profile_banner_url='https://pbs.twimg.com/profile_banners/548186311/1600508950', profile_link_color='1DA1F2', profile_sidebar_border_color='C0DEED', profile_sidebar_fill_color='DDEEF6', profile_text_color='333333', profile_use_background_image=True, has_extended_profile=True, default_profile=True, default_profile_image=False, following=False, follow_request_sent=False, notifications=False, translator_type='none'), user=User(_api=<tweepy.api.API object at 0x0000029C5BEE5CC8>, _json={'id': 548186311, 'id_str': '548186311', 'name': 'Dileep kumar', 'screen_name': 'Dileep3194', 'location': 'Bangalore', 'description': '', 'url': None, 'entities': {'description': {'urls': []}}, 'protected': False, 'followers_count': 16, 'friends_count': 465, 'listed_count': 0, 'created_at': 'Sun Apr 08 06:03:16 +0000 2012', 'favourites_count': 368, 'utc_offset': None, 'time_zone': None, 'geo_enabled': False, 'verified': False, 'statuses_count': 685, 'lang': None, 'contributors_enabled': False, 'is_translator': False, 'is_translation_enabled': False, 'profile_background_color': 'C0DEED', 'profile_background_image_url': 'http://abs.twimg.com/images/themes/theme1/bg.png', 'profile_background_image_url_https': 'https://abs.twimg.com/images/themes/theme1/bg.png', 'profile_background_tile': False, 'profile_image_url': 'http://pbs.twimg.com/profile_images/1307255300777324547/yee_Vu3b_normal.jpg', 'profile_image_url_https': 'https://pbs.twimg.com/profile_images/1307255300777324547/yee_Vu3b_normal.jpg', 'profile_banner_url': 'https://pbs.twimg.com/profile_banners/548186311/1600508950', 'profile_link_color': '1DA1F2', 'profile_sidebar_border_color': 'C0DEED', 'profile_sidebar_fill_color': 'DDEEF6', 'profile_text_color': '333333', 'profile_use_background_image': True, 'has_extended_profile': True, 'default_profile': True, 'default_profile_image': False, 'following': False, 'follow_request_sent': False, 'notifications': False, 'translator_type': 'none'}, id=548186311, id_str='548186311', name='Dileep kumar', screen_name='Dileep3194', location='Bangalore', description='', url=None, entities={'description': {'urls': []}}, protected=False, followers_count=16, friends_count=465, listed_count=0, created_at=datetime.datetime(2012, 4, 8, 6, 3, 16), favourites_count=368, utc_offset=None, time_zone=None, geo_enabled=False, verified=False, statuses_count=685, lang=None, contributors_enabled=False, is_translator=False, is_translation_enabled=False, profile_background_color='C0DEED', profile_background_image_url='http://abs.twimg.com/images/themes/theme1/bg.png', profile_background_image_url_https='https://abs.twimg.com/images/themes/theme1/bg.png', profile_background_tile=False, profile_image_url='http://pbs.twimg.com/profile_images/1307255300777324547/yee_Vu3b_normal.jpg', profile_image_url_https='https://pbs.twimg.com/profile_images/1307255300777324547/yee_Vu3b_normal.jpg', profile_banner_url='https://pbs.twimg.com/profile_banners/548186311/1600508950', profile_link_color='1DA1F2', profile_sidebar_border_color='C0DEED', profile_sidebar_fill_color='DDEEF6', profile_text_color='333333', profile_use_background_image=True, has_extended_profile=True, default_profile=True, default_profile_image=False, following=False, follow_request_sent=False, notifications=False, translator_type='none'), geo=None, coordinates=None, place=None, contributors=None, is_quote_status=False, retweet_count=0, favorite_count=0, favorited=False, retweeted=False, lang='en') \n",
      "\n",
      ".....................................\n",
      "\n",
      "Status(_api=<tweepy.api.API object at 0x0000029C5BEE5CC8>, _json={'created_at': 'Wed Nov 04 07:21:26 +0000 2020', 'id': 1323888066143158272, 'id_str': '1323888066143158272', 'full_text': '#CricketConnected @MumbaiIndianfan @RCBTweets \\n#toptweetir mubai indians trophy pick in 5 tim and rcb winning the fist time trophy tow top tem in your perdection 50 50 chains to win trophy In ipl 2020@ipl', 'truncated': False, 'display_text_range': [0, 204], 'entities': {'hashtags': [{'text': 'CricketConnected', 'indices': [0, 17]}, {'text': 'toptweetir', 'indices': [47, 58]}], 'symbols': [], 'user_mentions': [{'screen_name': 'MumbaiIndianfan', 'name': 'Mumbai Indians', 'id': 116290252, 'id_str': '116290252', 'indices': [18, 34]}, {'screen_name': 'RCBTweets', 'name': 'Royal Challengers Bangalore', 'id': 70931004, 'id_str': '70931004', 'indices': [35, 45]}], 'urls': []}, 'metadata': {'iso_language_code': 'en', 'result_type': 'recent'}, 'source': '<a href=\"http://twitter.com/download/android\" rel=\"nofollow\">Twitter for Android</a>', 'in_reply_to_status_id': None, 'in_reply_to_status_id_str': None, 'in_reply_to_user_id': None, 'in_reply_to_user_id_str': None, 'in_reply_to_screen_name': None, 'user': {'id': 1323174662222860290, 'id_str': '1323174662222860290', 'name': '#umarkhral', 'screen_name': 'umarkhral', 'location': 'Pind Dadan Khah, Pakistan', 'description': '#@umarkhral pti', 'url': None, 'entities': {'description': {'urls': []}}, 'protected': False, 'followers_count': 1, 'friends_count': 78, 'listed_count': 0, 'created_at': 'Mon Nov 02 08:06:48 +0000 2020', 'favourites_count': 7, 'utc_offset': None, 'time_zone': None, 'geo_enabled': False, 'verified': False, 'statuses_count': 11, 'lang': None, 'contributors_enabled': False, 'is_translator': False, 'is_translation_enabled': False, 'profile_background_color': 'F5F8FA', 'profile_background_image_url': None, 'profile_background_image_url_https': None, 'profile_background_tile': False, 'profile_image_url': 'http://pbs.twimg.com/profile_images/1323975737146224642/BLY3LCwf_normal.jpg', 'profile_image_url_https': 'https://pbs.twimg.com/profile_images/1323975737146224642/BLY3LCwf_normal.jpg', 'profile_banner_url': 'https://pbs.twimg.com/profile_banners/1323174662222860290/1604495414', 'profile_link_color': '1DA1F2', 'profile_sidebar_border_color': 'C0DEED', 'profile_sidebar_fill_color': 'DDEEF6', 'profile_text_color': '333333', 'profile_use_background_image': True, 'has_extended_profile': True, 'default_profile': True, 'default_profile_image': False, 'following': False, 'follow_request_sent': False, 'notifications': False, 'translator_type': 'none'}, 'geo': None, 'coordinates': None, 'place': None, 'contributors': None, 'is_quote_status': False, 'retweet_count': 0, 'favorite_count': 0, 'favorited': False, 'retweeted': False, 'lang': 'en'}, created_at=datetime.datetime(2020, 11, 4, 7, 21, 26), id=1323888066143158272, id_str='1323888066143158272', full_text='#CricketConnected @MumbaiIndianfan @RCBTweets \\n#toptweetir mubai indians trophy pick in 5 tim and rcb winning the fist time trophy tow top tem in your perdection 50 50 chains to win trophy In ipl 2020@ipl', truncated=False, display_text_range=[0, 204], entities={'hashtags': [{'text': 'CricketConnected', 'indices': [0, 17]}, {'text': 'toptweetir', 'indices': [47, 58]}], 'symbols': [], 'user_mentions': [{'screen_name': 'MumbaiIndianfan', 'name': 'Mumbai Indians', 'id': 116290252, 'id_str': '116290252', 'indices': [18, 34]}, {'screen_name': 'RCBTweets', 'name': 'Royal Challengers Bangalore', 'id': 70931004, 'id_str': '70931004', 'indices': [35, 45]}], 'urls': []}, metadata={'iso_language_code': 'en', 'result_type': 'recent'}, source='Twitter for Android', source_url='http://twitter.com/download/android', in_reply_to_status_id=None, in_reply_to_status_id_str=None, in_reply_to_user_id=None, in_reply_to_user_id_str=None, in_reply_to_screen_name=None, author=User(_api=<tweepy.api.API object at 0x0000029C5BEE5CC8>, _json={'id': 1323174662222860290, 'id_str': '1323174662222860290', 'name': '#umarkhral', 'screen_name': 'umarkhral', 'location': 'Pind Dadan Khah, Pakistan', 'description': '#@umarkhral pti', 'url': None, 'entities': {'description': {'urls': []}}, 'protected': False, 'followers_count': 1, 'friends_count': 78, 'listed_count': 0, 'created_at': 'Mon Nov 02 08:06:48 +0000 2020', 'favourites_count': 7, 'utc_offset': None, 'time_zone': None, 'geo_enabled': False, 'verified': False, 'statuses_count': 11, 'lang': None, 'contributors_enabled': False, 'is_translator': False, 'is_translation_enabled': False, 'profile_background_color': 'F5F8FA', 'profile_background_image_url': None, 'profile_background_image_url_https': None, 'profile_background_tile': False, 'profile_image_url': 'http://pbs.twimg.com/profile_images/1323975737146224642/BLY3LCwf_normal.jpg', 'profile_image_url_https': 'https://pbs.twimg.com/profile_images/1323975737146224642/BLY3LCwf_normal.jpg', 'profile_banner_url': 'https://pbs.twimg.com/profile_banners/1323174662222860290/1604495414', 'profile_link_color': '1DA1F2', 'profile_sidebar_border_color': 'C0DEED', 'profile_sidebar_fill_color': 'DDEEF6', 'profile_text_color': '333333', 'profile_use_background_image': True, 'has_extended_profile': True, 'default_profile': True, 'default_profile_image': False, 'following': False, 'follow_request_sent': False, 'notifications': False, 'translator_type': 'none'}, id=1323174662222860290, id_str='1323174662222860290', name='#umarkhral', screen_name='umarkhral', location='Pind Dadan Khah, Pakistan', description='#@umarkhral pti', url=None, entities={'description': {'urls': []}}, protected=False, followers_count=1, friends_count=78, listed_count=0, created_at=datetime.datetime(2020, 11, 2, 8, 6, 48), favourites_count=7, utc_offset=None, time_zone=None, geo_enabled=False, verified=False, statuses_count=11, lang=None, contributors_enabled=False, is_translator=False, is_translation_enabled=False, profile_background_color='F5F8FA', profile_background_image_url=None, profile_background_image_url_https=None, profile_background_tile=False, profile_image_url='http://pbs.twimg.com/profile_images/1323975737146224642/BLY3LCwf_normal.jpg', profile_image_url_https='https://pbs.twimg.com/profile_images/1323975737146224642/BLY3LCwf_normal.jpg', profile_banner_url='https://pbs.twimg.com/profile_banners/1323174662222860290/1604495414', profile_link_color='1DA1F2', profile_sidebar_border_color='C0DEED', profile_sidebar_fill_color='DDEEF6', profile_text_color='333333', profile_use_background_image=True, has_extended_profile=True, default_profile=True, default_profile_image=False, following=False, follow_request_sent=False, notifications=False, translator_type='none'), user=User(_api=<tweepy.api.API object at 0x0000029C5BEE5CC8>, _json={'id': 1323174662222860290, 'id_str': '1323174662222860290', 'name': '#umarkhral', 'screen_name': 'umarkhral', 'location': 'Pind Dadan Khah, Pakistan', 'description': '#@umarkhral pti', 'url': None, 'entities': {'description': {'urls': []}}, 'protected': False, 'followers_count': 1, 'friends_count': 78, 'listed_count': 0, 'created_at': 'Mon Nov 02 08:06:48 +0000 2020', 'favourites_count': 7, 'utc_offset': None, 'time_zone': None, 'geo_enabled': False, 'verified': False, 'statuses_count': 11, 'lang': None, 'contributors_enabled': False, 'is_translator': False, 'is_translation_enabled': False, 'profile_background_color': 'F5F8FA', 'profile_background_image_url': None, 'profile_background_image_url_https': None, 'profile_background_tile': False, 'profile_image_url': 'http://pbs.twimg.com/profile_images/1323975737146224642/BLY3LCwf_normal.jpg', 'profile_image_url_https': 'https://pbs.twimg.com/profile_images/1323975737146224642/BLY3LCwf_normal.jpg', 'profile_banner_url': 'https://pbs.twimg.com/profile_banners/1323174662222860290/1604495414', 'profile_link_color': '1DA1F2', 'profile_sidebar_border_color': 'C0DEED', 'profile_sidebar_fill_color': 'DDEEF6', 'profile_text_color': '333333', 'profile_use_background_image': True, 'has_extended_profile': True, 'default_profile': True, 'default_profile_image': False, 'following': False, 'follow_request_sent': False, 'notifications': False, 'translator_type': 'none'}, id=1323174662222860290, id_str='1323174662222860290', name='#umarkhral', screen_name='umarkhral', location='Pind Dadan Khah, Pakistan', description='#@umarkhral pti', url=None, entities={'description': {'urls': []}}, protected=False, followers_count=1, friends_count=78, listed_count=0, created_at=datetime.datetime(2020, 11, 2, 8, 6, 48), favourites_count=7, utc_offset=None, time_zone=None, geo_enabled=False, verified=False, statuses_count=11, lang=None, contributors_enabled=False, is_translator=False, is_translation_enabled=False, profile_background_color='F5F8FA', profile_background_image_url=None, profile_background_image_url_https=None, profile_background_tile=False, profile_image_url='http://pbs.twimg.com/profile_images/1323975737146224642/BLY3LCwf_normal.jpg', profile_image_url_https='https://pbs.twimg.com/profile_images/1323975737146224642/BLY3LCwf_normal.jpg', profile_banner_url='https://pbs.twimg.com/profile_banners/1323174662222860290/1604495414', profile_link_color='1DA1F2', profile_sidebar_border_color='C0DEED', profile_sidebar_fill_color='DDEEF6', profile_text_color='333333', profile_use_background_image=True, has_extended_profile=True, default_profile=True, default_profile_image=False, following=False, follow_request_sent=False, notifications=False, translator_type='none'), geo=None, coordinates=None, place=None, contributors=None, is_quote_status=False, retweet_count=0, favorite_count=0, favorited=False, retweeted=False, lang='en') \n",
      "\n",
      ".....................................\n",
      "\n"
     ]
    }
   ],
   "source": [
    "Tweets = api.search( query , count=10 , lang='en' , exclude='retweets' , tweet_mode='extended' )\n",
    "# tweet_mode='extended'\n",
    "# tweet_mode='compat'\n",
    "\n",
    "for tweet in Tweets:\n",
    "    print(tweet,\"\\n\")\n",
    "    print(\".....................................\\n\")"
   ]
  },
  {
   "cell_type": "markdown",
   "metadata": {},
   "source": [
    "Getting Tweets and Attributes"
   ]
  },
  {
   "cell_type": "code",
   "execution_count": 10,
   "metadata": {},
   "outputs": [
    {
     "name": "stdout",
     "output_type": "stream",
     "text": [
      "Empty DataFrame\n",
      "Columns: [Tweets, User, User_statuses_count, user_followers, User_location, User_verified, fav_count, rt_count, tweet_date]\n",
      "Index: []\n"
     ]
    }
   ],
   "source": [
    "df = pd.DataFrame(columns = ['Tweets' , 'User' , 'User_statuses_count' , \n",
    "                            'user_followers' , 'User_location' , 'User_verified' ,\n",
    "                            'fav_count' , 'rt_count' , 'tweet_date'] )\n",
    "print(df)\n",
    "# print(df.shape)"
   ]
  },
  {
   "cell_type": "code",
   "execution_count": 11,
   "metadata": {},
   "outputs": [],
   "source": [
    "def stream(data, file_name):\n",
    "    i = 0\n",
    "    for tweet in tweepy.Cursor(api.search, q=data, count=100, lang='en').items():\n",
    "        print(i, end='\\r')\n",
    "        df.loc[i, 'Tweets'] = tweet.text\n",
    "        df.loc[i, 'User'] = tweet.user.name\n",
    "        df.loc[i, 'User_statuses_count'] = tweet.user.statuses_count\n",
    "        df.loc[i, 'user_followers'] = tweet.user.followers_count\n",
    "        df.loc[i, 'User_location'] = tweet.user.location\n",
    "        df.loc[i, 'User_verified'] = tweet.user.verified\n",
    "        df.loc[i, 'fav_count'] = tweet.favorite_count\n",
    "        df.loc[i, 'rt_count'] = tweet.retweet_count\n",
    "        df.loc[i, 'tweet_date'] = tweet.created_at\n",
    "        df.to_excel('{}.xlsx'.format(file_name))\n",
    "        i = i+1\n",
    "        if i == 1000:\n",
    "            break\n",
    "        else:\n",
    "            pass"
   ]
  },
  {
   "cell_type": "code",
   "execution_count": 12,
   "metadata": {},
   "outputs": [
    {
     "name": "stdout",
     "output_type": "stream",
     "text": [
      "980\r"
     ]
    }
   ],
   "source": [
    "stream(data=[\"RCB winning IPL\"] , file_name='my_tweets')"
   ]
  },
  {
   "cell_type": "code",
   "execution_count": 14,
   "metadata": {},
   "outputs": [
    {
     "data": {
      "text/html": [
       "<div>\n",
       "<style scoped>\n",
       "    .dataframe tbody tr th:only-of-type {\n",
       "        vertical-align: middle;\n",
       "    }\n",
       "\n",
       "    .dataframe tbody tr th {\n",
       "        vertical-align: top;\n",
       "    }\n",
       "\n",
       "    .dataframe thead th {\n",
       "        text-align: right;\n",
       "    }\n",
       "</style>\n",
       "<table border=\"1\" class=\"dataframe\">\n",
       "  <thead>\n",
       "    <tr style=\"text-align: right;\">\n",
       "      <th></th>\n",
       "      <th>Tweets</th>\n",
       "      <th>User</th>\n",
       "      <th>User_statuses_count</th>\n",
       "      <th>user_followers</th>\n",
       "      <th>User_location</th>\n",
       "      <th>User_verified</th>\n",
       "      <th>fav_count</th>\n",
       "      <th>rt_count</th>\n",
       "      <th>tweet_date</th>\n",
       "    </tr>\n",
       "  </thead>\n",
       "  <tbody>\n",
       "    <tr>\n",
       "      <th>0</th>\n",
       "      <td>@vishwajeet_rd Same, exactly same. Although fe...</td>\n",
       "      <td>Abhishek Kumar Singh</td>\n",
       "      <td>3935</td>\n",
       "      <td>234</td>\n",
       "      <td>Privileges</td>\n",
       "      <td>False</td>\n",
       "      <td>2</td>\n",
       "      <td>0</td>\n",
       "      <td>2020-11-04 13:44:50</td>\n",
       "    </tr>\n",
       "    <tr>\n",
       "      <th>1</th>\n",
       "      <td>RT @man4_cricket: \"I still have a feeling that...</td>\n",
       "      <td>Ujjwal giri Roshan 🇮🇳❤️</td>\n",
       "      <td>3485</td>\n",
       "      <td>64</td>\n",
       "      <td>Ballia</td>\n",
       "      <td>False</td>\n",
       "      <td>0</td>\n",
       "      <td>27</td>\n",
       "      <td>2020-11-04 13:10:58</td>\n",
       "    </tr>\n",
       "    <tr>\n",
       "      <th>2</th>\n",
       "      <td>@KP24 @IPL You’ve assessed it about right. Who...</td>\n",
       "      <td>richard forsyth</td>\n",
       "      <td>136</td>\n",
       "      <td>30</td>\n",
       "      <td>Bristol, England</td>\n",
       "      <td>False</td>\n",
       "      <td>0</td>\n",
       "      <td>0</td>\n",
       "      <td>2020-11-04 13:03:46</td>\n",
       "    </tr>\n",
       "    <tr>\n",
       "      <th>3</th>\n",
       "      <td>RT @man4_cricket: \"I still have a feeling that...</td>\n",
       "      <td>Hitesh A S</td>\n",
       "      <td>48</td>\n",
       "      <td>28</td>\n",
       "      <td></td>\n",
       "      <td>False</td>\n",
       "      <td>0</td>\n",
       "      <td>27</td>\n",
       "      <td>2020-11-04 12:54:24</td>\n",
       "    </tr>\n",
       "    <tr>\n",
       "      <th>4</th>\n",
       "      <td>RT @man4_cricket: \"I still have a feeling that...</td>\n",
       "      <td>Bhai</td>\n",
       "      <td>27802</td>\n",
       "      <td>109</td>\n",
       "      <td>नई दिल्ली, भारत</td>\n",
       "      <td>False</td>\n",
       "      <td>0</td>\n",
       "      <td>27</td>\n",
       "      <td>2020-11-04 12:54:13</td>\n",
       "    </tr>\n",
       "  </tbody>\n",
       "</table>\n",
       "</div>"
      ],
      "text/plain": [
       "                                              Tweets                     User  \\\n",
       "0  @vishwajeet_rd Same, exactly same. Although fe...     Abhishek Kumar Singh   \n",
       "1  RT @man4_cricket: \"I still have a feeling that...  Ujjwal giri Roshan 🇮🇳❤️   \n",
       "2  @KP24 @IPL You’ve assessed it about right. Who...          richard forsyth   \n",
       "3  RT @man4_cricket: \"I still have a feeling that...               Hitesh A S   \n",
       "4  RT @man4_cricket: \"I still have a feeling that...                     Bhai   \n",
       "\n",
       "  User_statuses_count user_followers     User_location User_verified  \\\n",
       "0                3935            234        Privileges         False   \n",
       "1                3485             64            Ballia         False   \n",
       "2                 136             30  Bristol, England         False   \n",
       "3                  48             28                           False   \n",
       "4               27802            109   नई दिल्ली, भारत         False   \n",
       "\n",
       "  fav_count rt_count           tweet_date  \n",
       "0         2        0  2020-11-04 13:44:50  \n",
       "1         0       27  2020-11-04 13:10:58  \n",
       "2         0        0  2020-11-04 13:03:46  \n",
       "3         0       27  2020-11-04 12:54:24  \n",
       "4         0       27  2020-11-04 12:54:13  "
      ]
     },
     "execution_count": 14,
     "metadata": {},
     "output_type": "execute_result"
    }
   ],
   "source": [
    "df.head()"
   ]
  },
  {
   "cell_type": "code",
   "execution_count": 18,
   "metadata": {},
   "outputs": [
    {
     "name": "stdout",
     "output_type": "stream",
     "text": [
      "Collecting textblob\n",
      "  Downloading textblob-0.15.3-py2.py3-none-any.whl (636 kB)\n",
      "Requirement already satisfied: nltk>=3.1 in d:\\anaconda\\lib\\site-packages (from textblob) (3.4.5)\n",
      "Requirement already satisfied: six in d:\\anaconda\\lib\\site-packages (from nltk>=3.1->textblob) (1.14.0)\n",
      "Installing collected packages: textblob\n",
      "Successfully installed textblob-0.15.3\n"
     ]
    }
   ],
   "source": [
    "!pip install textblob"
   ]
  },
  {
   "cell_type": "code",
   "execution_count": 19,
   "metadata": {},
   "outputs": [],
   "source": [
    "from textblob import TextBlob"
   ]
  },
  {
   "cell_type": "code",
   "execution_count": 20,
   "metadata": {},
   "outputs": [],
   "source": [
    "import re\n",
    "def clean_tweet(tweet):\n",
    "    return ' '.join(re.sub('(@[A-Za-z0-9]+)|([^0-9A-Za-z \\t])|(\\w+:\\/\\/\\S+)', ' ', tweet).split())"
   ]
  },
  {
   "cell_type": "code",
   "execution_count": 21,
   "metadata": {},
   "outputs": [],
   "source": [
    "def analyze_sentiment(tweet):\n",
    "    analysis = TextBlob(tweet)\n",
    "    if analysis.sentiment.polarity > 0:\n",
    "        return 'Positive'\n",
    "    elif analysis.sentiment.polarity == 0:\n",
    "        return 'Neutral'\n",
    "    else:\n",
    "        return 'Negative'"
   ]
  },
  {
   "cell_type": "code",
   "execution_count": 22,
   "metadata": {},
   "outputs": [],
   "source": [
    "df['clean_tweet'] = df['Tweets'].apply(lambda x : clean_tweet(x))"
   ]
  },
  {
   "cell_type": "code",
   "execution_count": 23,
   "metadata": {},
   "outputs": [
    {
     "data": {
      "text/html": [
       "<div>\n",
       "<style scoped>\n",
       "    .dataframe tbody tr th:only-of-type {\n",
       "        vertical-align: middle;\n",
       "    }\n",
       "\n",
       "    .dataframe tbody tr th {\n",
       "        vertical-align: top;\n",
       "    }\n",
       "\n",
       "    .dataframe thead th {\n",
       "        text-align: right;\n",
       "    }\n",
       "</style>\n",
       "<table border=\"1\" class=\"dataframe\">\n",
       "  <thead>\n",
       "    <tr style=\"text-align: right;\">\n",
       "      <th></th>\n",
       "      <th>Tweets</th>\n",
       "      <th>User</th>\n",
       "      <th>User_statuses_count</th>\n",
       "      <th>user_followers</th>\n",
       "      <th>User_location</th>\n",
       "      <th>User_verified</th>\n",
       "      <th>fav_count</th>\n",
       "      <th>rt_count</th>\n",
       "      <th>tweet_date</th>\n",
       "      <th>clean_tweet</th>\n",
       "    </tr>\n",
       "  </thead>\n",
       "  <tbody>\n",
       "    <tr>\n",
       "      <th>0</th>\n",
       "      <td>@vishwajeet_rd Same, exactly same. Although fe...</td>\n",
       "      <td>Abhishek Kumar Singh</td>\n",
       "      <td>3935</td>\n",
       "      <td>234</td>\n",
       "      <td>Privileges</td>\n",
       "      <td>False</td>\n",
       "      <td>2</td>\n",
       "      <td>0</td>\n",
       "      <td>2020-11-04 13:44:50</td>\n",
       "      <td>rd Same exactly same Although feel MI is the m...</td>\n",
       "    </tr>\n",
       "    <tr>\n",
       "      <th>1</th>\n",
       "      <td>RT @man4_cricket: \"I still have a feeling that...</td>\n",
       "      <td>Ujjwal giri Roshan 🇮🇳❤️</td>\n",
       "      <td>3485</td>\n",
       "      <td>64</td>\n",
       "      <td>Ballia</td>\n",
       "      <td>False</td>\n",
       "      <td>0</td>\n",
       "      <td>27</td>\n",
       "      <td>2020-11-04 13:10:58</td>\n",
       "      <td>RT cricket I still have a feeling that this st...</td>\n",
       "    </tr>\n",
       "    <tr>\n",
       "      <th>2</th>\n",
       "      <td>@KP24 @IPL You’ve assessed it about right. Who...</td>\n",
       "      <td>richard forsyth</td>\n",
       "      <td>136</td>\n",
       "      <td>30</td>\n",
       "      <td>Bristol, England</td>\n",
       "      <td>False</td>\n",
       "      <td>0</td>\n",
       "      <td>0</td>\n",
       "      <td>2020-11-04 13:03:46</td>\n",
       "      <td>You ve assessed it about right Whoever wins to...</td>\n",
       "    </tr>\n",
       "    <tr>\n",
       "      <th>3</th>\n",
       "      <td>RT @man4_cricket: \"I still have a feeling that...</td>\n",
       "      <td>Hitesh A S</td>\n",
       "      <td>48</td>\n",
       "      <td>28</td>\n",
       "      <td></td>\n",
       "      <td>False</td>\n",
       "      <td>0</td>\n",
       "      <td>27</td>\n",
       "      <td>2020-11-04 12:54:24</td>\n",
       "      <td>RT cricket I still have a feeling that this st...</td>\n",
       "    </tr>\n",
       "    <tr>\n",
       "      <th>4</th>\n",
       "      <td>RT @man4_cricket: \"I still have a feeling that...</td>\n",
       "      <td>Bhai</td>\n",
       "      <td>27802</td>\n",
       "      <td>109</td>\n",
       "      <td>नई दिल्ली, भारत</td>\n",
       "      <td>False</td>\n",
       "      <td>0</td>\n",
       "      <td>27</td>\n",
       "      <td>2020-11-04 12:54:13</td>\n",
       "      <td>RT cricket I still have a feeling that this st...</td>\n",
       "    </tr>\n",
       "  </tbody>\n",
       "</table>\n",
       "</div>"
      ],
      "text/plain": [
       "                                              Tweets                     User  \\\n",
       "0  @vishwajeet_rd Same, exactly same. Although fe...     Abhishek Kumar Singh   \n",
       "1  RT @man4_cricket: \"I still have a feeling that...  Ujjwal giri Roshan 🇮🇳❤️   \n",
       "2  @KP24 @IPL You’ve assessed it about right. Who...          richard forsyth   \n",
       "3  RT @man4_cricket: \"I still have a feeling that...               Hitesh A S   \n",
       "4  RT @man4_cricket: \"I still have a feeling that...                     Bhai   \n",
       "\n",
       "  User_statuses_count user_followers     User_location User_verified  \\\n",
       "0                3935            234        Privileges         False   \n",
       "1                3485             64            Ballia         False   \n",
       "2                 136             30  Bristol, England         False   \n",
       "3                  48             28                           False   \n",
       "4               27802            109   नई दिल्ली, भारत         False   \n",
       "\n",
       "  fav_count rt_count           tweet_date  \\\n",
       "0         2        0  2020-11-04 13:44:50   \n",
       "1         0       27  2020-11-04 13:10:58   \n",
       "2         0        0  2020-11-04 13:03:46   \n",
       "3         0       27  2020-11-04 12:54:24   \n",
       "4         0       27  2020-11-04 12:54:13   \n",
       "\n",
       "                                         clean_tweet  \n",
       "0  rd Same exactly same Although feel MI is the m...  \n",
       "1  RT cricket I still have a feeling that this st...  \n",
       "2  You ve assessed it about right Whoever wins to...  \n",
       "3  RT cricket I still have a feeling that this st...  \n",
       "4  RT cricket I still have a feeling that this st...  "
      ]
     },
     "execution_count": 23,
     "metadata": {},
     "output_type": "execute_result"
    }
   ],
   "source": [
    "df.head()"
   ]
  },
  {
   "cell_type": "code",
   "execution_count": 24,
   "metadata": {},
   "outputs": [
    {
     "data": {
      "text/html": [
       "<div>\n",
       "<style scoped>\n",
       "    .dataframe tbody tr th:only-of-type {\n",
       "        vertical-align: middle;\n",
       "    }\n",
       "\n",
       "    .dataframe tbody tr th {\n",
       "        vertical-align: top;\n",
       "    }\n",
       "\n",
       "    .dataframe thead th {\n",
       "        text-align: right;\n",
       "    }\n",
       "</style>\n",
       "<table border=\"1\" class=\"dataframe\">\n",
       "  <thead>\n",
       "    <tr style=\"text-align: right;\">\n",
       "      <th></th>\n",
       "      <th>Tweets</th>\n",
       "      <th>User</th>\n",
       "      <th>User_statuses_count</th>\n",
       "      <th>user_followers</th>\n",
       "      <th>User_location</th>\n",
       "      <th>User_verified</th>\n",
       "      <th>fav_count</th>\n",
       "      <th>rt_count</th>\n",
       "      <th>tweet_date</th>\n",
       "      <th>clean_tweet</th>\n",
       "      <th>Sentiment</th>\n",
       "    </tr>\n",
       "  </thead>\n",
       "  <tbody>\n",
       "    <tr>\n",
       "      <th>0</th>\n",
       "      <td>@vishwajeet_rd Same, exactly same. Although fe...</td>\n",
       "      <td>Abhishek Kumar Singh</td>\n",
       "      <td>3935</td>\n",
       "      <td>234</td>\n",
       "      <td>Privileges</td>\n",
       "      <td>False</td>\n",
       "      <td>2</td>\n",
       "      <td>0</td>\n",
       "      <td>2020-11-04 13:44:50</td>\n",
       "      <td>rd Same exactly same Although feel MI is the m...</td>\n",
       "      <td>Positive</td>\n",
       "    </tr>\n",
       "    <tr>\n",
       "      <th>1</th>\n",
       "      <td>RT @man4_cricket: \"I still have a feeling that...</td>\n",
       "      <td>Ujjwal giri Roshan 🇮🇳❤️</td>\n",
       "      <td>3485</td>\n",
       "      <td>64</td>\n",
       "      <td>Ballia</td>\n",
       "      <td>False</td>\n",
       "      <td>0</td>\n",
       "      <td>27</td>\n",
       "      <td>2020-11-04 13:10:58</td>\n",
       "      <td>RT cricket I still have a feeling that this st...</td>\n",
       "      <td>Negative</td>\n",
       "    </tr>\n",
       "    <tr>\n",
       "      <th>2</th>\n",
       "      <td>@KP24 @IPL You’ve assessed it about right. Who...</td>\n",
       "      <td>richard forsyth</td>\n",
       "      <td>136</td>\n",
       "      <td>30</td>\n",
       "      <td>Bristol, England</td>\n",
       "      <td>False</td>\n",
       "      <td>0</td>\n",
       "      <td>0</td>\n",
       "      <td>2020-11-04 13:03:46</td>\n",
       "      <td>You ve assessed it about right Whoever wins to...</td>\n",
       "      <td>Positive</td>\n",
       "    </tr>\n",
       "    <tr>\n",
       "      <th>3</th>\n",
       "      <td>RT @man4_cricket: \"I still have a feeling that...</td>\n",
       "      <td>Hitesh A S</td>\n",
       "      <td>48</td>\n",
       "      <td>28</td>\n",
       "      <td></td>\n",
       "      <td>False</td>\n",
       "      <td>0</td>\n",
       "      <td>27</td>\n",
       "      <td>2020-11-04 12:54:24</td>\n",
       "      <td>RT cricket I still have a feeling that this st...</td>\n",
       "      <td>Negative</td>\n",
       "    </tr>\n",
       "    <tr>\n",
       "      <th>4</th>\n",
       "      <td>RT @man4_cricket: \"I still have a feeling that...</td>\n",
       "      <td>Bhai</td>\n",
       "      <td>27802</td>\n",
       "      <td>109</td>\n",
       "      <td>नई दिल्ली, भारत</td>\n",
       "      <td>False</td>\n",
       "      <td>0</td>\n",
       "      <td>27</td>\n",
       "      <td>2020-11-04 12:54:13</td>\n",
       "      <td>RT cricket I still have a feeling that this st...</td>\n",
       "      <td>Negative</td>\n",
       "    </tr>\n",
       "  </tbody>\n",
       "</table>\n",
       "</div>"
      ],
      "text/plain": [
       "                                              Tweets                     User  \\\n",
       "0  @vishwajeet_rd Same, exactly same. Although fe...     Abhishek Kumar Singh   \n",
       "1  RT @man4_cricket: \"I still have a feeling that...  Ujjwal giri Roshan 🇮🇳❤️   \n",
       "2  @KP24 @IPL You’ve assessed it about right. Who...          richard forsyth   \n",
       "3  RT @man4_cricket: \"I still have a feeling that...               Hitesh A S   \n",
       "4  RT @man4_cricket: \"I still have a feeling that...                     Bhai   \n",
       "\n",
       "  User_statuses_count user_followers     User_location User_verified  \\\n",
       "0                3935            234        Privileges         False   \n",
       "1                3485             64            Ballia         False   \n",
       "2                 136             30  Bristol, England         False   \n",
       "3                  48             28                           False   \n",
       "4               27802            109   नई दिल्ली, भारत         False   \n",
       "\n",
       "  fav_count rt_count           tweet_date  \\\n",
       "0         2        0  2020-11-04 13:44:50   \n",
       "1         0       27  2020-11-04 13:10:58   \n",
       "2         0        0  2020-11-04 13:03:46   \n",
       "3         0       27  2020-11-04 12:54:24   \n",
       "4         0       27  2020-11-04 12:54:13   \n",
       "\n",
       "                                         clean_tweet Sentiment  \n",
       "0  rd Same exactly same Although feel MI is the m...  Positive  \n",
       "1  RT cricket I still have a feeling that this st...  Negative  \n",
       "2  You ve assessed it about right Whoever wins to...  Positive  \n",
       "3  RT cricket I still have a feeling that this st...  Negative  \n",
       "4  RT cricket I still have a feeling that this st...  Negative  "
      ]
     },
     "execution_count": 24,
     "metadata": {},
     "output_type": "execute_result"
    }
   ],
   "source": [
    "df['Sentiment'] = df['clean_tweet'].apply(lambda x : analyze_sentiment(x) )\n",
    "df.head()"
   ]
  },
  {
   "cell_type": "code",
   "execution_count": 32,
   "metadata": {},
   "outputs": [
    {
     "name": "stdout",
     "output_type": "stream",
     "text": [
      "Original tweet:\n",
      " RT @kartik_kannan: Just when RCB is looking like winning an IPL they run into a Red Hot Hyderabad team, that stops their run! 2009:2016:202…\n",
      "\n",
      "Clean tweet:\n",
      " RT kannan Just when RCB is looking like winning an IPL they run into a Red Hot Hyderabad team that stops their run 2009 2016 202\n",
      "\n",
      "Sentiment of the tweet:\n",
      " Positive\n"
     ]
    }
   ],
   "source": [
    "n = 73\n",
    "print(\"Original tweet:\\n\",df['Tweets'][n])\n",
    "print()\n",
    "print(\"Clean tweet:\\n\",df['clean_tweet'][n])\n",
    "print()\n",
    "print(\"Sentiment of the tweet:\\n\",df['Sentiment'][n])"
   ]
  },
  {
   "cell_type": "code",
   "execution_count": 33,
   "metadata": {},
   "outputs": [
    {
     "name": "stdout",
     "output_type": "stream",
     "text": [
      "Original tweet:\n",
      " Who will become the #IPL2020 champion? #IPL #Playoffs #MI #DC #SRH #RCB #winning #starikelungal @IPL #SRHvsMI\n",
      "\n",
      "Clean tweet:\n",
      " Who will become the IPL2020 champion IPL Playoffs MI DC SRH RCB winning starikelungal SRHvsMI\n",
      "\n",
      "Sentiment of the tweet:\n",
      " Positive\n"
     ]
    }
   ],
   "source": [
    "n = 59\n",
    "print(\"Original tweet:\\n\",df['Tweets'][n])\n",
    "print()\n",
    "print(\"Clean tweet:\\n\",df['clean_tweet'][n])\n",
    "print()\n",
    "print(\"Sentiment of the tweet:\\n\",df['Sentiment'][n])"
   ]
  },
  {
   "cell_type": "code",
   "execution_count": 34,
   "metadata": {},
   "outputs": [
    {
     "name": "stdout",
     "output_type": "stream",
     "text": [
      "Original tweet:\n",
      " RT @hiyaok: @Being_Humor Gayle : I dream of winning IPL like how we did at RCB\n",
      "\n",
      "Lee : You won IPL at RCB?\n",
      "\n",
      "Gayle : No there we dreamt as we…\n",
      "\n",
      "Clean tweet:\n",
      " RT Humor Gayle I dream of winning IPL like how we did at RCB Lee You won IPL at RCB Gayle No there we dreamt as we\n",
      "\n",
      "Sentiment of the tweet:\n",
      " Positive\n"
     ]
    }
   ],
   "source": [
    "n = 499\n",
    "print(\"Original tweet:\\n\",df['Tweets'][n])\n",
    "print()\n",
    "print(\"Clean tweet:\\n\",df['clean_tweet'][n])\n",
    "print()\n",
    "print(\"Sentiment of the tweet:\\n\",df['Sentiment'][n])"
   ]
  },
  {
   "cell_type": "code",
   "execution_count": 35,
   "metadata": {},
   "outputs": [
    {
     "data": {
      "text/plain": [
       "910"
      ]
     },
     "execution_count": 35,
     "metadata": {},
     "output_type": "execute_result"
    }
   ],
   "source": [
    "df[df.Sentiment == 'Positive'].shape[0]"
   ]
  },
  {
   "cell_type": "code",
   "execution_count": 36,
   "metadata": {},
   "outputs": [
    {
     "data": {
      "text/plain": [
       "22"
      ]
     },
     "execution_count": 36,
     "metadata": {},
     "output_type": "execute_result"
    }
   ],
   "source": [
    "df[df.Sentiment == 'Neutral'].shape[0]"
   ]
  },
  {
   "cell_type": "code",
   "execution_count": 37,
   "metadata": {},
   "outputs": [
    {
     "data": {
      "text/plain": [
       "49"
      ]
     },
     "execution_count": 37,
     "metadata": {},
     "output_type": "execute_result"
    }
   ],
   "source": [
    "df[df.Sentiment == 'Negative'].shape[0]"
   ]
  },
  {
   "cell_type": "code",
   "execution_count": null,
   "metadata": {},
   "outputs": [],
   "source": []
  }
 ],
 "metadata": {
  "kernelspec": {
   "display_name": "Python 3",
   "language": "python",
   "name": "python3"
  },
  "language_info": {
   "codemirror_mode": {
    "name": "ipython",
    "version": 3
   },
   "file_extension": ".py",
   "mimetype": "text/x-python",
   "name": "python",
   "nbconvert_exporter": "python",
   "pygments_lexer": "ipython3",
   "version": "3.7.6"
  }
 },
 "nbformat": 4,
 "nbformat_minor": 4
}
