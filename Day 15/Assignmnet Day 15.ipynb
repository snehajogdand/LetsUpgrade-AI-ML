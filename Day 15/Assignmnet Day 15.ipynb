{
 "cells": [
  {
   "cell_type": "code",
   "execution_count": 2,
   "metadata": {},
   "outputs": [],
   "source": [
    "import pandas as pd\n",
    "import numpy as np"
   ]
  },
  {
   "cell_type": "markdown",
   "metadata": {},
   "source": [
    "Question 1"
   ]
  },
  {
   "cell_type": "markdown",
   "metadata": {},
   "source": [
    "Create a 3x3x3 array with random values"
   ]
  },
  {
   "cell_type": "code",
   "execution_count": 53,
   "metadata": {},
   "outputs": [
    {
     "name": "stdout",
     "output_type": "stream",
     "text": [
      "[[60  4 10]\n",
      " [10 22 57]\n",
      " [95 47 14]]\n",
      "\n",
      " [[155 154 179]\n",
      " [127 105 191]\n",
      " [179 148 188]]\n",
      "\n",
      " [[250 239 265]\n",
      " [271 206 281]\n",
      " [263 226 257]]\n"
     ]
    }
   ],
   "source": [
    "import numpy as np\n",
    "arr=np.random.randint(1,100,size=(3,3))\n",
    "arr1=np.random.randint(101,200,size=(3,3))\n",
    "arr2=np.random.randint(201,300,size=(3,3))\n",
    "print(arr)\n",
    "print(\"\\n\",arr1)\n",
    "print(\"\\n\",arr2)"
   ]
  },
  {
   "cell_type": "markdown",
   "metadata": {},
   "source": [
    "Question 2"
   ]
  },
  {
   "cell_type": "markdown",
   "metadata": {},
   "source": [
    "Create a 5x5 matrix with values 1,2,3,4 just below the diagonal"
   ]
  },
  {
   "cell_type": "code",
   "execution_count": 54,
   "metadata": {},
   "outputs": [
    {
     "name": "stdout",
     "output_type": "stream",
     "text": [
      "[[0 0 0 0 0]\n",
      " [1 0 0 0 0]\n",
      " [0 2 0 0 0]\n",
      " [0 0 3 0 0]\n",
      " [0 0 0 4 0]]\n"
     ]
    }
   ],
   "source": [
    "import numpy as np\n",
    "z=np.zeros((5,5),dtype=int)\n",
    "arr=np.array(z)\n",
    "arr[1][0]=1\n",
    "arr[2][1]=2\n",
    "arr[3][2]=3\n",
    "arr[4][3]=4\n",
    "print(arr)"
   ]
  },
  {
   "cell_type": "markdown",
   "metadata": {},
   "source": [
    "Question 3"
   ]
  },
  {
   "cell_type": "markdown",
   "metadata": {},
   "source": [
    "Create a 8x8 matrix and fill it with a checkerboard pattern"
   ]
  },
  {
   "cell_type": "code",
   "execution_count": 55,
   "metadata": {},
   "outputs": [
    {
     "name": "stdout",
     "output_type": "stream",
     "text": [
      "[[0 1 0 1 0 1 0 1]\n",
      " [1 0 1 0 1 0 1 0]\n",
      " [0 1 0 1 0 1 0 1]\n",
      " [1 0 1 0 1 0 1 0]\n",
      " [0 1 0 1 0 1 0 1]\n",
      " [1 0 1 0 1 0 1 0]\n",
      " [0 1 0 1 0 1 0 1]\n",
      " [1 0 1 0 1 0 1 0]]\n"
     ]
    }
   ],
   "source": [
    "import numpy as np\n",
    "z=np.zeros((8,8),dtype=int)\n",
    "z[1::2,::2]=1\n",
    "z[::2,1::2]=1\n",
    "print(z)"
   ]
  },
  {
   "cell_type": "markdown",
   "metadata": {},
   "source": [
    "Question 4"
   ]
  },
  {
   "cell_type": "markdown",
   "metadata": {},
   "source": [
    "Normalize a 5x5 random matrix"
   ]
  },
  {
   "cell_type": "code",
   "execution_count": 56,
   "metadata": {},
   "outputs": [
    {
     "name": "stdout",
     "output_type": "stream",
     "text": [
      "[[0.02484968 0.9139571  0.45530056 0.98260142 0.86428753]\n",
      " [0.02963238 0.47358223 0.59542821 0.88910528 0.53414664]\n",
      " [0.62513919 0.25967702 0.95463748 0.51956064 0.5883396 ]\n",
      " [1.         0.28766963 0.57754853 0.99288215 0.7212975 ]\n",
      " [0.74953627 0.01280082 0.35147947 0.2067764  0.        ]]\n"
     ]
    }
   ],
   "source": [
    "import numpy as np\n",
    "arr=np.random.random((5,5))\n",
    "min=arr.min()\n",
    "max=arr.max()\n",
    "arr=(arr-min)/(max-min)\n",
    "print(arr)"
   ]
  },
  {
   "cell_type": "markdown",
   "metadata": {},
   "source": [
    "Question 5"
   ]
  },
  {
   "cell_type": "markdown",
   "metadata": {},
   "source": [
    "How to find common values between two arrays?"
   ]
  },
  {
   "cell_type": "code",
   "execution_count": 57,
   "metadata": {},
   "outputs": [
    {
     "name": "stdout",
     "output_type": "stream",
     "text": [
      "[ 1  2  4  5 14 26 23]\n",
      "\n",
      " [ 4  1  6  2 67 95 14]\n",
      "\n",
      " Commom values \n",
      " [ 1  2  4 14]\n"
     ]
    }
   ],
   "source": [
    "import numpy as np\n",
    "arr=np.array([1,2,4,5,14,26,23])\n",
    "arr1=np.array([4,1,6,2,67,95,14])\n",
    "print(arr)\n",
    "print(\"\\n\",arr1)\n",
    "print(\"\\n Commom values \\n\",np.intersect1d(arr,arr1))"
   ]
  },
  {
   "cell_type": "markdown",
   "metadata": {},
   "source": [
    "Question 6"
   ]
  },
  {
   "cell_type": "markdown",
   "metadata": {},
   "source": [
    "How to get the dates of yesterday, today and tomorrow?"
   ]
  },
  {
   "cell_type": "code",
   "execution_count": 59,
   "metadata": {},
   "outputs": [
    {
     "name": "stdout",
     "output_type": "stream",
     "text": [
      "Today: 2020-07-26\n",
      "Tomorrow: 2020-07-27\n",
      "Yesterday: 2020-07-25\n"
     ]
    }
   ],
   "source": [
    "import numpy as np\n",
    "Today=np.datetime64(\"Today\",\"D\")\n",
    "Tomorrow=np.datetime64(\"Today\",\"D\")+np.timedelta64(1,\"D\")\n",
    "Yesterday=np.datetime64(\"Today\",\"D\")-np.timedelta64(1,\"D\")\n",
    "print(\"Today:\",Today)\n",
    "print(\"Tomorrow:\",Tomorrow)\n",
    "print(\"Yesterday:\",Yesterday)"
   ]
  },
  {
   "cell_type": "markdown",
   "metadata": {},
   "source": [
    "Question 7"
   ]
  },
  {
   "cell_type": "markdown",
   "metadata": {},
   "source": [
    "Consider two random array A and B, check if they are equal"
   ]
  },
  {
   "cell_type": "code",
   "execution_count": 60,
   "metadata": {},
   "outputs": [
    {
     "name": "stdout",
     "output_type": "stream",
     "text": [
      "[[0.27786251 0.15713884 0.95029077]\n",
      " [0.95234214 0.23392006 0.57959458]\n",
      " [0.16494856 0.14374381 0.46351319]]\n",
      "[[0.48198839 0.18141117 0.92019017]\n",
      " [0.9915869  0.08658747 0.2942602 ]\n",
      " [0.19496694 0.23991933 0.37385305]]\n",
      "Array's are not Equal \n"
     ]
    }
   ],
   "source": [
    "import numpy as np\n",
    "Array_A=np.random.random((3,3))\n",
    "Array_B=np.random.random((3,3))\n",
    "print(Array_A)\n",
    "print(Array_B)\n",
    "Equal=np.allclose(Array_A,Array_B)\n",
    "if Equal==False:\n",
    "    print(\"Array's are not Equal \")\n",
    "else:\n",
    "    print(\"Array's are Equal \")"
   ]
  },
  {
   "cell_type": "markdown",
   "metadata": {},
   "source": [
    "Question 8"
   ]
  },
  {
   "cell_type": "markdown",
   "metadata": {},
   "source": [
    "create random vector of size 10 and replace the maximum value by 0"
   ]
  },
  {
   "cell_type": "code",
   "execution_count": 61,
   "metadata": {},
   "outputs": [
    {
     "name": "stdout",
     "output_type": "stream",
     "text": [
      "[0.52743186 0.85552055 0.92114763 0.37417786 0.94394256 0.92941676\n",
      " 0.9955701  0.20989433 0.39389641 0.28676814]\n",
      "[0.52743186 0.85552055 0.92114763 0.37417786 0.94394256 0.92941676\n",
      " 0.         0.20989433 0.39389641 0.28676814]\n"
     ]
    }
   ],
   "source": [
    "import numpy as np\n",
    "x=np.random.random(10)\n",
    "vec=np.array(x)\n",
    "print(vec)\n",
    "vec[vec.argmax()]=int(0)\n",
    "print(vec)"
   ]
  },
  {
   "cell_type": "markdown",
   "metadata": {},
   "source": [
    "Question 9"
   ]
  },
  {
   "cell_type": "markdown",
   "metadata": {},
   "source": [
    "How to print all the values of an array?"
   ]
  },
  {
   "cell_type": "code",
   "execution_count": 62,
   "metadata": {},
   "outputs": [
    {
     "name": "stdout",
     "output_type": "stream",
     "text": [
      "[[1 2 3 4]\n",
      " [5 6 7 8]]\n"
     ]
    }
   ],
   "source": [
    "import numpy as np\n",
    "arr=np.array([[1,2,3,4],[5,6,7,8]])\n",
    "print(arr)"
   ]
  },
  {
   "cell_type": "markdown",
   "metadata": {},
   "source": [
    "Question 10"
   ]
  },
  {
   "cell_type": "markdown",
   "metadata": {},
   "source": [
    "Subtract the mean of each row of a matrix"
   ]
  },
  {
   "cell_type": "code",
   "execution_count": 31,
   "metadata": {},
   "outputs": [
    {
     "name": "stdout",
     "output_type": "stream",
     "text": [
      "[[98 34 56]\n",
      " [84 65 23]]\n",
      "[[ 35.33333333 -28.66666667  -6.66666667]\n",
      " [ 26.66666667   7.66666667 -34.33333333]]\n"
     ]
    }
   ],
   "source": [
    "import numpy as np\n",
    "arr=np.array([[98,34,56],[84,65,23]])\n",
    "print(arr)\n",
    "x=arr.mean(axis=1,keepdims=True)\n",
    "print(arr-x)"
   ]
  },
  {
   "cell_type": "markdown",
   "metadata": {},
   "source": [
    "Question 11"
   ]
  },
  {
   "cell_type": "markdown",
   "metadata": {},
   "source": [
    "Consider a given vector, how to add 1 to each element indexed by a second vector (be careful with repeated indices)?"
   ]
  },
  {
   "cell_type": "code",
   "execution_count": 63,
   "metadata": {},
   "outputs": [
    {
     "name": "stdout",
     "output_type": "stream",
     "text": [
      "[2 2 2 3 2 2 3 3 4 2]\n"
     ]
    }
   ],
   "source": [
    "import numpy as np\n",
    "arr=np.ones(10,dtype=int)\n",
    "rand=np.random.randint(0,len(arr),15)\n",
    "np.add.at(arr,rand,1)\n",
    "print(arr)"
   ]
  },
  {
   "cell_type": "markdown",
   "metadata": {},
   "source": [
    "Question 12"
   ]
  },
  {
   "cell_type": "markdown",
   "metadata": {},
   "source": [
    "How to get the diagonal of a dot product?"
   ]
  },
  {
   "cell_type": "code",
   "execution_count": 64,
   "metadata": {},
   "outputs": [
    {
     "name": "stdout",
     "output_type": "stream",
     "text": [
      "[19 50]\n"
     ]
    }
   ],
   "source": [
    "import numpy as np\n",
    "arr=np.array([[1,2],[3,4]])\n",
    "arr1=np.array([[5,6],[7,8]])\n",
    "dot=arr.dot(arr1)\n",
    "diag=np.diag(dot)\n",
    "print(diag)"
   ]
  },
  {
   "cell_type": "markdown",
   "metadata": {},
   "source": [
    "Question 13"
   ]
  },
  {
   "cell_type": "markdown",
   "metadata": {},
   "source": [
    "How to find the most frequent value in an array?"
   ]
  },
  {
   "cell_type": "code",
   "execution_count": 65,
   "metadata": {},
   "outputs": [
    {
     "name": "stdout",
     "output_type": "stream",
     "text": [
      "54\n"
     ]
    }
   ],
   "source": [
    "import numpy as np\n",
    "arr=np.array([33,54,65,234,653,324,56,54,9,399,24,54,33,234,53,64,54])\n",
    "most=np.bincount(arr).argmax()\n",
    "print(most)"
   ]
  },
  {
   "cell_type": "markdown",
   "metadata": {},
   "source": [
    "Question 14"
   ]
  },
  {
   "cell_type": "markdown",
   "metadata": {},
   "source": [
    "How to get the n largest values of an array"
   ]
  },
  {
   "cell_type": "code",
   "execution_count": 46,
   "metadata": {},
   "outputs": [],
   "source": [
    "#This qustion was a bit hard so i searched for it on internet and got something similar to below program"
   ]
  },
  {
   "cell_type": "code",
   "execution_count": 66,
   "metadata": {},
   "outputs": [
    {
     "name": "stdout",
     "output_type": "stream",
     "text": [
      "[996 997 998 999]\n"
     ]
    }
   ],
   "source": [
    "import numpy as np\n",
    "arr=np.arange(1000)\n",
    "np.random.shuffle(arr)\n",
    "no=4\n",
    "print(arr[np.argsort(arr)[-no:]])\n"
   ]
  },
  {
   "cell_type": "markdown",
   "metadata": {},
   "source": [
    "Question 15"
   ]
  },
  {
   "cell_type": "markdown",
   "metadata": {},
   "source": [
    "How to create a record array from a regular array?"
   ]
  },
  {
   "cell_type": "code",
   "execution_count": 67,
   "metadata": {},
   "outputs": [
    {
     "name": "stdout",
     "output_type": "stream",
     "text": [
      "[[1 2 3 4]\n",
      " [5 6 7 8]]\n",
      "[(1, 2, 3, 4) (5, 6, 7, 8)]\n"
     ]
    }
   ],
   "source": [
    "import numpy as np\n",
    "arr=np.array([[1,2,3,4],[5,6,7,8]])\n",
    "print(arr)\n",
    "record=np.core.records.fromarrays(arr.T)\n",
    "print(record)"
   ]
  },
  {
   "cell_type": "code",
   "execution_count": null,
   "metadata": {},
   "outputs": [],
   "source": []
  }
 ],
 "metadata": {
  "kernelspec": {
   "display_name": "Python 3",
   "language": "python",
   "name": "python3"
  },
  "language_info": {
   "codemirror_mode": {
    "name": "ipython",
    "version": 3
   },
   "file_extension": ".py",
   "mimetype": "text/x-python",
   "name": "python",
   "nbconvert_exporter": "python",
   "pygments_lexer": "ipython3",
   "version": "3.7.6"
  }
 },
 "nbformat": 4,
 "nbformat_minor": 4
}
