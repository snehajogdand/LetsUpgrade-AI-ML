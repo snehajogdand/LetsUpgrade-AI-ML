{
 "cells": [
  {
   "cell_type": "markdown",
   "metadata": {},
   "source": [
    "Question 1"
   ]
  },
  {
   "cell_type": "code",
   "execution_count": 1,
   "metadata": {},
   "outputs": [
    {
     "name": "stdout",
     "output_type": "stream",
     "text": [
      "Enter your Email Address:sneha@yahoo.com\n",
      "yahoo"
     ]
    }
   ],
   "source": [
    "ch=0\n",
    "n=0\n",
    "Email=input(\"Enter your Email Address:\")\n",
    "for i in Email:\n",
    "    if (i=='@'):\n",
    "        ch=1\n",
    "        continue\n",
    "    if ch==1:\n",
    "        if i=='.':\n",
    "            break\n",
    "        print(i,end=\"\")"
   ]
  },
  {
   "cell_type": "markdown",
   "metadata": {},
   "source": [
    "Question 2"
   ]
  },
  {
   "cell_type": "code",
   "execution_count": 2,
   "metadata": {},
   "outputs": [
    {
     "name": "stdout",
     "output_type": "stream",
     "text": [
      "Enter comma seperated words:without,hello,bag,world\n",
      "bag,hello,without,world\n"
     ]
    }
   ],
   "source": [
    "def seq(a):\n",
    "    n=a.split(',')\n",
    "    n= sorted(n)\n",
    "    return ','.join(n)\n",
    "\n",
    "l=(input(\"Enter comma seperated words:\"))\n",
    "print(seq(l))"
   ]
  },
  {
   "cell_type": "markdown",
   "metadata": {},
   "source": [
    "Question 4"
   ]
  },
  {
   "cell_type": "code",
   "execution_count": 3,
   "metadata": {},
   "outputs": [
    {
     "name": "stdout",
     "output_type": "stream",
     "text": [
      "3\n"
     ]
    }
   ],
   "source": [
    "l=[5,4,6,2,1]\n",
    "n=len(l)\n",
    "import functools\n",
    "from functools import reduce\n",
    "def sqr(a,b):\n",
    "    return a+b\n",
    "x=reduce(sqr,l)\n",
    "sum_=0\n",
    "for i in range(n+2):\n",
    "    sum_=sum_+i\n",
    "missing=sum_-x\n",
    "print(missing)"
   ]
  },
  {
   "cell_type": "markdown",
   "metadata": {},
   "source": [
    "Question 5"
   ]
  },
  {
   "cell_type": "code",
   "execution_count": 4,
   "metadata": {},
   "outputs": [
    {
     "name": "stdout",
     "output_type": "stream",
     "text": [
      "[12, 24, 35, 88, 120, 155]\n"
     ]
    }
   ],
   "source": [
    "l=[]\n",
    "x=[12,24,35,24,88,120,155,88,120,155]\n",
    "for i in x:\n",
    "    if i not in l:\n",
    "        l.append(i)\n",
    "print(l)"
   ]
  },
  {
   "cell_type": "code",
   "execution_count": null,
   "metadata": {},
   "outputs": [],
   "source": []
  }
 ],
 "metadata": {
  "kernelspec": {
   "display_name": "Python 3",
   "language": "python",
   "name": "python3"
  },
  "language_info": {
   "codemirror_mode": {
    "name": "ipython",
    "version": 3
   },
   "file_extension": ".py",
   "mimetype": "text/x-python",
   "name": "python",
   "nbconvert_exporter": "python",
   "pygments_lexer": "ipython3",
   "version": "3.7.6"
  }
 },
 "nbformat": 4,
 "nbformat_minor": 4
}
