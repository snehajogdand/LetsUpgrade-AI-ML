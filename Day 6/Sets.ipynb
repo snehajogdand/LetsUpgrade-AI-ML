{
 "cells": [
  {
   "cell_type": "markdown",
   "metadata": {},
   "source": [
    "Question 3"
   ]
  },
  {
   "cell_type": "markdown",
   "metadata": {},
   "source": [
    "# Sets"
   ]
  },
  {
   "cell_type": "raw",
   "metadata": {},
   "source": [
    "A sets is a collection of elements.\n",
    "Set is onordered and unindexed.\n",
    "They are written in curly backets.\n",
    "eg-s={\"sneha\",25,32.6,12.5,214,\"table\",\"hello\"}\n",
    "We cannot access item using indices as sets are unordered and unindexed.\n",
    "But we can use it in for loop or using in keyword.\n",
    "s={\"sneha\",25,32.6,12.5,214,\"table\",\"hello\"}\n",
    "for i in s:\n",
    "    print(i)\n",
    "print(50 in s)\n",
    "We cannot change the items in sets but we can add item using add()\n",
    "eg- s.add(\"chair\")\n",
    "One can add multiple items in setd using update()\n",
    "eg- s.update(21,35,\"pubg\")\n",
    "len() can be used to find length of set\n",
    "remove(),discard() are used to remove item\n",
    "pop() can be used to remove last item in set\n",
    "empty() is used to clear whole set\n",
    "del keyword will delete the set.\n",
    "eg- del s\n",
    "sets has various method like string and list.\n",
    "we can find out other methods on internet"
   ]
  },
  {
   "cell_type": "code",
   "execution_count": 2,
   "metadata": {},
   "outputs": [
    {
     "name": "stdout",
     "output_type": "stream",
     "text": [
      "{32.6, 'hello', 'sneha', 12.5, 214, 25, 'table'}\n"
     ]
    }
   ],
   "source": [
    "s={\"sneha\",25,32.6,12.5,214,\"table\",\"hello\"}\n",
    "print(s)"
   ]
  },
  {
   "cell_type": "code",
   "execution_count": 3,
   "metadata": {},
   "outputs": [
    {
     "name": "stdout",
     "output_type": "stream",
     "text": [
      "{'hello', 'sneha', 12.5, 214, 25, 'table'}\n"
     ]
    }
   ],
   "source": [
    "s.pop()\n",
    "print(s)"
   ]
  },
  {
   "cell_type": "code",
   "execution_count": 4,
   "metadata": {},
   "outputs": [
    {
     "name": "stdout",
     "output_type": "stream",
     "text": [
      "{'hello', 100, 'sneha', 12.5, 214, 25, 'table'}\n",
      "{'hello', 100, 'sneha', 214, 25, 'table'}\n"
     ]
    }
   ],
   "source": [
    "s.add(100)\n",
    "print(s)\n",
    "s.discard(12.5)\n",
    "print(s)"
   ]
  },
  {
   "cell_type": "code",
   "execution_count": 14,
   "metadata": {},
   "outputs": [
    {
     "data": {
      "text/plain": [
       "{2.3, 35, 60, 'cook', 'fan', 'letsupgrade', 'table'}"
      ]
     },
     "execution_count": 14,
     "metadata": {},
     "output_type": "execute_result"
    }
   ],
   "source": [
    "s1={\"fan\",35,2.3,45,\"cook\",\"letsupgrade\",35,\"table\",60,21.3,35}\n",
    "s2={99,3.6,42,\"guide\",26,45,21.3,\"study\",99,100}\n",
    "s1.difference(s2)"
   ]
  },
  {
   "cell_type": "code",
   "execution_count": 15,
   "metadata": {},
   "outputs": [
    {
     "data": {
      "text/plain": [
       "{21.3, 45}"
      ]
     },
     "execution_count": 15,
     "metadata": {},
     "output_type": "execute_result"
    }
   ],
   "source": [
    "s1.intersection(s2)"
   ]
  },
  {
   "cell_type": "code",
   "execution_count": 16,
   "metadata": {},
   "outputs": [
    {
     "data": {
      "text/plain": [
       "False"
      ]
     },
     "execution_count": 16,
     "metadata": {},
     "output_type": "execute_result"
    }
   ],
   "source": [
    "s1.isdisjoint(s2)"
   ]
  },
  {
   "cell_type": "code",
   "execution_count": 17,
   "metadata": {},
   "outputs": [
    {
     "data": {
      "text/plain": [
       "False"
      ]
     },
     "execution_count": 17,
     "metadata": {},
     "output_type": "execute_result"
    }
   ],
   "source": [
    "s1.issubset(s2)"
   ]
  },
  {
   "cell_type": "code",
   "execution_count": 18,
   "metadata": {},
   "outputs": [
    {
     "data": {
      "text/plain": [
       "{100,\n",
       " 2.3,\n",
       " 26,\n",
       " 3.6,\n",
       " 35,\n",
       " 42,\n",
       " 60,\n",
       " 99,\n",
       " 'cook',\n",
       " 'fan',\n",
       " 'guide',\n",
       " 'letsupgrade',\n",
       " 'study',\n",
       " 'table'}"
      ]
     },
     "execution_count": 18,
     "metadata": {},
     "output_type": "execute_result"
    }
   ],
   "source": [
    "s1.symmetric_difference(s2)"
   ]
  },
  {
   "cell_type": "code",
   "execution_count": 19,
   "metadata": {},
   "outputs": [],
   "source": [
    "s1.update(s2)"
   ]
  },
  {
   "cell_type": "code",
   "execution_count": 20,
   "metadata": {},
   "outputs": [
    {
     "name": "stdout",
     "output_type": "stream",
     "text": [
      "{2.3, 35, 3.6, 99, 'letsupgrade', 100, 26, 42, 45, 60, 'cook', 21.3, 'guide', 'study', 'table', 'fan'}\n",
      "{3.6, 99, 100, 42, 45, 'study', 21.3, 'guide', 26}\n"
     ]
    }
   ],
   "source": [
    "print(s1)\n",
    "print(s2)"
   ]
  },
  {
   "cell_type": "code",
   "execution_count": null,
   "metadata": {},
   "outputs": [],
   "source": []
  }
 ],
 "metadata": {
  "kernelspec": {
   "display_name": "Python 3",
   "language": "python",
   "name": "python3"
  },
  "language_info": {
   "codemirror_mode": {
    "name": "ipython",
    "version": 3
   },
   "file_extension": ".py",
   "mimetype": "text/x-python",
   "name": "python",
   "nbconvert_exporter": "python",
   "pygments_lexer": "ipython3",
   "version": "3.7.6"
  }
 },
 "nbformat": 4,
 "nbformat_minor": 4
}
