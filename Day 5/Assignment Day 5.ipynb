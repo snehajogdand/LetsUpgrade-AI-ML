{
 "cells": [
  {
   "cell_type": "markdown",
   "metadata": {},
   "source": [
    "Question 1"
   ]
  },
  {
   "cell_type": "code",
   "execution_count": 7,
   "metadata": {},
   "outputs": [
    {
     "name": "stdout",
     "output_type": "stream",
     "text": [
      "[3, 5, 7, 11, 13, 17, 19, 23, 29, 31, 37, 41, 43, 47, 53, 59, 61, 67, 71, 73]\n"
     ]
    }
   ],
   "source": [
    "prime=[]\n",
    "for i in range(3,75):\n",
    "    for n in range(2,i):\n",
    "        if i%n==0:\n",
    "            break\n",
    "    else:\n",
    "        if len(prime)==20:\n",
    "            break\n",
    "        else:\n",
    "            if i%2!=0:       \n",
    "                prime.append(i)\n",
    "print(prime)"
   ]
  },
  {
   "cell_type": "markdown",
   "metadata": {},
   "source": [
    "Question 2"
   ]
  },
  {
   "cell_type": "code",
   "execution_count": 8,
   "metadata": {},
   "outputs": [
    {
     "name": "stdout",
     "output_type": "stream",
     "text": [
      "5\n",
      "hello 500 letsupgraders,are you enjoying the session?\n",
      "12\n",
      "4\n",
      "Hello 500 letsupgraders,are you enjoying the session?\n",
      "False\n",
      "False\n",
      "False\n",
      "False\n",
      "Hello 500 LetaUpgradera,Are you Enjoying the aeaaion?\n",
      "HELLO 500 LETSUPGRADERS,ARE YOU ENJOYING THE SESSION?\n",
      "hello 500 letsupgraders,are you enjoying the session?\n",
      "['Hello', '500', 'LetsUpgraders,Are', 'you', 'Enjoying', 'the', 'session?']\n",
      "False\n",
      "True\n"
     ]
    }
   ],
   "source": [
    "string=\"Hello 500 LetsUpgraders,Are you Enjoying the session?\"\n",
    "print(string.count(\"s\"))\n",
    "print(string.casefold())\n",
    "print(string.find(\"t\"))\n",
    "print(string.index(\"o\"))\n",
    "print(string.capitalize())\n",
    "print(string.isalnum())\n",
    "print(string.isalpha())\n",
    "print(string.isdigit())\n",
    "print(string.isidentifier())\n",
    "print(string.replace(\"s\",\"a\"))\n",
    "print(string.upper())\n",
    "print(string.lower())\n",
    "print(string.split())\n",
    "print(string.isspace())\n",
    "print(string.startswith(\"H\"))"
   ]
  },
  {
   "cell_type": "markdown",
   "metadata": {},
   "source": [
    "Question 3"
   ]
  },
  {
   "cell_type": "code",
   "execution_count": 9,
   "metadata": {},
   "outputs": [
    {
     "name": "stdout",
     "output_type": "stream",
     "text": [
      "Enter the string:madam\n",
      "Enter second string:listen\n",
      "madam  is palindrome string\n"
     ]
    }
   ],
   "source": [
    "string=input(\"Enter the string:\")\n",
    "string1=input(\"Enter second string:\")\n",
    "if string==string[::-1]:\n",
    "    print(string,\" is palindrome string\")\n",
    "    if string1==string1[::-1]:\n",
    "        print(string1,\" is palindrome string\")\n",
    "else:\n",
    "    if sorted(string)==sorted(string1):\n",
    "        print(string,\" and \",string1,\" is anagram\")\n",
    "    else:\n",
    "        print(\"None of them\")"
   ]
  },
  {
   "cell_type": "markdown",
   "metadata": {},
   "source": [
    "Question 4"
   ]
  },
  {
   "cell_type": "code",
   "execution_count": 11,
   "metadata": {},
   "outputs": [
    {
     "name": "stdout",
     "output_type": "stream",
     "text": [
      "Enter the string:Hello 500 LetsUpgraders at our #forum\n",
      "helloletsupgradersatourforum\n"
     ]
    }
   ],
   "source": [
    "def demo(st):\n",
    "    for i in st:\n",
    "        if not(i.isalpha()):\n",
    "            st=st.replace(i,\"\")\n",
    "    st=st.lower()\n",
    "    print(st)\n",
    "    \n",
    "string=input(\"Enter the string:\")\n",
    "demo(string)"
   ]
  },
  {
   "cell_type": "code",
   "execution_count": null,
   "metadata": {},
   "outputs": [],
   "source": []
  }
 ],
 "metadata": {
  "kernelspec": {
   "display_name": "Python 3",
   "language": "python",
   "name": "python3"
  },
  "language_info": {
   "codemirror_mode": {
    "name": "ipython",
    "version": 3
   },
   "file_extension": ".py",
   "mimetype": "text/x-python",
   "name": "python",
   "nbconvert_exporter": "python",
   "pygments_lexer": "ipython3",
   "version": "3.7.6"
  }
 },
 "nbformat": 4,
 "nbformat_minor": 4
}
