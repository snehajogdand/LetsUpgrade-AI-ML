{
 "cells": [
  {
   "cell_type": "markdown",
   "metadata": {},
   "source": [
    "Question 1"
   ]
  },
  {
   "cell_type": "code",
   "execution_count": 3,
   "metadata": {},
   "outputs": [
    {
     "name": "stdout",
     "output_type": "stream",
     "text": [
      "Addition of  (5+2j)  and  (8-3j)  is  (13-1j)\n",
      "Subtraction of  (5+2j)  and  (8-3j)  is  (-3+5j)\n",
      "Multiplication of  (5+2j)  and  (8-3j)  is  (46+1j)\n",
      "Division of  (5+2j)  and  (8-3j)  is  (0.4657534246575342+0.4246575342465753j)\n"
     ]
    }
   ],
   "source": [
    "number_1=5+2j\n",
    "number_2=8-3j\n",
    "# In addition of complex numbers simply values are added\n",
    "print(\"Addition of \",number_1,\" and \",number_2,\" is \",number_1+number_2)\n",
    "# In subtraction of complex numbers simply values are subtracted\n",
    "print(\"Subtraction of \",number_1,\" and \",number_2,\" is \",number_1-number_2)\n",
    "#In multiplication od complex numbers first complex number elements are multiplied with each elements of other comple number\n",
    "# like formula (a+b)*(c+d)and the last sqare term is added to first element\n",
    "# (5+2j)*(8-3j)\n",
    "# 40-15j+16j-6j^2\n",
    "# here the last value j^2 j is replaced by (-1)\n",
    "print(\"Multiplication of \",number_1,\" and \",number_2,\" is \",number_1*number_2)\n",
    "# To find division of complex number you have to multiply he conjugate of denominator by changinf sign between them\n",
    "# solve numerator and denominator part and insert (-1) at j^2\n",
    "print(\"Division of \",number_1,\" and \",number_2,\" is \",number_1/number_2)\n",
    "#In python the floor of complex number is not possible\n",
    "#print(\"Floor Division of \",number_1,\" and \",number_2,\" is \",number_1//number_2)\n",
    "#In python the modulus of complex number is not possible \n",
    "#print(\"Modulus of \",number_1,\" and \",number_2,\" is \",number_1%number_2)\n"
   ]
  },
  {
   "cell_type": "markdown",
   "metadata": {},
   "source": [
    "Question 2"
   ]
  },
  {
   "cell_type": "markdown",
   "metadata": {},
   "source": [
    "range()\n",
    "range() function in python gives the value till the given value in the parenthesis \n",
    "Eg-range(5)\n",
    "it will give the output as \n",
    "0\n",
    "1\n",
    "2\n",
    "3\n",
    "4\n",
    "after this it wont print 5 and it stops.\n",
    "It always starts from 0\n",
    "Range()will print sequence of numbers\n",
    "__Parametes__\n",
    "Range() has 3 parameters\n",
    "___Start___\n",
    "This parameter is optional and by default it start from 0.\n",
    "value will start from the given start number till specified number.\n",
    "___Stop___\n",
    "This parameter is compuilsory required.\n",
    "___Step___\n",
    "This parameter is optional and by default it inceases the value by 1.\n",
    "eg-sequence of numbers from 1 to 10 with incrementa of 2 \n",
    "range(1,11,2)\n",
    "first starting value,last value and then incementing value(step) is given in sequence\n",
    "as we have to print numbers till 10 we will give stop value 11.\n",
    "Range atleast require one parameter or else it will give an error"
   ]
  },
  {
   "cell_type": "code",
   "execution_count": 9,
   "metadata": {},
   "outputs": [
    {
     "name": "stdout",
     "output_type": "stream",
     "text": [
      "1\n",
      "3\n",
      "5\n",
      "7\n",
      "9\n"
     ]
    }
   ],
   "source": [
    "for a in range(1,11,2):\n",
    "    print(a)"
   ]
  },
  {
   "cell_type": "code",
   "execution_count": 10,
   "metadata": {},
   "outputs": [
    {
     "name": "stdout",
     "output_type": "stream",
     "text": [
      "1\n",
      "2\n",
      "3\n",
      "4\n",
      "5\n",
      "6\n",
      "7\n",
      "8\n",
      "9\n",
      "10\n"
     ]
    }
   ],
   "source": [
    "for a in range(1,11):\n",
    "    print(a)"
   ]
  },
  {
   "cell_type": "markdown",
   "metadata": {},
   "source": [
    "Question 3"
   ]
  },
  {
   "cell_type": "code",
   "execution_count": 14,
   "metadata": {},
   "outputs": [
    {
     "name": "stdout",
     "output_type": "stream",
     "text": [
      "Subtraction of  55  and  25  is  30\n",
      "Multiplication is  1375\n"
     ]
    }
   ],
   "source": [
    "number_1=55\n",
    "number_2=25\n",
    "subtraction=number_1-number_2\n",
    "print(\"Subtraction of \",number_1,\" and \",number_2,\" is \",subtraction)\n",
    "if subtraction>25:\n",
    "    print(\"Multiplication is \",number_1*number_2)\n",
    "else:\n",
    "    print(\"Division is \",number_1/number_2)"
   ]
  },
  {
   "cell_type": "markdown",
   "metadata": {},
   "source": [
    "Question 4"
   ]
  },
  {
   "cell_type": "code",
   "execution_count": 20,
   "metadata": {},
   "outputs": [
    {
     "name": "stdout",
     "output_type": "stream",
     "text": [
      "4.782329983125268\n",
      "3.6568542494923806\n",
      "6.124038404635961\n",
      "6.717797887081348\n",
      "7.899494936611665\n"
     ]
    }
   ],
   "source": [
    "lst=[25,46,32,85,95,15,66,76,98,43]\n",
    "for i in lst:\n",
    "    if i%2==0:\n",
    "        print(i**0.5-2)"
   ]
  },
  {
   "cell_type": "markdown",
   "metadata": {},
   "source": [
    "Question 5"
   ]
  },
  {
   "cell_type": "code",
   "execution_count": 23,
   "metadata": {},
   "outputs": [
    {
     "name": "stdout",
     "output_type": "stream",
     "text": [
      "21\n",
      "23\n",
      "32\n",
      "99\n",
      "68\n",
      "46\n"
     ]
    }
   ],
   "source": [
    "l=[21,23,9,4,32,10,5,99,68,46]\n",
    "for i in l:\n",
    "    if i/2>7:\n",
    "        print(i)"
   ]
  },
  {
   "cell_type": "code",
   "execution_count": null,
   "metadata": {},
   "outputs": [],
   "source": []
  }
 ],
 "metadata": {
  "kernelspec": {
   "display_name": "Python 3",
   "language": "python",
   "name": "python3"
  },
  "language_info": {
   "codemirror_mode": {
    "name": "ipython",
    "version": 3
   },
   "file_extension": ".py",
   "mimetype": "text/x-python",
   "name": "python",
   "nbconvert_exporter": "python",
   "pygments_lexer": "ipython3",
   "version": "3.7.6"
  }
 },
 "nbformat": 4,
 "nbformat_minor": 4
}
