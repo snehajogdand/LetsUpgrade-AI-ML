{
 "cells": [
  {
   "cell_type": "code",
   "execution_count": 1,
   "metadata": {},
   "outputs": [
    {
     "name": "stdout",
     "output_type": "stream",
     "text": [
      "(3+3j)\n"
     ]
    }
   ],
   "source": [
    "number_1=8+5j\n",
    "number_2=5+2j\n",
    "print(number_1-number_2)\n"
   ]
  },
  {
   "cell_type": "code",
   "execution_count": 3,
   "metadata": {},
   "outputs": [
    {
     "data": {
      "text/plain": [
       "'\\nnumber=81\\nfor i in range(1,100):\\n    if i*i*i*i==81:\\n        print(\"Fourth root of 81 is \",i)'"
      ]
     },
     "execution_count": 3,
     "metadata": {},
     "output_type": "execute_result"
    }
   ],
   "source": [
    "#here i have used for loop\n",
    "\"\"\"\n",
    "number=81\n",
    "for i in range(1,100):\n",
    "    if i*i*i*i==81:\n",
    "        print(\"Fourth root of 81 is \",i)\"\"\""
   ]
  },
  {
   "cell_type": "code",
   "execution_count": 8,
   "metadata": {},
   "outputs": [
    {
     "name": "stdout",
     "output_type": "stream",
     "text": [
      "Fourth root of 81 is  3.0\n"
     ]
    }
   ],
   "source": [
    "number=81\n",
    "root=(((81/3)/3)/3)\n",
    "print(\"Fourth root of 81 is \",root)"
   ]
  },
  {
   "cell_type": "code",
   "execution_count": 12,
   "metadata": {},
   "outputs": [
    {
     "name": "stdout",
     "output_type": "stream",
     "text": [
      "Numbers before swap are number_1= 5  and number_2= 6\n",
      "Numbers after swap are number_1= 6  and number_2= 5\n"
     ]
    }
   ],
   "source": [
    "number_1=5\n",
    "number_2=6\n",
    "print(\"Numbers before swap are number_1=\",number_1,\" and number_2=\",number_2)\n",
    "temp=number_1\n",
    "number_1=number_2\n",
    "number_2=temp\n",
    "print(\"Numbers after swap are number_1=\",number_1,\" and number_2=\",number_2)"
   ]
  },
  {
   "cell_type": "code",
   "execution_count": 13,
   "metadata": {},
   "outputs": [
    {
     "name": "stdout",
     "output_type": "stream",
     "text": [
      "Numbers before swap are number_1= 5  and number_2= 6\n",
      "Numbers after swap are number_1= 6  and number_2= 5\n"
     ]
    }
   ],
   "source": [
    "number_1=5\n",
    "number_2=6\n",
    "print(\"Numbers before swap are number_1=\",number_1,\" and number_2=\",number_2)\n",
    "number_1=number_1+number_2\n",
    "number_2=number_1-number_2\n",
    "number_1=number_1-number_2\n",
    "print(\"Numbers after swap are number_1=\",number_1,\" and number_2=\",number_2)"
   ]
  },
  {
   "cell_type": "code",
   "execution_count": 15,
   "metadata": {},
   "outputs": [
    {
     "name": "stdout",
     "output_type": "stream",
     "text": [
      "35 Fahrenheit is  274.81666666666666 Kelvin\n",
      "35 Fahrenheit is 1.6666666666666667 Celsius\n"
     ]
    }
   ],
   "source": [
    "Fahrenheit=35\n",
    "Kelvin=(Fahrenheit-32)*(5/9)+273.15\n",
    "Celsius=(Fahrenheit-32)*(5/9)\n",
    "print(35,\"Fahrenheit is \",Kelvin,\"Kelvin\")\n",
    "print(35,\"Fahrenheit is\",Celsius,\"Celsius\")"
   ]
  },
  {
   "cell_type": "code",
   "execution_count": 17,
   "metadata": {},
   "outputs": [
    {
     "name": "stdout",
     "output_type": "stream",
     "text": [
      "<class 'int'>\n",
      "<class 'float'>\n",
      "<class 'str'>\n",
      "<class 'complex'>\n",
      "<class 'list'>\n",
      "<class 'tuple'>\n",
      "<class 'dict'>\n",
      "<class 'set'>\n",
      "<class 'range'>\n"
     ]
    }
   ],
   "source": [
    "#data types like list,tuple,dictionary,set,range I've learned in Python course at LetsUpgrade\n",
    "integer=25\n",
    "float_=46.2\n",
    "string_=\"I Love LetsUpgrade\"\n",
    "complex_=3+5j\n",
    "lst=[\"apple\",35,4.3,\"television\"]\n",
    "tup=(\"name\",25,37.36,\"laptop\")\n",
    "dic={\"name\":\"sneha\",\"surname\":\"jogdand\",\"age\":18}\n",
    "set_={\"cartoon\",\"cook\",\"game\"}\n",
    "range_=range(5)\n",
    "print(type(integer))\n",
    "print(type(float_))\n",
    "print(type(string_))\n",
    "print(type(complex_))\n",
    "print(type(lst))\n",
    "print(type(tup))\n",
    "print(type(dic))\n",
    "print(type(set_))\n",
    "print(type(range_))"
   ]
  },
  {
   "cell_type": "markdown",
   "metadata": {},
   "source": [
    "Steps to create Github profile and Upload Githubs Assignment link\n",
    "Step1:First create the folder in any drive that you want and name it as the Day of course(eg-Day3).\n",
    "Step2:Save the your jupyter notebook in that folder.\n",
    "Step3:Go to github.com site.\n",
    "Step4:If you already have Github account then sign in through it else sign up for Github using your Gmail.\n",
    "Step5:Now sign in to your Github account and go to Repositories and click on new button to create new Repository.\n",
    "Step6:You will see the heading as Create a new repository.Give your Repository name as LetsUpgrade AI/ML and give it a description as Assignment or whatever you want.\n",
    "Step7:Make sure that your Repository is Public so that it is open for everyone.Dont make it private.\n",
    "Step8:Then click on Create Repository.Now your repository is created.\n",
    "Step9:In that Repository you will see the link as uploading an existing file click on that.\n",
    "Step10:Now go to your folder in the drive where you have made folder as Day3(eg) and drag it in your Repository or simply you can choose the file.\n",
    "Step11:Now dont do anything just click on Commit Changes.\n",
    "Step12:You can revisit your Repository by clicking on your name given there so you will again go to your Repository and open your folder.\n",
    "Step13:Now copy the above URL and paste the link in assignment submission form shared by LetsUpgrade.Fill all the details in proper way as it is important and submit the details and assignment link.\n",
    "Step14:You will receive the mail on your registered mail for successful assignment submission.\n",
    "\n"
   ]
  }
 ],
 "metadata": {
  "kernelspec": {
   "display_name": "Python 3",
   "language": "python",
   "name": "python3"
  },
  "language_info": {
   "codemirror_mode": {
    "name": "ipython",
    "version": 3
   },
   "file_extension": ".py",
   "mimetype": "text/x-python",
   "name": "python",
   "nbconvert_exporter": "python",
   "pygments_lexer": "ipython3",
   "version": "3.7.6"
  }
 },
 "nbformat": 4,
 "nbformat_minor": 4
}
